{
 "cells": [
  {
   "cell_type": "markdown",
   "metadata": {},
   "source": [
    "# Polynomial regression\n",
    "\n",
    "An obious way to enhance the simple regression model {eq}`simple-lin-reg` is to add more powers of predictor $\\boldsymbol x$. For example, consider **quadratic regression**\n",
    "\n",
    "```{math}\n",
    "    :label: quad-reg\n",
    "    y = w_0 + w_1 x + w_2 x^2.\n",
    "```\n",
    "\n",
    "Now the model has three parameters $\\boldsymbol w = (w_0, w_1, w_2)$, which could be also fitted by optimizing of MSE:\n",
    "\n",
    "```{math}\n",
    ":label: quad-mse\n",
    "\\mathcal L(\\boldsymbol w) =  \\frac 1n\\sum\\limits_{i=1}^n (y_i  - w_0 - w_1x_i - w_2x_i^2)^2 \\to \\min\\limits_{\\boldsymbol w}.\n",
    "```"
   ]
  },
  {
   "cell_type": "markdown",
   "metadata": {},
   "source": [
    "(boston-quadratic)=\n",
    "## Revisit Boston dataset\n",
    "\n",
    "The data look quite suitable for a quadratic regression. Let's do a simple feature engineering and add new feature of squares. Now the design matrix has two columns:\n",
    "\n",
    "$$\n",
    "\\boldsymbol X = [\\boldsymbol x\\; \\boldsymbol x^2] = \\begin{pmatrix}\n",
    "x_1 & x_1^2 \\\\\n",
    "x_2 & x_2^2 \\\\\n",
    "\\vdots & \\vdots \\\\\n",
    "x_n & x_n^2\n",
    "\\end{pmatrix}.\n",
    "$$\n",
    "\n",
    "To fit the linear regression on the new dataset, once again use `sklearn` library:"
   ]
  },
  {
   "cell_type": "code",
   "execution_count": 63,
   "metadata": {},
   "outputs": [
    {
     "name": "stdout",
     "output_type": "stream",
     "text": [
      "intercept: 42.86200732816934\n",
      "coefficients: [-2.3328211   0.04354689]\n",
      "r-score: 0.6407168971636611\n",
      "MSE: 30.330520075853716\n"
     ]
    }
   ],
   "source": [
    "import pandas as pd\n",
    "import numpy as np\n",
    "from sklearn.linear_model import LinearRegression\n",
    "\n",
    "boston = pd.read_csv(\"../ISLP_datsets/Boston.csv\")\n",
    "\n",
    "x = boston['lstat']\n",
    "y = boston['medv']\n",
    "\n",
    "LR = LinearRegression()\n",
    "x_reshaped = x.values.reshape(-1, 1)\n",
    "x_train = np.hstack([x_reshaped, x_reshaped**2])\n",
    "LR.fit(x_train, y)\n",
    "print(\"intercept:\", LR.intercept_)\n",
    "print(\"coefficients:\", LR.coef_)\n",
    "print(\"r-score:\", LR.score(x_train, y))\n",
    "print(\"MSE:\", np.mean((LR.predict(x_train) - y) ** 2))"
   ]
  },
  {
   "cell_type": "markdown",
   "metadata": {},
   "source": [
    "Our metrics have improved, now plot the graphs:"
   ]
  },
  {
   "cell_type": "code",
   "execution_count": 64,
   "metadata": {},
   "outputs": [
    {
     "data": {
      "image/svg+xml": [
       "<?xml version=\"1.0\" encoding=\"utf-8\" standalone=\"no\"?>\n",
       "<!DOCTYPE svg PUBLIC \"-//W3C//DTD SVG 1.1//EN\"\n",
       "  \"http://www.w3.org/Graphics/SVG/1.1/DTD/svg11.dtd\">\n",
       "<svg xmlns:xlink=\"http://www.w3.org/1999/xlink\" width=\"404.923125pt\" height=\"310.86825pt\" viewBox=\"0 0 404.923125 310.86825\" xmlns=\"http://www.w3.org/2000/svg\" version=\"1.1\">\n",
       " <metadata>\n",
       "  <rdf:RDF xmlns:dc=\"http://purl.org/dc/elements/1.1/\" xmlns:cc=\"http://creativecommons.org/ns#\" xmlns:rdf=\"http://www.w3.org/1999/02/22-rdf-syntax-ns#\">\n",
       "   <cc:Work>\n",
       "    <dc:type rdf:resource=\"http://purl.org/dc/dcmitype/StillImage\"/>\n",
       "    <dc:date>2023-12-09T20:50:49.100797</dc:date>\n",
       "    <dc:format>image/svg+xml</dc:format>\n",
       "    <dc:creator>\n",
       "     <cc:Agent>\n",
       "      <dc:title>Matplotlib v3.8.1, https://matplotlib.org/</dc:title>\n",
       "     </cc:Agent>\n",
       "    </dc:creator>\n",
       "   </cc:Work>\n",
       "  </rdf:RDF>\n",
       " </metadata>\n",
       " <defs>\n",
       "  <style type=\"text/css\">*{stroke-linejoin: round; stroke-linecap: butt}</style>\n",
       " </defs>\n",
       " <g id=\"figure_1\">\n",
       "  <g id=\"patch_1\">\n",
       "   <path d=\"M 0 310.86825 \n",
       "L 404.923125 310.86825 \n",
       "L 404.923125 0 \n",
       "L 0 0 \n",
       "z\n",
       "\" style=\"fill: #ffffff\"/>\n",
       "  </g>\n",
       "  <g id=\"axes_1\">\n",
       "   <g id=\"patch_2\">\n",
       "    <path d=\"M 40.603125 273.312 \n",
       "L 397.723125 273.312 \n",
       "L 397.723125 7.2 \n",
       "L 40.603125 7.2 \n",
       "z\n",
       "\" style=\"fill: #ffffff\"/>\n",
       "   </g>\n",
       "   <g id=\"PathCollection_1\">\n",
       "    <defs>\n",
       "     <path id=\"m483f2f7c20\" d=\"M 0 1.581139 \n",
       "C 0.419323 1.581139 0.821528 1.41454 1.118034 1.118034 \n",
       "C 1.41454 0.821528 1.581139 0.419323 1.581139 0 \n",
       "C 1.581139 -0.419323 1.41454 -0.821528 1.118034 -1.118034 \n",
       "C 0.821528 -1.41454 0.419323 -1.581139 0 -1.581139 \n",
       "C -0.419323 -1.581139 -0.821528 -1.41454 -1.118034 -1.118034 \n",
       "C -1.41454 -0.821528 -1.581139 -0.419323 -1.581139 0 \n",
       "C -1.581139 0.419323 -1.41454 0.821528 -1.118034 1.118034 \n",
       "C -0.821528 1.41454 -0.419323 1.581139 0 1.581139 \n",
       "z\n",
       "\" style=\"stroke: #0000ff; stroke-opacity: 0.7\"/>\n",
       "    </defs>\n",
       "    <g clip-path=\"url(#p74d065fe7f)\">\n",
       "     <use xlink:href=\"#m483f2f7c20\" x=\"85.950843\" y=\"159.072\" style=\"fill: #0000ff; fill-opacity: 0.7; stroke: #0000ff; stroke-opacity: 0.7\"/>\n",
       "     <use xlink:href=\"#m483f2f7c20\" x=\"123.218032\" y=\"171.9744\" style=\"fill: #0000ff; fill-opacity: 0.7; stroke: #0000ff; stroke-opacity: 0.7\"/>\n",
       "     <use xlink:href=\"#m483f2f7c20\" x=\"77.440307\" y=\"101.5488\" style=\"fill: #0000ff; fill-opacity: 0.7; stroke: #0000ff; stroke-opacity: 0.7\"/>\n",
       "     <use xlink:href=\"#m483f2f7c20\" x=\"67.675587\" y=\"108.5376\" style=\"fill: #0000ff; fill-opacity: 0.7; stroke: #0000ff; stroke-opacity: 0.7\"/>\n",
       "     <use xlink:href=\"#m483f2f7c20\" x=\"89.086304\" y=\"93.4848\" style=\"fill: #0000ff; fill-opacity: 0.7; stroke: #0000ff; stroke-opacity: 0.7\"/>\n",
       "     <use xlink:href=\"#m483f2f7c20\" x=\"88.011289\" y=\"133.8048\" style=\"fill: #0000ff; fill-opacity: 0.7; stroke: #0000ff; stroke-opacity: 0.7\"/>\n",
       "     <use xlink:href=\"#m483f2f7c20\" x=\"152.691361\" y=\"164.9856\" style=\"fill: #0000ff; fill-opacity: 0.7; stroke: #0000ff; stroke-opacity: 0.7\"/>\n",
       "     <use xlink:href=\"#m483f2f7c20\" x=\"212.892204\" y=\"142.4064\" style=\"fill: #0000ff; fill-opacity: 0.7; stroke: #0000ff; stroke-opacity: 0.7\"/>\n",
       "     <use xlink:href=\"#m483f2f7c20\" x=\"309.464389\" y=\"199.392\" style=\"fill: #0000ff; fill-opacity: 0.7; stroke: #0000ff; stroke-opacity: 0.7\"/>\n",
       "     <use xlink:href=\"#m483f2f7c20\" x=\"194.527363\" y=\"186.4896\" style=\"fill: #0000ff; fill-opacity: 0.7; stroke: #0000ff; stroke-opacity: 0.7\"/>\n",
       "     <use xlink:href=\"#m483f2f7c20\" x=\"224.5382\" y=\"207.456\" style=\"fill: #0000ff; fill-opacity: 0.7; stroke: #0000ff; stroke-opacity: 0.7\"/>\n",
       "     <use xlink:href=\"#m483f2f7c20\" x=\"160.216466\" y=\"186.4896\" style=\"fill: #0000ff; fill-opacity: 0.7; stroke: #0000ff; stroke-opacity: 0.7\"/>\n",
       "     <use xlink:href=\"#m483f2f7c20\" x=\"182.075106\" y=\"171.4368\" style=\"fill: #0000ff; fill-opacity: 0.7; stroke: #0000ff; stroke-opacity: 0.7\"/>\n",
       "     <use xlink:href=\"#m483f2f7c20\" x=\"115.334588\" y=\"178.4256\" style=\"fill: #0000ff; fill-opacity: 0.7; stroke: #0000ff; stroke-opacity: 0.7\"/>\n",
       "     <use xlink:href=\"#m483f2f7c20\" x=\"133.251505\" y=\"190.2528\" style=\"fill: #0000ff; fill-opacity: 0.7; stroke: #0000ff; stroke-opacity: 0.7\"/>\n",
       "     <use xlink:href=\"#m483f2f7c20\" x=\"117.215864\" y=\"181.1136\" style=\"fill: #0000ff; fill-opacity: 0.7; stroke: #0000ff; stroke-opacity: 0.7\"/>\n",
       "     <use xlink:href=\"#m483f2f7c20\" x=\"100.284377\" y=\"163.9104\" style=\"fill: #0000ff; fill-opacity: 0.7; stroke: #0000ff; stroke-opacity: 0.7\"/>\n",
       "     <use xlink:href=\"#m483f2f7c20\" x=\"172.758309\" y=\"194.016\" style=\"fill: #0000ff; fill-opacity: 0.7; stroke: #0000ff; stroke-opacity: 0.7\"/>\n",
       "     <use xlink:href=\"#m483f2f7c20\" x=\"146.062102\" y=\"179.5008\" style=\"fill: #0000ff; fill-opacity: 0.7; stroke: #0000ff; stroke-opacity: 0.7\"/>\n",
       "     <use xlink:href=\"#m483f2f7c20\" x=\"142.389133\" y=\"190.2528\" style=\"fill: #0000ff; fill-opacity: 0.7; stroke: #0000ff; stroke-opacity: 0.7\"/>\n",
       "     <use xlink:href=\"#m483f2f7c20\" x=\"229.644522\" y=\"214.9824\" style=\"fill: #0000ff; fill-opacity: 0.7; stroke: #0000ff; stroke-opacity: 0.7\"/>\n",
       "     <use xlink:href=\"#m483f2f7c20\" x=\"165.233203\" y=\"182.7264\" style=\"fill: #0000ff; fill-opacity: 0.7; stroke: #0000ff; stroke-opacity: 0.7\"/>\n",
       "     <use xlink:href=\"#m483f2f7c20\" x=\"209.040067\" y=\"206.3808\" style=\"fill: #0000ff; fill-opacity: 0.7; stroke: #0000ff; stroke-opacity: 0.7\"/>\n",
       "     <use xlink:href=\"#m483f2f7c20\" x=\"219.431879\" y=\"210.144\" style=\"fill: #0000ff; fill-opacity: 0.7; stroke: #0000ff; stroke-opacity: 0.7\"/>\n",
       "     <use xlink:href=\"#m483f2f7c20\" x=\"187.360596\" y=\"204.2304\" style=\"fill: #0000ff; fill-opacity: 0.7; stroke: #0000ff; stroke-opacity: 0.7\"/>\n",
       "     <use xlink:href=\"#m483f2f7c20\" x=\"189.241873\" y=\"213.3696\" style=\"fill: #0000ff; fill-opacity: 0.7; stroke: #0000ff; stroke-opacity: 0.7\"/>\n",
       "     <use xlink:href=\"#m483f2f7c20\" x=\"174.012493\" y=\"198.8544\" style=\"fill: #0000ff; fill-opacity: 0.7; stroke: #0000ff; stroke-opacity: 0.7\"/>\n",
       "     <use xlink:href=\"#m483f2f7c20\" x=\"196.139886\" y=\"208.5312\" style=\"fill: #0000ff; fill-opacity: 0.7; stroke: #0000ff; stroke-opacity: 0.7\"/>\n",
       "     <use xlink:href=\"#m483f2f7c20\" x=\"156.005991\" y=\"189.1776\" style=\"fill: #0000ff; fill-opacity: 0.7; stroke: #0000ff; stroke-opacity: 0.7\"/>\n",
       "     <use xlink:href=\"#m483f2f7c20\" x=\"148.660055\" y=\"175.2\" style=\"fill: #0000ff; fill-opacity: 0.7; stroke: #0000ff; stroke-opacity: 0.7\"/>\n",
       "     <use xlink:href=\"#m483f2f7c20\" x=\"243.798887\" y=\"219.8208\" style=\"fill: #0000ff; fill-opacity: 0.7; stroke: #0000ff; stroke-opacity: 0.7\"/>\n",
       "     <use xlink:href=\"#m483f2f7c20\" x=\"158.156021\" y=\"210.144\" style=\"fill: #0000ff; fill-opacity: 0.7; stroke: #0000ff; stroke-opacity: 0.7\"/>\n",
       "     <use xlink:href=\"#m483f2f7c20\" x=\"289.576611\" y=\"217.1328\" style=\"fill: #0000ff; fill-opacity: 0.7; stroke: #0000ff; stroke-opacity: 0.7\"/>\n",
       "     <use xlink:href=\"#m483f2f7c20\" x=\"205.725437\" y=\"217.6704\" style=\"fill: #0000ff; fill-opacity: 0.7; stroke: #0000ff; stroke-opacity: 0.7\"/>\n",
       "     <use xlink:href=\"#m483f2f7c20\" x=\"223.55277\" y=\"215.52\" style=\"fill: #0000ff; fill-opacity: 0.7; stroke: #0000ff; stroke-opacity: 0.7\"/>\n",
       "     <use xlink:href=\"#m483f2f7c20\" x=\"128.055599\" y=\"186.4896\" style=\"fill: #0000ff; fill-opacity: 0.7; stroke: #0000ff; stroke-opacity: 0.7\"/>\n",
       "     <use xlink:href=\"#m483f2f7c20\" x=\"143.553733\" y=\"180.576\" style=\"fill: #0000ff; fill-opacity: 0.7; stroke: #0000ff; stroke-opacity: 0.7\"/>\n",
       "     <use xlink:href=\"#m483f2f7c20\" x=\"119.903402\" y=\"175.2\" style=\"fill: #0000ff; fill-opacity: 0.7; stroke: #0000ff; stroke-opacity: 0.7\"/>\n",
       "     <use xlink:href=\"#m483f2f7c20\" x=\"132.086906\" y=\"155.3088\" style=\"fill: #0000ff; fill-opacity: 0.7; stroke: #0000ff; stroke-opacity: 0.7\"/>\n",
       "     <use xlink:href=\"#m483f2f7c20\" x=\"80.03826\" y=\"122.5152\" style=\"fill: #0000ff; fill-opacity: 0.7; stroke: #0000ff; stroke-opacity: 0.7\"/>\n",
       "     <use xlink:href=\"#m483f2f7c20\" x=\"59.075467\" y=\"100.4736\" style=\"fill: #0000ff; fill-opacity: 0.7; stroke: #0000ff; stroke-opacity: 0.7\"/>\n",
       "     <use xlink:href=\"#m483f2f7c20\" x=\"84.696659\" y=\"145.0944\" style=\"fill: #0000ff; fill-opacity: 0.7; stroke: #0000ff; stroke-opacity: 0.7\"/>\n",
       "     <use xlink:href=\"#m483f2f7c20\" x=\"93.386364\" y=\"152.0832\" style=\"fill: #0000ff; fill-opacity: 0.7; stroke: #0000ff; stroke-opacity: 0.7\"/>\n",
       "     <use xlink:href=\"#m483f2f7c20\" x=\"107.988652\" y=\"155.3088\" style=\"fill: #0000ff; fill-opacity: 0.7; stroke: #0000ff; stroke-opacity: 0.7\"/>\n",
       "     <use xlink:href=\"#m483f2f7c20\" x=\"126.891\" y=\"174.1248\" style=\"fill: #0000ff; fill-opacity: 0.7; stroke: #0000ff; stroke-opacity: 0.7\"/>\n",
       "     <use xlink:href=\"#m483f2f7c20\" x=\"132.803583\" y=\"184.3392\" style=\"fill: #0000ff; fill-opacity: 0.7; stroke: #0000ff; stroke-opacity: 0.7\"/>\n",
       "     <use xlink:href=\"#m483f2f7c20\" x=\"168.09991\" y=\"180.576\" style=\"fill: #0000ff; fill-opacity: 0.7; stroke: #0000ff; stroke-opacity: 0.7\"/>\n",
       "     <use xlink:href=\"#m483f2f7c20\" x=\"209.756743\" y=\"198.8544\" style=\"fill: #0000ff; fill-opacity: 0.7; stroke: #0000ff; stroke-opacity: 0.7\"/>\n",
       "     <use xlink:href=\"#m483f2f7c20\" x=\"317.347833\" y=\"210.6816\" style=\"fill: #0000ff; fill-opacity: 0.7; stroke: #0000ff; stroke-opacity: 0.7\"/>\n",
       "     <use xlink:href=\"#m483f2f7c20\" x=\"186.464751\" y=\"183.8016\" style=\"fill: #0000ff; fill-opacity: 0.7; stroke: #0000ff; stroke-opacity: 0.7\"/>\n",
       "     <use xlink:href=\"#m483f2f7c20\" x=\"161.828989\" y=\"182.1888\" style=\"fill: #0000ff; fill-opacity: 0.7; stroke: #0000ff; stroke-opacity: 0.7\"/>\n",
       "     <use xlink:href=\"#m483f2f7c20\" x=\"125.815985\" y=\"177.888\" style=\"fill: #0000ff; fill-opacity: 0.7; stroke: #0000ff; stroke-opacity: 0.7\"/>\n",
       "     <use xlink:href=\"#m483f2f7c20\" x=\"88.638381\" y=\"153.696\" style=\"fill: #0000ff; fill-opacity: 0.7; stroke: #0000ff; stroke-opacity: 0.7\"/>\n",
       "     <use xlink:href=\"#m483f2f7c20\" x=\"116.857526\" y=\"162.2976\" style=\"fill: #0000ff; fill-opacity: 0.7; stroke: #0000ff; stroke-opacity: 0.7\"/>\n",
       "     <use xlink:href=\"#m483f2f7c20\" x=\"173.922908\" y=\"186.4896\" style=\"fill: #0000ff; fill-opacity: 0.7; stroke: #0000ff; stroke-opacity: 0.7\"/>\n",
       "     <use xlink:href=\"#m483f2f7c20\" x=\"84.427905\" y=\"97.7856\" style=\"fill: #0000ff; fill-opacity: 0.7; stroke: #0000ff; stroke-opacity: 0.7\"/>\n",
       "     <use xlink:href=\"#m483f2f7c20\" x=\"93.028026\" y=\"155.3088\" style=\"fill: #0000ff; fill-opacity: 0.7; stroke: #0000ff; stroke-opacity: 0.7\"/>\n",
       "     <use xlink:href=\"#m483f2f7c20\" x=\"76.723631\" y=\"118.2144\" style=\"fill: #0000ff; fill-opacity: 0.7; stroke: #0000ff; stroke-opacity: 0.7\"/>\n",
       "     <use xlink:href=\"#m483f2f7c20\" x=\"102.792746\" y=\"162.8352\" style=\"fill: #0000ff; fill-opacity: 0.7; stroke: #0000ff; stroke-opacity: 0.7\"/>\n",
       "     <use xlink:href=\"#m483f2f7c20\" x=\"123.934708\" y=\"182.7264\" style=\"fill: #0000ff; fill-opacity: 0.7; stroke: #0000ff; stroke-opacity: 0.7\"/>\n",
       "     <use xlink:href=\"#m483f2f7c20\" x=\"159.141451\" y=\"187.5648\" style=\"fill: #0000ff; fill-opacity: 0.7; stroke: #0000ff; stroke-opacity: 0.7\"/>\n",
       "     <use xlink:href=\"#m483f2f7c20\" x=\"170.697863\" y=\"202.08\" style=\"fill: #0000ff; fill-opacity: 0.7; stroke: #0000ff; stroke-opacity: 0.7\"/>\n",
       "     <use xlink:href=\"#m483f2f7c20\" x=\"101.628146\" y=\"168.7488\" style=\"fill: #0000ff; fill-opacity: 0.7; stroke: #0000ff; stroke-opacity: 0.7\"/>\n",
       "     <use xlink:href=\"#m483f2f7c20\" x=\"126.443077\" y=\"153.696\" style=\"fill: #0000ff; fill-opacity: 0.7; stroke: #0000ff; stroke-opacity: 0.7\"/>\n",
       "     <use xlink:href=\"#m483f2f7c20\" x=\"113.453312\" y=\"110.688\" style=\"fill: #0000ff; fill-opacity: 0.7; stroke: #0000ff; stroke-opacity: 0.7\"/>\n",
       "     <use xlink:href=\"#m483f2f7c20\" x=\"83.173721\" y=\"161.76\" style=\"fill: #0000ff; fill-opacity: 0.7; stroke: #0000ff; stroke-opacity: 0.7\"/>\n",
       "     <use xlink:href=\"#m483f2f7c20\" x=\"133.072336\" y=\"183.8016\" style=\"fill: #0000ff; fill-opacity: 0.7; stroke: #0000ff; stroke-opacity: 0.7\"/>\n",
       "     <use xlink:href=\"#m483f2f7c20\" x=\"113.901235\" y=\"169.824\" style=\"fill: #0000ff; fill-opacity: 0.7; stroke: #0000ff; stroke-opacity: 0.7\"/>\n",
       "     <use xlink:href=\"#m483f2f7c20\" x=\"158.603944\" y=\"194.5536\" style=\"fill: #0000ff; fill-opacity: 0.7; stroke: #0000ff; stroke-opacity: 0.7\"/>\n",
       "     <use xlink:href=\"#m483f2f7c20\" x=\"120.082571\" y=\"175.7376\" style=\"fill: #0000ff; fill-opacity: 0.7; stroke: #0000ff; stroke-opacity: 0.7\"/>\n",
       "     <use xlink:href=\"#m483f2f7c20\" x=\"101.538561\" y=\"157.9968\" style=\"fill: #0000ff; fill-opacity: 0.7; stroke: #0000ff; stroke-opacity: 0.7\"/>\n",
       "     <use xlink:href=\"#m483f2f7c20\" x=\"129.847291\" y=\"171.4368\" style=\"fill: #0000ff; fill-opacity: 0.7; stroke: #0000ff; stroke-opacity: 0.7\"/>\n",
       "     <use xlink:href=\"#m483f2f7c20\" x=\"90.788411\" y=\"165.5232\" style=\"fill: #0000ff; fill-opacity: 0.7; stroke: #0000ff; stroke-opacity: 0.7\"/>\n",
       "     <use xlink:href=\"#m483f2f7c20\" x=\"108.884498\" y=\"162.2976\" style=\"fill: #0000ff; fill-opacity: 0.7; stroke: #0000ff; stroke-opacity: 0.7\"/>\n",
       "     <use xlink:href=\"#m483f2f7c20\" x=\"102.076069\" y=\"158.5344\" style=\"fill: #0000ff; fill-opacity: 0.7; stroke: #0000ff; stroke-opacity: 0.7\"/>\n",
       "     <use xlink:href=\"#m483f2f7c20\" x=\"121.42634\" y=\"173.0496\" style=\"fill: #0000ff; fill-opacity: 0.7; stroke: #0000ff; stroke-opacity: 0.7\"/>\n",
       "     <use xlink:href=\"#m483f2f7c20\" x=\"148.57047\" y=\"180.576\" style=\"fill: #0000ff; fill-opacity: 0.7; stroke: #0000ff; stroke-opacity: 0.7\"/>\n",
       "     <use xlink:href=\"#m483f2f7c20\" x=\"133.34109\" y=\"176.2752\" style=\"fill: #0000ff; fill-opacity: 0.7; stroke: #0000ff; stroke-opacity: 0.7\"/>\n",
       "     <use xlink:href=\"#m483f2f7c20\" x=\"151.8851\" y=\"174.1248\" style=\"fill: #0000ff; fill-opacity: 0.7; stroke: #0000ff; stroke-opacity: 0.7\"/>\n",
       "     <use xlink:href=\"#m483f2f7c20\" x=\"122.859693\" y=\"178.9632\" style=\"fill: #0000ff; fill-opacity: 0.7; stroke: #0000ff; stroke-opacity: 0.7\"/>\n",
       "     <use xlink:href=\"#m483f2f7c20\" x=\"88.727965\" y=\"137.568\" style=\"fill: #0000ff; fill-opacity: 0.7; stroke: #0000ff; stroke-opacity: 0.7\"/>\n",
       "     <use xlink:href=\"#m483f2f7c20\" x=\"106.017791\" y=\"159.6096\" style=\"fill: #0000ff; fill-opacity: 0.7; stroke: #0000ff; stroke-opacity: 0.7\"/>\n",
       "     <use xlink:href=\"#m483f2f7c20\" x=\"101.538561\" y=\"154.7712\" style=\"fill: #0000ff; fill-opacity: 0.7; stroke: #0000ff; stroke-opacity: 0.7\"/>\n",
       "     <use xlink:href=\"#m483f2f7c20\" x=\"108.615744\" y=\"164.9856\" style=\"fill: #0000ff; fill-opacity: 0.7; stroke: #0000ff; stroke-opacity: 0.7\"/>\n",
       "     <use xlink:href=\"#m483f2f7c20\" x=\"127.518092\" y=\"159.6096\" style=\"fill: #0000ff; fill-opacity: 0.7; stroke: #0000ff; stroke-opacity: 0.7\"/>\n",
       "     <use xlink:href=\"#m483f2f7c20\" x=\"99.836454\" y=\"145.0944\" style=\"fill: #0000ff; fill-opacity: 0.7; stroke: #0000ff; stroke-opacity: 0.7\"/>\n",
       "     <use xlink:href=\"#m483f2f7c20\" x=\"156.543498\" y=\"167.136\" style=\"fill: #0000ff; fill-opacity: 0.7; stroke: #0000ff; stroke-opacity: 0.7\"/>\n",
       "     <use xlink:href=\"#m483f2f7c20\" x=\"116.947111\" y=\"168.7488\" style=\"fill: #0000ff; fill-opacity: 0.7; stroke: #0000ff; stroke-opacity: 0.7\"/>\n",
       "     <use xlink:href=\"#m483f2f7c20\" x=\"90.609242\" y=\"161.2224\" style=\"fill: #0000ff; fill-opacity: 0.7; stroke: #0000ff; stroke-opacity: 0.7\"/>\n",
       "     <use xlink:href=\"#m483f2f7c20\" x=\"92.400934\" y=\"133.8048\" style=\"fill: #0000ff; fill-opacity: 0.7; stroke: #0000ff; stroke-opacity: 0.7\"/>\n",
       "     <use xlink:href=\"#m483f2f7c20\" x=\"120.26174\" y=\"166.5984\" style=\"fill: #0000ff; fill-opacity: 0.7; stroke: #0000ff; stroke-opacity: 0.7\"/>\n",
       "     <use xlink:href=\"#m483f2f7c20\" x=\"114.79708\" y=\"169.824\" style=\"fill: #0000ff; fill-opacity: 0.7; stroke: #0000ff; stroke-opacity: 0.7\"/>\n",
       "     <use xlink:href=\"#m483f2f7c20\" x=\"114.438742\" y=\"164.9856\" style=\"fill: #0000ff; fill-opacity: 0.7; stroke: #0000ff; stroke-opacity: 0.7\"/>\n",
       "     <use xlink:href=\"#m483f2f7c20\" x=\"96.969748\" y=\"153.696\" style=\"fill: #0000ff; fill-opacity: 0.7; stroke: #0000ff; stroke-opacity: 0.7\"/>\n",
       "     <use xlink:href=\"#m483f2f7c20\" x=\"136.207797\" y=\"177.3504\" style=\"fill: #0000ff; fill-opacity: 0.7; stroke: #0000ff; stroke-opacity: 0.7\"/>\n",
       "     <use xlink:href=\"#m483f2f7c20\" x=\"100.911469\" y=\"135.4176\" style=\"fill: #0000ff; fill-opacity: 0.7; stroke: #0000ff; stroke-opacity: 0.7\"/>\n",
       "     <use xlink:href=\"#m483f2f7c20\" x=\"142.926641\" y=\"173.0496\" style=\"fill: #0000ff; fill-opacity: 0.7; stroke: #0000ff; stroke-opacity: 0.7\"/>\n",
       "     <use xlink:href=\"#m483f2f7c20\" x=\"79.05283\" y=\"80.0448\" style=\"fill: #0000ff; fill-opacity: 0.7; stroke: #0000ff; stroke-opacity: 0.7\"/>\n",
       "     <use xlink:href=\"#m483f2f7c20\" x=\"73.319416\" y=\"52.6272\" style=\"fill: #0000ff; fill-opacity: 0.7; stroke: #0000ff; stroke-opacity: 0.7\"/>\n",
       "     <use xlink:href=\"#m483f2f7c20\" x=\"96.790578\" y=\"109.6128\" style=\"fill: #0000ff; fill-opacity: 0.7; stroke: #0000ff; stroke-opacity: 0.7\"/>\n",
       "     <use xlink:href=\"#m483f2f7c20\" x=\"125.7264\" y=\"140.256\" style=\"fill: #0000ff; fill-opacity: 0.7; stroke: #0000ff; stroke-opacity: 0.7\"/>\n",
       "     <use xlink:href=\"#m483f2f7c20\" x=\"110.049097\" y=\"145.632\" style=\"fill: #0000ff; fill-opacity: 0.7; stroke: #0000ff; stroke-opacity: 0.7\"/>\n",
       "     <use xlink:href=\"#m483f2f7c20\" x=\"136.566135\" y=\"188.1024\" style=\"fill: #0000ff; fill-opacity: 0.7; stroke: #0000ff; stroke-opacity: 0.7\"/>\n",
       "     <use xlink:href=\"#m483f2f7c20\" x=\"161.739404\" y=\"184.3392\" style=\"fill: #0000ff; fill-opacity: 0.7; stroke: #0000ff; stroke-opacity: 0.7\"/>\n",
       "     <use xlink:href=\"#m483f2f7c20\" x=\"151.795515\" y=\"180.0384\" style=\"fill: #0000ff; fill-opacity: 0.7; stroke: #0000ff; stroke-opacity: 0.7\"/>\n",
       "     <use xlink:href=\"#m483f2f7c20\" x=\"188.883534\" y=\"183.264\" style=\"fill: #0000ff; fill-opacity: 0.7; stroke: #0000ff; stroke-opacity: 0.7\"/>\n",
       "     <use xlink:href=\"#m483f2f7c20\" x=\"208.502559\" y=\"183.264\" style=\"fill: #0000ff; fill-opacity: 0.7; stroke: #0000ff; stroke-opacity: 0.7\"/>\n",
       "     <use xlink:href=\"#m483f2f7c20\" x=\"167.562403\" y=\"178.4256\" style=\"fill: #0000ff; fill-opacity: 0.7; stroke: #0000ff; stroke-opacity: 0.7\"/>\n",
       "     <use xlink:href=\"#m483f2f7c20\" x=\"151.258008\" y=\"181.6512\" style=\"fill: #0000ff; fill-opacity: 0.7; stroke: #0000ff; stroke-opacity: 0.7\"/>\n",
       "     <use xlink:href=\"#m483f2f7c20\" x=\"180.641752\" y=\"183.8016\" style=\"fill: #0000ff; fill-opacity: 0.7; stroke: #0000ff; stroke-opacity: 0.7\"/>\n",
       "     <use xlink:href=\"#m483f2f7c20\" x=\"157.797682\" y=\"171.4368\" style=\"fill: #0000ff; fill-opacity: 0.7; stroke: #0000ff; stroke-opacity: 0.7\"/>\n",
       "     <use xlink:href=\"#m483f2f7c20\" x=\"132.35566\" y=\"165.5232\" style=\"fill: #0000ff; fill-opacity: 0.7; stroke: #0000ff; stroke-opacity: 0.7\"/>\n",
       "     <use xlink:href=\"#m483f2f7c20\" x=\"186.554335\" y=\"187.0272\" style=\"fill: #0000ff; fill-opacity: 0.7; stroke: #0000ff; stroke-opacity: 0.7\"/>\n",
       "     <use xlink:href=\"#m483f2f7c20\" x=\"194.437779\" y=\"187.5648\" style=\"fill: #0000ff; fill-opacity: 0.7; stroke: #0000ff; stroke-opacity: 0.7\"/>\n",
       "     <use xlink:href=\"#m483f2f7c20\" x=\"134.953613\" y=\"188.64\" style=\"fill: #0000ff; fill-opacity: 0.7; stroke: #0000ff; stroke-opacity: 0.7\"/>\n",
       "     <use xlink:href=\"#m483f2f7c20\" x=\"182.523029\" y=\"189.7152\" style=\"fill: #0000ff; fill-opacity: 0.7; stroke: #0000ff; stroke-opacity: 0.7\"/>\n",
       "     <use xlink:href=\"#m483f2f7c20\" x=\"149.197562\" y=\"174.1248\" style=\"fill: #0000ff; fill-opacity: 0.7; stroke: #0000ff; stroke-opacity: 0.7\"/>\n",
       "     <use xlink:href=\"#m483f2f7c20\" x=\"133.609844\" y=\"184.8768\" style=\"fill: #0000ff; fill-opacity: 0.7; stroke: #0000ff; stroke-opacity: 0.7\"/>\n",
       "     <use xlink:href=\"#m483f2f7c20\" x=\"179.02923\" y=\"178.4256\" style=\"fill: #0000ff; fill-opacity: 0.7; stroke: #0000ff; stroke-opacity: 0.7\"/>\n",
       "     <use xlink:href=\"#m483f2f7c20\" x=\"163.262342\" y=\"184.3392\" style=\"fill: #0000ff; fill-opacity: 0.7; stroke: #0000ff; stroke-opacity: 0.7\"/>\n",
       "     <use xlink:href=\"#m483f2f7c20\" x=\"170.070771\" y=\"169.824\" style=\"fill: #0000ff; fill-opacity: 0.7; stroke: #0000ff; stroke-opacity: 0.7\"/>\n",
       "     <use xlink:href=\"#m483f2f7c20\" x=\"169.174925\" y=\"178.9632\" style=\"fill: #0000ff; fill-opacity: 0.7; stroke: #0000ff; stroke-opacity: 0.7\"/>\n",
       "     <use xlink:href=\"#m483f2f7c20\" x=\"201.962884\" y=\"177.888\" style=\"fill: #0000ff; fill-opacity: 0.7; stroke: #0000ff; stroke-opacity: 0.7\"/>\n",
       "     <use xlink:href=\"#m483f2f7c20\" x=\"268.972156\" y=\"195.0912\" style=\"fill: #0000ff; fill-opacity: 0.7; stroke: #0000ff; stroke-opacity: 0.7\"/>\n",
       "     <use xlink:href=\"#m483f2f7c20\" x=\"198.827424\" y=\"187.0272\" style=\"fill: #0000ff; fill-opacity: 0.7; stroke: #0000ff; stroke-opacity: 0.7\"/>\n",
       "     <use xlink:href=\"#m483f2f7c20\" x=\"174.012493\" y=\"173.0496\" style=\"fill: #0000ff; fill-opacity: 0.7; stroke: #0000ff; stroke-opacity: 0.7\"/>\n",
       "     <use xlink:href=\"#m483f2f7c20\" x=\"285.545304\" y=\"203.6928\" style=\"fill: #0000ff; fill-opacity: 0.7; stroke: #0000ff; stroke-opacity: 0.7\"/>\n",
       "     <use xlink:href=\"#m483f2f7c20\" x=\"195.333625\" y=\"201.0048\" style=\"fill: #0000ff; fill-opacity: 0.7; stroke: #0000ff; stroke-opacity: 0.7\"/>\n",
       "     <use xlink:href=\"#m483f2f7c20\" x=\"179.208399\" y=\"191.328\" style=\"fill: #0000ff; fill-opacity: 0.7; stroke: #0000ff; stroke-opacity: 0.7\"/>\n",
       "     <use xlink:href=\"#m483f2f7c20\" x=\"205.635852\" y=\"211.2192\" style=\"fill: #0000ff; fill-opacity: 0.7; stroke: #0000ff; stroke-opacity: 0.7\"/>\n",
       "     <use xlink:href=\"#m483f2f7c20\" x=\"154.214299\" y=\"184.8768\" style=\"fill: #0000ff; fill-opacity: 0.7; stroke: #0000ff; stroke-opacity: 0.7\"/>\n",
       "     <use xlink:href=\"#m483f2f7c20\" x=\"151.168423\" y=\"182.7264\" style=\"fill: #0000ff; fill-opacity: 0.7; stroke: #0000ff; stroke-opacity: 0.7\"/>\n",
       "     <use xlink:href=\"#m483f2f7c20\" x=\"140.95578\" y=\"164.448\" style=\"fill: #0000ff; fill-opacity: 0.7; stroke: #0000ff; stroke-opacity: 0.7\"/>\n",
       "     <use xlink:href=\"#m483f2f7c20\" x=\"175.983354\" y=\"189.1776\" style=\"fill: #0000ff; fill-opacity: 0.7; stroke: #0000ff; stroke-opacity: 0.7\"/>\n",
       "     <use xlink:href=\"#m483f2f7c20\" x=\"196.40864\" y=\"204.2304\" style=\"fill: #0000ff; fill-opacity: 0.7; stroke: #0000ff; stroke-opacity: 0.7\"/>\n",
       "     <use xlink:href=\"#m483f2f7c20\" x=\"193.273179\" y=\"190.7904\" style=\"fill: #0000ff; fill-opacity: 0.7; stroke: #0000ff; stroke-opacity: 0.7\"/>\n",
       "     <use xlink:href=\"#m483f2f7c20\" x=\"192.735672\" y=\"194.5536\" style=\"fill: #0000ff; fill-opacity: 0.7; stroke: #0000ff; stroke-opacity: 0.7\"/>\n",
       "     <use xlink:href=\"#m483f2f7c20\" x=\"172.041632\" y=\"196.1664\" style=\"fill: #0000ff; fill-opacity: 0.7; stroke: #0000ff; stroke-opacity: 0.7\"/>\n",
       "     <use xlink:href=\"#m483f2f7c20\" x=\"232.332059\" y=\"216.5952\" style=\"fill: #0000ff; fill-opacity: 0.7; stroke: #0000ff; stroke-opacity: 0.7\"/>\n",
       "     <use xlink:href=\"#m483f2f7c20\" x=\"206.710867\" y=\"192.4032\" style=\"fill: #0000ff; fill-opacity: 0.7; stroke: #0000ff; stroke-opacity: 0.7\"/>\n",
       "     <use xlink:href=\"#m483f2f7c20\" x=\"257.774082\" y=\"212.832\" style=\"fill: #0000ff; fill-opacity: 0.7; stroke: #0000ff; stroke-opacity: 0.7\"/>\n",
       "     <use xlink:href=\"#m483f2f7c20\" x=\"349.598285\" y=\"210.6816\" style=\"fill: #0000ff; fill-opacity: 0.7; stroke: #0000ff; stroke-opacity: 0.7\"/>\n",
       "     <use xlink:href=\"#m483f2f7c20\" x=\"281.603583\" y=\"216.0576\" style=\"fill: #0000ff; fill-opacity: 0.7; stroke: #0000ff; stroke-opacity: 0.7\"/>\n",
       "     <use xlink:href=\"#m483f2f7c20\" x=\"278.020199\" y=\"204.2304\" style=\"fill: #0000ff; fill-opacity: 0.7; stroke: #0000ff; stroke-opacity: 0.7\"/>\n",
       "     <use xlink:href=\"#m483f2f7c20\" x=\"303.730976\" y=\"224.6592\" style=\"fill: #0000ff; fill-opacity: 0.7; stroke: #0000ff; stroke-opacity: 0.7\"/>\n",
       "     <use xlink:href=\"#m483f2f7c20\" x=\"290.382872\" y=\"213.9072\" style=\"fill: #0000ff; fill-opacity: 0.7; stroke: #0000ff; stroke-opacity: 0.7\"/>\n",
       "     <use xlink:href=\"#m483f2f7c20\" x=\"190.496057\" y=\"204.2304\" style=\"fill: #0000ff; fill-opacity: 0.7; stroke: #0000ff; stroke-opacity: 0.7\"/>\n",
       "     <use xlink:href=\"#m483f2f7c20\" x=\"305.881006\" y=\"209.6064\" style=\"fill: #0000ff; fill-opacity: 0.7; stroke: #0000ff; stroke-opacity: 0.7\"/>\n",
       "     <use xlink:href=\"#m483f2f7c20\" x=\"295.041271\" y=\"192.4032\" style=\"fill: #0000ff; fill-opacity: 0.7; stroke: #0000ff; stroke-opacity: 0.7\"/>\n",
       "     <use xlink:href=\"#m483f2f7c20\" x=\"233.496659\" y=\"205.3056\" style=\"fill: #0000ff; fill-opacity: 0.7; stroke: #0000ff; stroke-opacity: 0.7\"/>\n",
       "     <use xlink:href=\"#m483f2f7c20\" x=\"167.651987\" y=\"172.512\" style=\"fill: #0000ff; fill-opacity: 0.7; stroke: #0000ff; stroke-opacity: 0.7\"/>\n",
       "     <use xlink:href=\"#m483f2f7c20\" x=\"160.306051\" y=\"182.7264\" style=\"fill: #0000ff; fill-opacity: 0.7; stroke: #0000ff; stroke-opacity: 0.7\"/>\n",
       "     <use xlink:href=\"#m483f2f7c20\" x=\"149.914239\" y=\"205.8432\" style=\"fill: #0000ff; fill-opacity: 0.7; stroke: #0000ff; stroke-opacity: 0.7\"/>\n",
       "     <use xlink:href=\"#m483f2f7c20\" x=\"182.791782\" y=\"183.8016\" style=\"fill: #0000ff; fill-opacity: 0.7; stroke: #0000ff; stroke-opacity: 0.7\"/>\n",
       "     <use xlink:href=\"#m483f2f7c20\" x=\"176.789615\" y=\"196.704\" style=\"fill: #0000ff; fill-opacity: 0.7; stroke: #0000ff; stroke-opacity: 0.7\"/>\n",
       "     <use xlink:href=\"#m483f2f7c20\" x=\"175.893769\" y=\"204.2304\" style=\"fill: #0000ff; fill-opacity: 0.7; stroke: #0000ff; stroke-opacity: 0.7\"/>\n",
       "     <use xlink:href=\"#m483f2f7c20\" x=\"185.927243\" y=\"217.6704\" style=\"fill: #0000ff; fill-opacity: 0.7; stroke: #0000ff; stroke-opacity: 0.7\"/>\n",
       "     <use xlink:href=\"#m483f2f7c20\" x=\"82.457044\" y=\"66.0672\" style=\"fill: #0000ff; fill-opacity: 0.7; stroke: #0000ff; stroke-opacity: 0.7\"/>\n",
       "     <use xlink:href=\"#m483f2f7c20\" x=\"98.940608\" y=\"157.4592\" style=\"fill: #0000ff; fill-opacity: 0.7; stroke: #0000ff; stroke-opacity: 0.7\"/>\n",
       "     <use xlink:href=\"#m483f2f7c20\" x=\"107.540729\" y=\"162.8352\" style=\"fill: #0000ff; fill-opacity: 0.7; stroke: #0000ff; stroke-opacity: 0.7\"/>\n",
       "     <use xlink:href=\"#m483f2f7c20\" x=\"90.609242\" y=\"142.944\" style=\"fill: #0000ff; fill-opacity: 0.7; stroke: #0000ff; stroke-opacity: 0.7\"/>\n",
       "     <use xlink:href=\"#m483f2f7c20\" x=\"56.835852\" y=\"19.296\" style=\"fill: #0000ff; fill-opacity: 0.7; stroke: #0000ff; stroke-opacity: 0.7\"/>\n",
       "     <use xlink:href=\"#m483f2f7c20\" x=\"58.537959\" y=\"19.296\" style=\"fill: #0000ff; fill-opacity: 0.7; stroke: #0000ff; stroke-opacity: 0.7\"/>\n",
       "     <use xlink:href=\"#m483f2f7c20\" x=\"71.079802\" y=\"19.296\" style=\"fill: #0000ff; fill-opacity: 0.7; stroke: #0000ff; stroke-opacity: 0.7\"/>\n",
       "     <use xlink:href=\"#m483f2f7c20\" x=\"145.614179\" y=\"166.0608\" style=\"fill: #0000ff; fill-opacity: 0.7; stroke: #0000ff; stroke-opacity: 0.7\"/>\n",
       "     <use xlink:href=\"#m483f2f7c20\" x=\"129.220199\" y=\"153.696\" style=\"fill: #0000ff; fill-opacity: 0.7; stroke: #0000ff; stroke-opacity: 0.7\"/>\n",
       "     <use xlink:href=\"#m483f2f7c20\" x=\"74.484016\" y=\"19.296\" style=\"fill: #0000ff; fill-opacity: 0.7; stroke: #0000ff; stroke-opacity: 0.7\"/>\n",
       "     <use xlink:href=\"#m483f2f7c20\" x=\"150.093408\" y=\"160.1472\" style=\"fill: #0000ff; fill-opacity: 0.7; stroke: #0000ff; stroke-opacity: 0.7\"/>\n",
       "     <use xlink:href=\"#m483f2f7c20\" x=\"140.776611\" y=\"160.1472\" style=\"fill: #0000ff; fill-opacity: 0.7; stroke: #0000ff; stroke-opacity: 0.7\"/>\n",
       "     <use xlink:href=\"#m483f2f7c20\" x=\"142.747472\" y=\"168.2112\" style=\"fill: #0000ff; fill-opacity: 0.7; stroke: #0000ff; stroke-opacity: 0.7\"/>\n",
       "     <use xlink:href=\"#m483f2f7c20\" x=\"170.608279\" y=\"194.5536\" style=\"fill: #0000ff; fill-opacity: 0.7; stroke: #0000ff; stroke-opacity: 0.7\"/>\n",
       "     <use xlink:href=\"#m483f2f7c20\" x=\"149.107977\" y=\"185.4144\" style=\"fill: #0000ff; fill-opacity: 0.7; stroke: #0000ff; stroke-opacity: 0.7\"/>\n",
       "     <use xlink:href=\"#m483f2f7c20\" x=\"172.937478\" y=\"163.9104\" style=\"fill: #0000ff; fill-opacity: 0.7; stroke: #0000ff; stroke-opacity: 0.7\"/>\n",
       "     <use xlink:href=\"#m483f2f7c20\" x=\"122.322186\" y=\"161.2224\" style=\"fill: #0000ff; fill-opacity: 0.7; stroke: #0000ff; stroke-opacity: 0.7\"/>\n",
       "     <use xlink:href=\"#m483f2f7c20\" x=\"127.697261\" y=\"166.5984\" style=\"fill: #0000ff; fill-opacity: 0.7; stroke: #0000ff; stroke-opacity: 0.7\"/>\n",
       "     <use xlink:href=\"#m483f2f7c20\" x=\"89.086304\" y=\"130.0416\" style=\"fill: #0000ff; fill-opacity: 0.7; stroke: #0000ff; stroke-opacity: 0.7\"/>\n",
       "     <use xlink:href=\"#m483f2f7c20\" x=\"131.907737\" y=\"163.3728\" style=\"fill: #0000ff; fill-opacity: 0.7; stroke: #0000ff; stroke-opacity: 0.7\"/>\n",
       "     <use xlink:href=\"#m483f2f7c20\" x=\"97.686424\" y=\"155.8464\" style=\"fill: #0000ff; fill-opacity: 0.7; stroke: #0000ff; stroke-opacity: 0.7\"/>\n",
       "     <use xlink:href=\"#m483f2f7c20\" x=\"103.330253\" y=\"127.3536\" style=\"fill: #0000ff; fill-opacity: 0.7; stroke: #0000ff; stroke-opacity: 0.7\"/>\n",
       "     <use xlink:href=\"#m483f2f7c20\" x=\"86.488351\" y=\"88.1088\" style=\"fill: #0000ff; fill-opacity: 0.7; stroke: #0000ff; stroke-opacity: 0.7\"/>\n",
       "     <use xlink:href=\"#m483f2f7c20\" x=\"109.063667\" y=\"74.1312\" style=\"fill: #0000ff; fill-opacity: 0.7; stroke: #0000ff; stroke-opacity: 0.7\"/>\n",
       "     <use xlink:href=\"#m483f2f7c20\" x=\"125.995154\" y=\"93.4848\" style=\"fill: #0000ff; fill-opacity: 0.7; stroke: #0000ff; stroke-opacity: 0.7\"/>\n",
       "     <use xlink:href=\"#m483f2f7c20\" x=\"84.51749\" y=\"84.3456\" style=\"fill: #0000ff; fill-opacity: 0.7; stroke: #0000ff; stroke-opacity: 0.7\"/>\n",
       "     <use xlink:href=\"#m483f2f7c20\" x=\"92.221764\" y=\"113.376\" style=\"fill: #0000ff; fill-opacity: 0.7; stroke: #0000ff; stroke-opacity: 0.7\"/>\n",
       "     <use xlink:href=\"#m483f2f7c20\" x=\"166.576972\" y=\"146.1696\" style=\"fill: #0000ff; fill-opacity: 0.7; stroke: #0000ff; stroke-opacity: 0.7\"/>\n",
       "     <use xlink:href=\"#m483f2f7c20\" x=\"159.141451\" y=\"128.9664\" style=\"fill: #0000ff; fill-opacity: 0.7; stroke: #0000ff; stroke-opacity: 0.7\"/>\n",
       "     <use xlink:href=\"#m483f2f7c20\" x=\"81.20286\" y=\"19.296\" style=\"fill: #0000ff; fill-opacity: 0.7; stroke: #0000ff; stroke-opacity: 0.7\"/>\n",
       "     <use xlink:href=\"#m483f2f7c20\" x=\"101.180223\" y=\"116.064\" style=\"fill: #0000ff; fill-opacity: 0.7; stroke: #0000ff; stroke-opacity: 0.7\"/>\n",
       "     <use xlink:href=\"#m483f2f7c20\" x=\"82.188291\" y=\"127.8912\" style=\"fill: #0000ff; fill-opacity: 0.7; stroke: #0000ff; stroke-opacity: 0.7\"/>\n",
       "     <use xlink:href=\"#m483f2f7c20\" x=\"89.623811\" y=\"100.4736\" style=\"fill: #0000ff; fill-opacity: 0.7; stroke: #0000ff; stroke-opacity: 0.7\"/>\n",
       "     <use xlink:href=\"#m483f2f7c20\" x=\"87.025858\" y=\"89.184\" style=\"fill: #0000ff; fill-opacity: 0.7; stroke: #0000ff; stroke-opacity: 0.7\"/>\n",
       "     <use xlink:href=\"#m483f2f7c20\" x=\"83.35289\" y=\"124.128\" style=\"fill: #0000ff; fill-opacity: 0.7; stroke: #0000ff; stroke-opacity: 0.7\"/>\n",
       "     <use xlink:href=\"#m483f2f7c20\" x=\"67.048495\" y=\"92.4096\" style=\"fill: #0000ff; fill-opacity: 0.7; stroke: #0000ff; stroke-opacity: 0.7\"/>\n",
       "     <use xlink:href=\"#m483f2f7c20\" x=\"86.398766\" y=\"120.9024\" style=\"fill: #0000ff; fill-opacity: 0.7; stroke: #0000ff; stroke-opacity: 0.7\"/>\n",
       "     <use xlink:href=\"#m483f2f7c20\" x=\"80.575768\" y=\"131.6544\" style=\"fill: #0000ff; fill-opacity: 0.7; stroke: #0000ff; stroke-opacity: 0.7\"/>\n",
       "     <use xlink:href=\"#m483f2f7c20\" x=\"67.944341\" y=\"19.296\" style=\"fill: #0000ff; fill-opacity: 0.7; stroke: #0000ff; stroke-opacity: 0.7\"/>\n",
       "     <use xlink:href=\"#m483f2f7c20\" x=\"77.88823\" y=\"109.0752\" style=\"fill: #0000ff; fill-opacity: 0.7; stroke: #0000ff; stroke-opacity: 0.7\"/>\n",
       "     <use xlink:href=\"#m483f2f7c20\" x=\"118.470049\" y=\"125.2032\" style=\"fill: #0000ff; fill-opacity: 0.7; stroke: #0000ff; stroke-opacity: 0.7\"/>\n",
       "     <use xlink:href=\"#m483f2f7c20\" x=\"100.642716\" y=\"102.0864\" style=\"fill: #0000ff; fill-opacity: 0.7; stroke: #0000ff; stroke-opacity: 0.7\"/>\n",
       "     <use xlink:href=\"#m483f2f7c20\" x=\"82.188291\" y=\"100.4736\" style=\"fill: #0000ff; fill-opacity: 0.7; stroke: #0000ff; stroke-opacity: 0.7\"/>\n",
       "     <use xlink:href=\"#m483f2f7c20\" x=\"81.20286\" y=\"111.2256\" style=\"fill: #0000ff; fill-opacity: 0.7; stroke: #0000ff; stroke-opacity: 0.7\"/>\n",
       "     <use xlink:href=\"#m483f2f7c20\" x=\"107.899067\" y=\"158.5344\" style=\"fill: #0000ff; fill-opacity: 0.7; stroke: #0000ff; stroke-opacity: 0.7\"/>\n",
       "     <use xlink:href=\"#m483f2f7c20\" x=\"69.198525\" y=\"60.6912\" style=\"fill: #0000ff; fill-opacity: 0.7; stroke: #0000ff; stroke-opacity: 0.7\"/>\n",
       "     <use xlink:href=\"#m483f2f7c20\" x=\"75.469446\" y=\"27.36\" style=\"fill: #0000ff; fill-opacity: 0.7; stroke: #0000ff; stroke-opacity: 0.7\"/>\n",
       "     <use xlink:href=\"#m483f2f7c20\" x=\"67.13808\" y=\"19.296\" style=\"fill: #0000ff; fill-opacity: 0.7; stroke: #0000ff; stroke-opacity: 0.7\"/>\n",
       "     <use xlink:href=\"#m483f2f7c20\" x=\"138.716165\" y=\"166.5984\" style=\"fill: #0000ff; fill-opacity: 0.7; stroke: #0000ff; stroke-opacity: 0.7\"/>\n",
       "     <use xlink:href=\"#m483f2f7c20\" x=\"139.612011\" y=\"156.9216\" style=\"fill: #0000ff; fill-opacity: 0.7; stroke: #0000ff; stroke-opacity: 0.7\"/>\n",
       "     <use xlink:href=\"#m483f2f7c20\" x=\"203.127484\" y=\"167.136\" style=\"fill: #0000ff; fill-opacity: 0.7; stroke: #0000ff; stroke-opacity: 0.7\"/>\n",
       "     <use xlink:href=\"#m483f2f7c20\" x=\"172.668724\" y=\"156.9216\" style=\"fill: #0000ff; fill-opacity: 0.7; stroke: #0000ff; stroke-opacity: 0.7\"/>\n",
       "     <use xlink:href=\"#m483f2f7c20\" x=\"248.188531\" y=\"180.576\" style=\"fill: #0000ff; fill-opacity: 0.7; stroke: #0000ff; stroke-opacity: 0.7\"/>\n",
       "     <use xlink:href=\"#m483f2f7c20\" x=\"196.050301\" y=\"171.4368\" style=\"fill: #0000ff; fill-opacity: 0.7; stroke: #0000ff; stroke-opacity: 0.7\"/>\n",
       "     <use xlink:href=\"#m483f2f7c20\" x=\"256.16156\" y=\"184.3392\" style=\"fill: #0000ff; fill-opacity: 0.7; stroke: #0000ff; stroke-opacity: 0.7\"/>\n",
       "     <use xlink:href=\"#m483f2f7c20\" x=\"184.941813\" y=\"167.6736\" style=\"fill: #0000ff; fill-opacity: 0.7; stroke: #0000ff; stroke-opacity: 0.7\"/>\n",
       "     <use xlink:href=\"#m483f2f7c20\" x=\"125.368062\" y=\"137.0304\" style=\"fill: #0000ff; fill-opacity: 0.7; stroke: #0000ff; stroke-opacity: 0.7\"/>\n",
       "     <use xlink:href=\"#m483f2f7c20\" x=\"306.060175\" y=\"160.6848\" style=\"fill: #0000ff; fill-opacity: 0.7; stroke: #0000ff; stroke-opacity: 0.7\"/>\n",
       "     <use xlink:href=\"#m483f2f7c20\" x=\"126.174323\" y=\"153.696\" style=\"fill: #0000ff; fill-opacity: 0.7; stroke: #0000ff; stroke-opacity: 0.7\"/>\n",
       "     <use xlink:href=\"#m483f2f7c20\" x=\"162.366496\" y=\"162.8352\" style=\"fill: #0000ff; fill-opacity: 0.7; stroke: #0000ff; stroke-opacity: 0.7\"/>\n",
       "     <use xlink:href=\"#m483f2f7c20\" x=\"128.145184\" y=\"133.8048\" style=\"fill: #0000ff; fill-opacity: 0.7; stroke: #0000ff; stroke-opacity: 0.7\"/>\n",
       "     <use xlink:href=\"#m483f2f7c20\" x=\"201.8733\" y=\"172.512\" style=\"fill: #0000ff; fill-opacity: 0.7; stroke: #0000ff; stroke-opacity: 0.7\"/>\n",
       "     <use xlink:href=\"#m483f2f7c20\" x=\"135.401536\" y=\"164.448\" style=\"fill: #0000ff; fill-opacity: 0.7; stroke: #0000ff; stroke-opacity: 0.7\"/>\n",
       "     <use xlink:href=\"#m483f2f7c20\" x=\"128.324353\" y=\"144.5568\" style=\"fill: #0000ff; fill-opacity: 0.7; stroke: #0000ff; stroke-opacity: 0.7\"/>\n",
       "     <use xlink:href=\"#m483f2f7c20\" x=\"233.586244\" y=\"171.4368\" style=\"fill: #0000ff; fill-opacity: 0.7; stroke: #0000ff; stroke-opacity: 0.7\"/>\n",
       "     <use xlink:href=\"#m483f2f7c20\" x=\"130.295214\" y=\"140.256\" style=\"fill: #0000ff; fill-opacity: 0.7; stroke: #0000ff; stroke-opacity: 0.7\"/>\n",
       "     <use xlink:href=\"#m483f2f7c20\" x=\"109.422005\" y=\"126.2784\" style=\"fill: #0000ff; fill-opacity: 0.7; stroke: #0000ff; stroke-opacity: 0.7\"/>\n",
       "     <use xlink:href=\"#m483f2f7c20\" x=\"78.425738\" y=\"47.2512\" style=\"fill: #0000ff; fill-opacity: 0.7; stroke: #0000ff; stroke-opacity: 0.7\"/>\n",
       "     <use xlink:href=\"#m483f2f7c20\" x=\"82.815383\" y=\"19.296\" style=\"fill: #0000ff; fill-opacity: 0.7; stroke: #0000ff; stroke-opacity: 0.7\"/>\n",
       "     <use xlink:href=\"#m483f2f7c20\" x=\"69.377695\" y=\"85.9584\" style=\"fill: #0000ff; fill-opacity: 0.7; stroke: #0000ff; stroke-opacity: 0.7\"/>\n",
       "     <use xlink:href=\"#m483f2f7c20\" x=\"98.313516\" y=\"118.2144\" style=\"fill: #0000ff; fill-opacity: 0.7; stroke: #0000ff; stroke-opacity: 0.7\"/>\n",
       "     <use xlink:href=\"#m483f2f7c20\" x=\"76.454877\" y=\"37.0368\" style=\"fill: #0000ff; fill-opacity: 0.7; stroke: #0000ff; stroke-opacity: 0.7\"/>\n",
       "     <use xlink:href=\"#m483f2f7c20\" x=\"75.021524\" y=\"118.752\" style=\"fill: #0000ff; fill-opacity: 0.7; stroke: #0000ff; stroke-opacity: 0.7\"/>\n",
       "     <use xlink:href=\"#m483f2f7c20\" x=\"145.703763\" y=\"157.4592\" style=\"fill: #0000ff; fill-opacity: 0.7; stroke: #0000ff; stroke-opacity: 0.7\"/>\n",
       "     <use xlink:href=\"#m483f2f7c20\" x=\"88.369627\" y=\"117.6768\" style=\"fill: #0000ff; fill-opacity: 0.7; stroke: #0000ff; stroke-opacity: 0.7\"/>\n",
       "     <use xlink:href=\"#m483f2f7c20\" x=\"63.465112\" y=\"63.9168\" style=\"fill: #0000ff; fill-opacity: 0.7; stroke: #0000ff; stroke-opacity: 0.7\"/>\n",
       "     <use xlink:href=\"#m483f2f7c20\" x=\"76.723631\" y=\"28.4352\" style=\"fill: #0000ff; fill-opacity: 0.7; stroke: #0000ff; stroke-opacity: 0.7\"/>\n",
       "     <use xlink:href=\"#m483f2f7c20\" x=\"113.453312\" y=\"132.192\" style=\"fill: #0000ff; fill-opacity: 0.7; stroke: #0000ff; stroke-opacity: 0.7\"/>\n",
       "     <use xlink:href=\"#m483f2f7c20\" x=\"138.80575\" y=\"159.072\" style=\"fill: #0000ff; fill-opacity: 0.7; stroke: #0000ff; stroke-opacity: 0.7\"/>\n",
       "     <use xlink:href=\"#m483f2f7c20\" x=\"126.801415\" y=\"153.1584\" style=\"fill: #0000ff; fill-opacity: 0.7; stroke: #0000ff; stroke-opacity: 0.7\"/>\n",
       "     <use xlink:href=\"#m483f2f7c20\" x=\"83.711229\" y=\"118.752\" style=\"fill: #0000ff; fill-opacity: 0.7; stroke: #0000ff; stroke-opacity: 0.7\"/>\n",
       "     <use xlink:href=\"#m483f2f7c20\" x=\"98.313516\" y=\"160.6848\" style=\"fill: #0000ff; fill-opacity: 0.7; stroke: #0000ff; stroke-opacity: 0.7\"/>\n",
       "     <use xlink:href=\"#m483f2f7c20\" x=\"107.36156\" y=\"162.8352\" style=\"fill: #0000ff; fill-opacity: 0.7; stroke: #0000ff; stroke-opacity: 0.7\"/>\n",
       "     <use xlink:href=\"#m483f2f7c20\" x=\"143.284979\" y=\"169.824\" style=\"fill: #0000ff; fill-opacity: 0.7; stroke: #0000ff; stroke-opacity: 0.7\"/>\n",
       "     <use xlink:href=\"#m483f2f7c20\" x=\"152.422607\" y=\"180.0384\" style=\"fill: #0000ff; fill-opacity: 0.7; stroke: #0000ff; stroke-opacity: 0.7\"/>\n",
       "     <use xlink:href=\"#m483f2f7c20\" x=\"141.851626\" y=\"168.7488\" style=\"fill: #0000ff; fill-opacity: 0.7; stroke: #0000ff; stroke-opacity: 0.7\"/>\n",
       "     <use xlink:href=\"#m483f2f7c20\" x=\"87.83212\" y=\"160.6848\" style=\"fill: #0000ff; fill-opacity: 0.7; stroke: #0000ff; stroke-opacity: 0.7\"/>\n",
       "     <use xlink:href=\"#m483f2f7c20\" x=\"153.318453\" y=\"193.4784\" style=\"fill: #0000ff; fill-opacity: 0.7; stroke: #0000ff; stroke-opacity: 0.7\"/>\n",
       "     <use xlink:href=\"#m483f2f7c20\" x=\"206.710867\" y=\"188.64\" style=\"fill: #0000ff; fill-opacity: 0.7; stroke: #0000ff; stroke-opacity: 0.7\"/>\n",
       "     <use xlink:href=\"#m483f2f7c20\" x=\"123.397201\" y=\"157.4592\" style=\"fill: #0000ff; fill-opacity: 0.7; stroke: #0000ff; stroke-opacity: 0.7\"/>\n",
       "     <use xlink:href=\"#m483f2f7c20\" x=\"132.266075\" y=\"177.888\" style=\"fill: #0000ff; fill-opacity: 0.7; stroke: #0000ff; stroke-opacity: 0.7\"/>\n",
       "     <use xlink:href=\"#m483f2f7c20\" x=\"126.622246\" y=\"156.384\" style=\"fill: #0000ff; fill-opacity: 0.7; stroke: #0000ff; stroke-opacity: 0.7\"/>\n",
       "     <use xlink:href=\"#m483f2f7c20\" x=\"100.105208\" y=\"147.2448\" style=\"fill: #0000ff; fill-opacity: 0.7; stroke: #0000ff; stroke-opacity: 0.7\"/>\n",
       "     <use xlink:href=\"#m483f2f7c20\" x=\"94.192625\" y=\"156.9216\" style=\"fill: #0000ff; fill-opacity: 0.7; stroke: #0000ff; stroke-opacity: 0.7\"/>\n",
       "     <use xlink:href=\"#m483f2f7c20\" x=\"73.498586\" y=\"154.7712\" style=\"fill: #0000ff; fill-opacity: 0.7; stroke: #0000ff; stroke-opacity: 0.7\"/>\n",
       "     <use xlink:href=\"#m483f2f7c20\" x=\"72.961078\" y=\"128.9664\" style=\"fill: #0000ff; fill-opacity: 0.7; stroke: #0000ff; stroke-opacity: 0.7\"/>\n",
       "     <use xlink:href=\"#m483f2f7c20\" x=\"73.050663\" y=\"58.0032\" style=\"fill: #0000ff; fill-opacity: 0.7; stroke: #0000ff; stroke-opacity: 0.7\"/>\n",
       "     <use xlink:href=\"#m483f2f7c20\" x=\"100.194793\" y=\"170.3616\" style=\"fill: #0000ff; fill-opacity: 0.7; stroke: #0000ff; stroke-opacity: 0.7\"/>\n",
       "     <use xlink:href=\"#m483f2f7c20\" x=\"124.203462\" y=\"175.7376\" style=\"fill: #0000ff; fill-opacity: 0.7; stroke: #0000ff; stroke-opacity: 0.7\"/>\n",
       "     <use xlink:href=\"#m483f2f7c20\" x=\"69.198525\" y=\"51.552\" style=\"fill: #0000ff; fill-opacity: 0.7; stroke: #0000ff; stroke-opacity: 0.7\"/>\n",
       "     <use xlink:href=\"#m483f2f7c20\" x=\"87.205027\" y=\"19.296\" style=\"fill: #0000ff; fill-opacity: 0.7; stroke: #0000ff; stroke-opacity: 0.7\"/>\n",
       "     <use xlink:href=\"#m483f2f7c20\" x=\"111.124112\" y=\"94.56\" style=\"fill: #0000ff; fill-opacity: 0.7; stroke: #0000ff; stroke-opacity: 0.7\"/>\n",
       "     <use xlink:href=\"#m483f2f7c20\" x=\"103.151084\" y=\"126.2784\" style=\"fill: #0000ff; fill-opacity: 0.7; stroke: #0000ff; stroke-opacity: 0.7\"/>\n",
       "     <use xlink:href=\"#m483f2f7c20\" x=\"127.249338\" y=\"106.3872\" style=\"fill: #0000ff; fill-opacity: 0.7; stroke: #0000ff; stroke-opacity: 0.7\"/>\n",
       "     <use xlink:href=\"#m483f2f7c20\" x=\"106.376129\" y=\"56.3904\" style=\"fill: #0000ff; fill-opacity: 0.7; stroke: #0000ff; stroke-opacity: 0.7\"/>\n",
       "     <use xlink:href=\"#m483f2f7c20\" x=\"94.28221\" y=\"25.7472\" style=\"fill: #0000ff; fill-opacity: 0.7; stroke: #0000ff; stroke-opacity: 0.7\"/>\n",
       "     <use xlink:href=\"#m483f2f7c20\" x=\"142.12038\" y=\"121.44\" style=\"fill: #0000ff; fill-opacity: 0.7; stroke: #0000ff; stroke-opacity: 0.7\"/>\n",
       "     <use xlink:href=\"#m483f2f7c20\" x=\"113.901235\" y=\"91.872\" style=\"fill: #0000ff; fill-opacity: 0.7; stroke: #0000ff; stroke-opacity: 0.7\"/>\n",
       "     <use xlink:href=\"#m483f2f7c20\" x=\"134.953613\" y=\"165.5232\" style=\"fill: #0000ff; fill-opacity: 0.7; stroke: #0000ff; stroke-opacity: 0.7\"/>\n",
       "     <use xlink:href=\"#m483f2f7c20\" x=\"173.833324\" y=\"123.0528\" style=\"fill: #0000ff; fill-opacity: 0.7; stroke: #0000ff; stroke-opacity: 0.7\"/>\n",
       "     <use xlink:href=\"#m483f2f7c20\" x=\"107.988652\" y=\"19.296\" style=\"fill: #0000ff; fill-opacity: 0.7; stroke: #0000ff; stroke-opacity: 0.7\"/>\n",
       "     <use xlink:href=\"#m483f2f7c20\" x=\"69.646448\" y=\"54.24\" style=\"fill: #0000ff; fill-opacity: 0.7; stroke: #0000ff; stroke-opacity: 0.7\"/>\n",
       "     <use xlink:href=\"#m483f2f7c20\" x=\"163.620681\" y=\"176.8128\" style=\"fill: #0000ff; fill-opacity: 0.7; stroke: #0000ff; stroke-opacity: 0.7\"/>\n",
       "     <use xlink:href=\"#m483f2f7c20\" x=\"157.797682\" y=\"174.6624\" style=\"fill: #0000ff; fill-opacity: 0.7; stroke: #0000ff; stroke-opacity: 0.7\"/>\n",
       "     <use xlink:href=\"#m483f2f7c20\" x=\"100.373962\" y=\"152.6208\" style=\"fill: #0000ff; fill-opacity: 0.7; stroke: #0000ff; stroke-opacity: 0.7\"/>\n",
       "     <use xlink:href=\"#m483f2f7c20\" x=\"110.586605\" y=\"156.9216\" style=\"fill: #0000ff; fill-opacity: 0.7; stroke: #0000ff; stroke-opacity: 0.7\"/>\n",
       "     <use xlink:href=\"#m483f2f7c20\" x=\"100.284377\" y=\"98.8608\" style=\"fill: #0000ff; fill-opacity: 0.7; stroke: #0000ff; stroke-opacity: 0.7\"/>\n",
       "     <use xlink:href=\"#m483f2f7c20\" x=\"72.961078\" y=\"113.9136\" style=\"fill: #0000ff; fill-opacity: 0.7; stroke: #0000ff; stroke-opacity: 0.7\"/>\n",
       "     <use xlink:href=\"#m483f2f7c20\" x=\"68.033926\" y=\"116.064\" style=\"fill: #0000ff; fill-opacity: 0.7; stroke: #0000ff; stroke-opacity: 0.7\"/>\n",
       "     <use xlink:href=\"#m483f2f7c20\" x=\"95.536394\" y=\"109.6128\" style=\"fill: #0000ff; fill-opacity: 0.7; stroke: #0000ff; stroke-opacity: 0.7\"/>\n",
       "     <use xlink:href=\"#m483f2f7c20\" x=\"78.604907\" y=\"110.1504\" style=\"fill: #0000ff; fill-opacity: 0.7; stroke: #0000ff; stroke-opacity: 0.7\"/>\n",
       "     <use xlink:href=\"#m483f2f7c20\" x=\"105.749037\" y=\"131.6544\" style=\"fill: #0000ff; fill-opacity: 0.7; stroke: #0000ff; stroke-opacity: 0.7\"/>\n",
       "     <use xlink:href=\"#m483f2f7c20\" x=\"84.786244\" y=\"99.3984\" style=\"fill: #0000ff; fill-opacity: 0.7; stroke: #0000ff; stroke-opacity: 0.7\"/>\n",
       "     <use xlink:href=\"#m483f2f7c20\" x=\"75.021524\" y=\"44.0256\" style=\"fill: #0000ff; fill-opacity: 0.7; stroke: #0000ff; stroke-opacity: 0.7\"/>\n",
       "     <use xlink:href=\"#m483f2f7c20\" x=\"82.457044\" y=\"97.7856\" style=\"fill: #0000ff; fill-opacity: 0.7; stroke: #0000ff; stroke-opacity: 0.7\"/>\n",
       "     <use xlink:href=\"#m483f2f7c20\" x=\"68.302679\" y=\"40.8\" style=\"fill: #0000ff; fill-opacity: 0.7; stroke: #0000ff; stroke-opacity: 0.7\"/>\n",
       "     <use xlink:href=\"#m483f2f7c20\" x=\"69.646448\" y=\"19.296\" style=\"fill: #0000ff; fill-opacity: 0.7; stroke: #0000ff; stroke-opacity: 0.7\"/>\n",
       "     <use xlink:href=\"#m483f2f7c20\" x=\"111.66162\" y=\"114.9888\" style=\"fill: #0000ff; fill-opacity: 0.7; stroke: #0000ff; stroke-opacity: 0.7\"/>\n",
       "     <use xlink:href=\"#m483f2f7c20\" x=\"115.065834\" y=\"169.824\" style=\"fill: #0000ff; fill-opacity: 0.7; stroke: #0000ff; stroke-opacity: 0.7\"/>\n",
       "     <use xlink:href=\"#m483f2f7c20\" x=\"157.17059\" y=\"180.0384\" style=\"fill: #0000ff; fill-opacity: 0.7; stroke: #0000ff; stroke-opacity: 0.7\"/>\n",
       "     <use xlink:href=\"#m483f2f7c20\" x=\"105.301114\" y=\"163.3728\" style=\"fill: #0000ff; fill-opacity: 0.7; stroke: #0000ff; stroke-opacity: 0.7\"/>\n",
       "     <use xlink:href=\"#m483f2f7c20\" x=\"109.422005\" y=\"168.2112\" style=\"fill: #0000ff; fill-opacity: 0.7; stroke: #0000ff; stroke-opacity: 0.7\"/>\n",
       "     <use xlink:href=\"#m483f2f7c20\" x=\"126.532661\" y=\"154.7712\" style=\"fill: #0000ff; fill-opacity: 0.7; stroke: #0000ff; stroke-opacity: 0.7\"/>\n",
       "     <use xlink:href=\"#m483f2f7c20\" x=\"71.169386\" y=\"134.88\" style=\"fill: #0000ff; fill-opacity: 0.7; stroke: #0000ff; stroke-opacity: 0.7\"/>\n",
       "     <use xlink:href=\"#m483f2f7c20\" x=\"73.229832\" y=\"87.5712\" style=\"fill: #0000ff; fill-opacity: 0.7; stroke: #0000ff; stroke-opacity: 0.7\"/>\n",
       "     <use xlink:href=\"#m483f2f7c20\" x=\"83.442475\" y=\"138.1056\" style=\"fill: #0000ff; fill-opacity: 0.7; stroke: #0000ff; stroke-opacity: 0.7\"/>\n",
       "     <use xlink:href=\"#m483f2f7c20\" x=\"118.201295\" y=\"159.6096\" style=\"fill: #0000ff; fill-opacity: 0.7; stroke: #0000ff; stroke-opacity: 0.7\"/>\n",
       "     <use xlink:href=\"#m483f2f7c20\" x=\"134.50569\" y=\"171.4368\" style=\"fill: #0000ff; fill-opacity: 0.7; stroke: #0000ff; stroke-opacity: 0.7\"/>\n",
       "     <use xlink:href=\"#m483f2f7c20\" x=\"97.507255\" y=\"134.3424\" style=\"fill: #0000ff; fill-opacity: 0.7; stroke: #0000ff; stroke-opacity: 0.7\"/>\n",
       "     <use xlink:href=\"#m483f2f7c20\" x=\"107.540729\" y=\"142.4064\" style=\"fill: #0000ff; fill-opacity: 0.7; stroke: #0000ff; stroke-opacity: 0.7\"/>\n",
       "     <use xlink:href=\"#m483f2f7c20\" x=\"183.239705\" y=\"178.9632\" style=\"fill: #0000ff; fill-opacity: 0.7; stroke: #0000ff; stroke-opacity: 0.7\"/>\n",
       "     <use xlink:href=\"#m483f2f7c20\" x=\"85.861259\" y=\"167.136\" style=\"fill: #0000ff; fill-opacity: 0.7; stroke: #0000ff; stroke-opacity: 0.7\"/>\n",
       "     <use xlink:href=\"#m483f2f7c20\" x=\"83.800813\" y=\"132.192\" style=\"fill: #0000ff; fill-opacity: 0.7; stroke: #0000ff; stroke-opacity: 0.7\"/>\n",
       "     <use xlink:href=\"#m483f2f7c20\" x=\"95.715563\" y=\"154.7712\" style=\"fill: #0000ff; fill-opacity: 0.7; stroke: #0000ff; stroke-opacity: 0.7\"/>\n",
       "     <use xlink:href=\"#m483f2f7c20\" x=\"126.443077\" y=\"169.824\" style=\"fill: #0000ff; fill-opacity: 0.7; stroke: #0000ff; stroke-opacity: 0.7\"/>\n",
       "     <use xlink:href=\"#m483f2f7c20\" x=\"119.007556\" y=\"146.1696\" style=\"fill: #0000ff; fill-opacity: 0.7; stroke: #0000ff; stroke-opacity: 0.7\"/>\n",
       "     <use xlink:href=\"#m483f2f7c20\" x=\"84.875828\" y=\"110.1504\" style=\"fill: #0000ff; fill-opacity: 0.7; stroke: #0000ff; stroke-opacity: 0.7\"/>\n",
       "     <use xlink:href=\"#m483f2f7c20\" x=\"103.419838\" y=\"94.0224\" style=\"fill: #0000ff; fill-opacity: 0.7; stroke: #0000ff; stroke-opacity: 0.7\"/>\n",
       "     <use xlink:href=\"#m483f2f7c20\" x=\"121.336755\" y=\"135.4176\" style=\"fill: #0000ff; fill-opacity: 0.7; stroke: #0000ff; stroke-opacity: 0.7\"/>\n",
       "     <use xlink:href=\"#m483f2f7c20\" x=\"99.298947\" y=\"108.5376\" style=\"fill: #0000ff; fill-opacity: 0.7; stroke: #0000ff; stroke-opacity: 0.7\"/>\n",
       "     <use xlink:href=\"#m483f2f7c20\" x=\"108.794913\" y=\"136.4928\" style=\"fill: #0000ff; fill-opacity: 0.7; stroke: #0000ff; stroke-opacity: 0.7\"/>\n",
       "     <use xlink:href=\"#m483f2f7c20\" x=\"82.009121\" y=\"165.5232\" style=\"fill: #0000ff; fill-opacity: 0.7; stroke: #0000ff; stroke-opacity: 0.7\"/>\n",
       "     <use xlink:href=\"#m483f2f7c20\" x=\"130.653552\" y=\"178.9632\" style=\"fill: #0000ff; fill-opacity: 0.7; stroke: #0000ff; stroke-opacity: 0.7\"/>\n",
       "     <use xlink:href=\"#m483f2f7c20\" x=\"154.572637\" y=\"201.5424\" style=\"fill: #0000ff; fill-opacity: 0.7; stroke: #0000ff; stroke-opacity: 0.7\"/>\n",
       "     <use xlink:href=\"#m483f2f7c20\" x=\"94.909302\" y=\"169.2864\" style=\"fill: #0000ff; fill-opacity: 0.7; stroke: #0000ff; stroke-opacity: 0.7\"/>\n",
       "     <use xlink:href=\"#m483f2f7c20\" x=\"146.330855\" y=\"183.8016\" style=\"fill: #0000ff; fill-opacity: 0.7; stroke: #0000ff; stroke-opacity: 0.7\"/>\n",
       "     <use xlink:href=\"#m483f2f7c20\" x=\"112.109543\" y=\"171.9744\" style=\"fill: #0000ff; fill-opacity: 0.7; stroke: #0000ff; stroke-opacity: 0.7\"/>\n",
       "     <use xlink:href=\"#m483f2f7c20\" x=\"124.472216\" y=\"160.1472\" style=\"fill: #0000ff; fill-opacity: 0.7; stroke: #0000ff; stroke-opacity: 0.7\"/>\n",
       "     <use xlink:href=\"#m483f2f7c20\" x=\"144.359994\" y=\"201.0048\" style=\"fill: #0000ff; fill-opacity: 0.7; stroke: #0000ff; stroke-opacity: 0.7\"/>\n",
       "     <use xlink:href=\"#m483f2f7c20\" x=\"205.546268\" y=\"192.4032\" style=\"fill: #0000ff; fill-opacity: 0.7; stroke: #0000ff; stroke-opacity: 0.7\"/>\n",
       "     <use xlink:href=\"#m483f2f7c20\" x=\"184.135551\" y=\"181.6512\" style=\"fill: #0000ff; fill-opacity: 0.7; stroke: #0000ff; stroke-opacity: 0.7\"/>\n",
       "     <use xlink:href=\"#m483f2f7c20\" x=\"134.147351\" y=\"163.9104\" style=\"fill: #0000ff; fill-opacity: 0.7; stroke: #0000ff; stroke-opacity: 0.7\"/>\n",
       "     <use xlink:href=\"#m483f2f7c20\" x=\"155.378899\" y=\"175.2\" style=\"fill: #0000ff; fill-opacity: 0.7; stroke: #0000ff; stroke-opacity: 0.7\"/>\n",
       "     <use xlink:href=\"#m483f2f7c20\" x=\"105.838622\" y=\"160.1472\" style=\"fill: #0000ff; fill-opacity: 0.7; stroke: #0000ff; stroke-opacity: 0.7\"/>\n",
       "     <use xlink:href=\"#m483f2f7c20\" x=\"102.88233\" y=\"163.9104\" style=\"fill: #0000ff; fill-opacity: 0.7; stroke: #0000ff; stroke-opacity: 0.7\"/>\n",
       "     <use xlink:href=\"#m483f2f7c20\" x=\"110.317851\" y=\"178.4256\" style=\"fill: #0000ff; fill-opacity: 0.7; stroke: #0000ff; stroke-opacity: 0.7\"/>\n",
       "     <use xlink:href=\"#m483f2f7c20\" x=\"146.510024\" y=\"188.64\" style=\"fill: #0000ff; fill-opacity: 0.7; stroke: #0000ff; stroke-opacity: 0.7\"/>\n",
       "     <use xlink:href=\"#m483f2f7c20\" x=\"96.163486\" y=\"153.696\" style=\"fill: #0000ff; fill-opacity: 0.7; stroke: #0000ff; stroke-opacity: 0.7\"/>\n",
       "     <use xlink:href=\"#m483f2f7c20\" x=\"86.846689\" y=\"155.8464\" style=\"fill: #0000ff; fill-opacity: 0.7; stroke: #0000ff; stroke-opacity: 0.7\"/>\n",
       "     <use xlink:href=\"#m483f2f7c20\" x=\"96.43224\" y=\"164.448\" style=\"fill: #0000ff; fill-opacity: 0.7; stroke: #0000ff; stroke-opacity: 0.7\"/>\n",
       "     <use xlink:href=\"#m483f2f7c20\" x=\"155.916406\" y=\"168.7488\" style=\"fill: #0000ff; fill-opacity: 0.7; stroke: #0000ff; stroke-opacity: 0.7\"/>\n",
       "     <use xlink:href=\"#m483f2f7c20\" x=\"130.653552\" y=\"184.3392\" style=\"fill: #0000ff; fill-opacity: 0.7; stroke: #0000ff; stroke-opacity: 0.7\"/>\n",
       "     <use xlink:href=\"#m483f2f7c20\" x=\"107.092806\" y=\"166.5984\" style=\"fill: #0000ff; fill-opacity: 0.7; stroke: #0000ff; stroke-opacity: 0.7\"/>\n",
       "     <use xlink:href=\"#m483f2f7c20\" x=\"122.770109\" y=\"181.6512\" style=\"fill: #0000ff; fill-opacity: 0.7; stroke: #0000ff; stroke-opacity: 0.7\"/>\n",
       "     <use xlink:href=\"#m483f2f7c20\" x=\"152.691361\" y=\"196.1664\" style=\"fill: #0000ff; fill-opacity: 0.7; stroke: #0000ff; stroke-opacity: 0.7\"/>\n",
       "     <use xlink:href=\"#m483f2f7c20\" x=\"111.482451\" y=\"183.8016\" style=\"fill: #0000ff; fill-opacity: 0.7; stroke: #0000ff; stroke-opacity: 0.7\"/>\n",
       "     <use xlink:href=\"#m483f2f7c20\" x=\"92.221764\" y=\"168.7488\" style=\"fill: #0000ff; fill-opacity: 0.7; stroke: #0000ff; stroke-opacity: 0.7\"/>\n",
       "     <use xlink:href=\"#m483f2f7c20\" x=\"101.807315\" y=\"176.8128\" style=\"fill: #0000ff; fill-opacity: 0.7; stroke: #0000ff; stroke-opacity: 0.7\"/>\n",
       "     <use xlink:href=\"#m483f2f7c20\" x=\"113.094973\" y=\"174.6624\" style=\"fill: #0000ff; fill-opacity: 0.7; stroke: #0000ff; stroke-opacity: 0.7\"/>\n",
       "     <use xlink:href=\"#m483f2f7c20\" x=\"129.130614\" y=\"183.264\" style=\"fill: #0000ff; fill-opacity: 0.7; stroke: #0000ff; stroke-opacity: 0.7\"/>\n",
       "     <use xlink:href=\"#m483f2f7c20\" x=\"135.939043\" y=\"188.64\" style=\"fill: #0000ff; fill-opacity: 0.7; stroke: #0000ff; stroke-opacity: 0.7\"/>\n",
       "     <use xlink:href=\"#m483f2f7c20\" x=\"117.574203\" y=\"177.3504\" style=\"fill: #0000ff; fill-opacity: 0.7; stroke: #0000ff; stroke-opacity: 0.7\"/>\n",
       "     <use xlink:href=\"#m483f2f7c20\" x=\"128.593107\" y=\"185.952\" style=\"fill: #0000ff; fill-opacity: 0.7; stroke: #0000ff; stroke-opacity: 0.7\"/>\n",
       "     <use xlink:href=\"#m483f2f7c20\" x=\"124.5618\" y=\"187.5648\" style=\"fill: #0000ff; fill-opacity: 0.7; stroke: #0000ff; stroke-opacity: 0.7\"/>\n",
       "     <use xlink:href=\"#m483f2f7c20\" x=\"90.519657\" y=\"112.3008\" style=\"fill: #0000ff; fill-opacity: 0.7; stroke: #0000ff; stroke-opacity: 0.7\"/>\n",
       "     <use xlink:href=\"#m483f2f7c20\" x=\"118.828387\" y=\"199.392\" style=\"fill: #0000ff; fill-opacity: 0.7; stroke: #0000ff; stroke-opacity: 0.7\"/>\n",
       "     <use xlink:href=\"#m483f2f7c20\" x=\"105.659453\" y=\"159.6096\" style=\"fill: #0000ff; fill-opacity: 0.7; stroke: #0000ff; stroke-opacity: 0.7\"/>\n",
       "     <use xlink:href=\"#m483f2f7c20\" x=\"82.636214\" y=\"120.3648\" style=\"fill: #0000ff; fill-opacity: 0.7; stroke: #0000ff; stroke-opacity: 0.7\"/>\n",
       "     <use xlink:href=\"#m483f2f7c20\" x=\"135.670289\" y=\"194.016\" style=\"fill: #0000ff; fill-opacity: 0.7; stroke: #0000ff; stroke-opacity: 0.7\"/>\n",
       "     <use xlink:href=\"#m483f2f7c20\" x=\"154.841391\" y=\"195.6288\" style=\"fill: #0000ff; fill-opacity: 0.7; stroke: #0000ff; stroke-opacity: 0.7\"/>\n",
       "     <use xlink:href=\"#m483f2f7c20\" x=\"98.313516\" y=\"163.9104\" style=\"fill: #0000ff; fill-opacity: 0.7; stroke: #0000ff; stroke-opacity: 0.7\"/>\n",
       "     <use xlink:href=\"#m483f2f7c20\" x=\"94.998887\" y=\"156.384\" style=\"fill: #0000ff; fill-opacity: 0.7; stroke: #0000ff; stroke-opacity: 0.7\"/>\n",
       "     <use xlink:href=\"#m483f2f7c20\" x=\"94.103041\" y=\"145.0944\" style=\"fill: #0000ff; fill-opacity: 0.7; stroke: #0000ff; stroke-opacity: 0.7\"/>\n",
       "     <use xlink:href=\"#m483f2f7c20\" x=\"94.909302\" y=\"164.9856\" style=\"fill: #0000ff; fill-opacity: 0.7; stroke: #0000ff; stroke-opacity: 0.7\"/>\n",
       "     <use xlink:href=\"#m483f2f7c20\" x=\"90.519657\" y=\"158.5344\" style=\"fill: #0000ff; fill-opacity: 0.7; stroke: #0000ff; stroke-opacity: 0.7\"/>\n",
       "     <use xlink:href=\"#m483f2f7c20\" x=\"111.124112\" y=\"188.1024\" style=\"fill: #0000ff; fill-opacity: 0.7; stroke: #0000ff; stroke-opacity: 0.7\"/>\n",
       "     <use xlink:href=\"#m483f2f7c20\" x=\"81.650783\" y=\"126.2784\" style=\"fill: #0000ff; fill-opacity: 0.7; stroke: #0000ff; stroke-opacity: 0.7\"/>\n",
       "     <use xlink:href=\"#m483f2f7c20\" x=\"113.453312\" y=\"190.2528\" style=\"fill: #0000ff; fill-opacity: 0.7; stroke: #0000ff; stroke-opacity: 0.7\"/>\n",
       "     <use xlink:href=\"#m483f2f7c20\" x=\"91.236334\" y=\"177.3504\" style=\"fill: #0000ff; fill-opacity: 0.7; stroke: #0000ff; stroke-opacity: 0.7\"/>\n",
       "     <use xlink:href=\"#m483f2f7c20\" x=\"199.006593\" y=\"192.4032\" style=\"fill: #0000ff; fill-opacity: 0.7; stroke: #0000ff; stroke-opacity: 0.7\"/>\n",
       "     <use xlink:href=\"#m483f2f7c20\" x=\"160.216466\" y=\"171.4368\" style=\"fill: #0000ff; fill-opacity: 0.7; stroke: #0000ff; stroke-opacity: 0.7\"/>\n",
       "     <use xlink:href=\"#m483f2f7c20\" x=\"144.180825\" y=\"166.0608\" style=\"fill: #0000ff; fill-opacity: 0.7; stroke: #0000ff; stroke-opacity: 0.7\"/>\n",
       "     <use xlink:href=\"#m483f2f7c20\" x=\"154.841391\" y=\"166.5984\" style=\"fill: #0000ff; fill-opacity: 0.7; stroke: #0000ff; stroke-opacity: 0.7\"/>\n",
       "     <use xlink:href=\"#m483f2f7c20\" x=\"111.124112\" y=\"153.696\" style=\"fill: #0000ff; fill-opacity: 0.7; stroke: #0000ff; stroke-opacity: 0.7\"/>\n",
       "     <use xlink:href=\"#m483f2f7c20\" x=\"168.458248\" y=\"181.1136\" style=\"fill: #0000ff; fill-opacity: 0.7; stroke: #0000ff; stroke-opacity: 0.7\"/>\n",
       "     <use xlink:href=\"#m483f2f7c20\" x=\"132.624413\" y=\"176.2752\" style=\"fill: #0000ff; fill-opacity: 0.7; stroke: #0000ff; stroke-opacity: 0.7\"/>\n",
       "     <use xlink:href=\"#m483f2f7c20\" x=\"172.489555\" y=\"197.7792\" style=\"fill: #0000ff; fill-opacity: 0.7; stroke: #0000ff; stroke-opacity: 0.7\"/>\n",
       "     <use xlink:href=\"#m483f2f7c20\" x=\"88.727965\" y=\"170.3616\" style=\"fill: #0000ff; fill-opacity: 0.7; stroke: #0000ff; stroke-opacity: 0.7\"/>\n",
       "     <use xlink:href=\"#m483f2f7c20\" x=\"105.121945\" y=\"140.256\" style=\"fill: #0000ff; fill-opacity: 0.7; stroke: #0000ff; stroke-opacity: 0.7\"/>\n",
       "     <use xlink:href=\"#m483f2f7c20\" x=\"166.756141\" y=\"170.3616\" style=\"fill: #0000ff; fill-opacity: 0.7; stroke: #0000ff; stroke-opacity: 0.7\"/>\n",
       "     <use xlink:href=\"#m483f2f7c20\" x=\"160.753974\" y=\"163.9104\" style=\"fill: #0000ff; fill-opacity: 0.7; stroke: #0000ff; stroke-opacity: 0.7\"/>\n",
       "     <use xlink:href=\"#m483f2f7c20\" x=\"70.542294\" y=\"19.296\" style=\"fill: #0000ff; fill-opacity: 0.7; stroke: #0000ff; stroke-opacity: 0.7\"/>\n",
       "     <use xlink:href=\"#m483f2f7c20\" x=\"74.75277\" y=\"19.296\" style=\"fill: #0000ff; fill-opacity: 0.7; stroke: #0000ff; stroke-opacity: 0.7\"/>\n",
       "     <use xlink:href=\"#m483f2f7c20\" x=\"67.854757\" y=\"19.296\" style=\"fill: #0000ff; fill-opacity: 0.7; stroke: #0000ff; stroke-opacity: 0.7\"/>\n",
       "     <use xlink:href=\"#m483f2f7c20\" x=\"126.711831\" y=\"19.296\" style=\"fill: #0000ff; fill-opacity: 0.7; stroke: #0000ff; stroke-opacity: 0.7\"/>\n",
       "     <use xlink:href=\"#m483f2f7c20\" x=\"120.888832\" y=\"19.296\" style=\"fill: #0000ff; fill-opacity: 0.7; stroke: #0000ff; stroke-opacity: 0.7\"/>\n",
       "     <use xlink:href=\"#m483f2f7c20\" x=\"352.82333\" y=\"213.9072\" style=\"fill: #0000ff; fill-opacity: 0.7; stroke: #0000ff; stroke-opacity: 0.7\"/>\n",
       "     <use xlink:href=\"#m483f2f7c20\" x=\"381.490398\" y=\"213.9072\" style=\"fill: #0000ff; fill-opacity: 0.7; stroke: #0000ff; stroke-opacity: 0.7\"/>\n",
       "     <use xlink:href=\"#m483f2f7c20\" x=\"161.739404\" y=\"207.456\" style=\"fill: #0000ff; fill-opacity: 0.7; stroke: #0000ff; stroke-opacity: 0.7\"/>\n",
       "     <use xlink:href=\"#m483f2f7c20\" x=\"249.5323\" y=\"213.3696\" style=\"fill: #0000ff; fill-opacity: 0.7; stroke: #0000ff; stroke-opacity: 0.7\"/>\n",
       "     <use xlink:href=\"#m483f2f7c20\" x=\"231.615383\" y=\"216.5952\" style=\"fill: #0000ff; fill-opacity: 0.7; stroke: #0000ff; stroke-opacity: 0.7\"/>\n",
       "     <use xlink:href=\"#m483f2f7c20\" x=\"253.563607\" y=\"217.6704\" style=\"fill: #0000ff; fill-opacity: 0.7; stroke: #0000ff; stroke-opacity: 0.7\"/>\n",
       "     <use xlink:href=\"#m483f2f7c20\" x=\"236.45295\" y=\"233.2608\" style=\"fill: #0000ff; fill-opacity: 0.7; stroke: #0000ff; stroke-opacity: 0.7\"/>\n",
       "     <use xlink:href=\"#m483f2f7c20\" x=\"195.512794\" y=\"232.1856\" style=\"fill: #0000ff; fill-opacity: 0.7; stroke: #0000ff; stroke-opacity: 0.7\"/>\n",
       "     <use xlink:href=\"#m483f2f7c20\" x=\"230.182029\" y=\"229.4976\" style=\"fill: #0000ff; fill-opacity: 0.7; stroke: #0000ff; stroke-opacity: 0.7\"/>\n",
       "     <use xlink:href=\"#m483f2f7c20\" x=\"252.757345\" y=\"227.3472\" style=\"fill: #0000ff; fill-opacity: 0.7; stroke: #0000ff; stroke-opacity: 0.7\"/>\n",
       "     <use xlink:href=\"#m483f2f7c20\" x=\"261.357466\" y=\"221.9712\" style=\"fill: #0000ff; fill-opacity: 0.7; stroke: #0000ff; stroke-opacity: 0.7\"/>\n",
       "     <use xlink:href=\"#m483f2f7c20\" x=\"315.73531\" y=\"240.7872\" style=\"fill: #0000ff; fill-opacity: 0.7; stroke: #0000ff; stroke-opacity: 0.7\"/>\n",
       "     <use xlink:href=\"#m483f2f7c20\" x=\"317.347833\" y=\"249.3888\" style=\"fill: #0000ff; fill-opacity: 0.7; stroke: #0000ff; stroke-opacity: 0.7\"/>\n",
       "     <use xlink:href=\"#m483f2f7c20\" x=\"294.682932\" y=\"231.648\" style=\"fill: #0000ff; fill-opacity: 0.7; stroke: #0000ff; stroke-opacity: 0.7\"/>\n",
       "     <use xlink:href=\"#m483f2f7c20\" x=\"327.918814\" y=\"248.3136\" style=\"fill: #0000ff; fill-opacity: 0.7; stroke: #0000ff; stroke-opacity: 0.7\"/>\n",
       "     <use xlink:href=\"#m483f2f7c20\" x=\"315.645726\" y=\"233.2608\" style=\"fill: #0000ff; fill-opacity: 0.7; stroke: #0000ff; stroke-opacity: 0.7\"/>\n",
       "     <use xlink:href=\"#m483f2f7c20\" x=\"228.121584\" y=\"226.272\" style=\"fill: #0000ff; fill-opacity: 0.7; stroke: #0000ff; stroke-opacity: 0.7\"/>\n",
       "     <use xlink:href=\"#m483f2f7c20\" x=\"194.616948\" y=\"206.9184\" style=\"fill: #0000ff; fill-opacity: 0.7; stroke: #0000ff; stroke-opacity: 0.7\"/>\n",
       "     <use xlink:href=\"#m483f2f7c20\" x=\"209.398405\" y=\"163.3728\" style=\"fill: #0000ff; fill-opacity: 0.7; stroke: #0000ff; stroke-opacity: 0.7\"/>\n",
       "     <use xlink:href=\"#m483f2f7c20\" x=\"271.39094\" y=\"235.9488\" style=\"fill: #0000ff; fill-opacity: 0.7; stroke: #0000ff; stroke-opacity: 0.7\"/>\n",
       "     <use xlink:href=\"#m483f2f7c20\" x=\"177.237538\" y=\"213.9072\" style=\"fill: #0000ff; fill-opacity: 0.7; stroke: #0000ff; stroke-opacity: 0.7\"/>\n",
       "     <use xlink:href=\"#m483f2f7c20\" x=\"187.808519\" y=\"219.8208\" style=\"fill: #0000ff; fill-opacity: 0.7; stroke: #0000ff; stroke-opacity: 0.7\"/>\n",
       "     <use xlink:href=\"#m483f2f7c20\" x=\"194.706533\" y=\"217.6704\" style=\"fill: #0000ff; fill-opacity: 0.7; stroke: #0000ff; stroke-opacity: 0.7\"/>\n",
       "     <use xlink:href=\"#m483f2f7c20\" x=\"214.863065\" y=\"220.896\" style=\"fill: #0000ff; fill-opacity: 0.7; stroke: #0000ff; stroke-opacity: 0.7\"/>\n",
       "     <use xlink:href=\"#m483f2f7c20\" x=\"219.790217\" y=\"242.4\" style=\"fill: #0000ff; fill-opacity: 0.7; stroke: #0000ff; stroke-opacity: 0.7\"/>\n",
       "     <use xlink:href=\"#m483f2f7c20\" x=\"315.376972\" y=\"261.216\" style=\"fill: #0000ff; fill-opacity: 0.7; stroke: #0000ff; stroke-opacity: 0.7\"/>\n",
       "     <use xlink:href=\"#m483f2f7c20\" x=\"309.822728\" y=\"254.2272\" style=\"fill: #0000ff; fill-opacity: 0.7; stroke: #0000ff; stroke-opacity: 0.7\"/>\n",
       "     <use xlink:href=\"#m483f2f7c20\" x=\"281.15566\" y=\"257.9904\" style=\"fill: #0000ff; fill-opacity: 0.7; stroke: #0000ff; stroke-opacity: 0.7\"/>\n",
       "     <use xlink:href=\"#m483f2f7c20\" x=\"223.373601\" y=\"249.3888\" style=\"fill: #0000ff; fill-opacity: 0.7; stroke: #0000ff; stroke-opacity: 0.7\"/>\n",
       "     <use xlink:href=\"#m483f2f7c20\" x=\"223.284016\" y=\"223.0464\" style=\"fill: #0000ff; fill-opacity: 0.7; stroke: #0000ff; stroke-opacity: 0.7\"/>\n",
       "     <use xlink:href=\"#m483f2f7c20\" x=\"218.446448\" y=\"243.4752\" style=\"fill: #0000ff; fill-opacity: 0.7; stroke: #0000ff; stroke-opacity: 0.7\"/>\n",
       "     <use xlink:href=\"#m483f2f7c20\" x=\"286.620319\" y=\"242.4\" style=\"fill: #0000ff; fill-opacity: 0.7; stroke: #0000ff; stroke-opacity: 0.7\"/>\n",
       "     <use xlink:href=\"#m483f2f7c20\" x=\"247.203101\" y=\"261.216\" style=\"fill: #0000ff; fill-opacity: 0.7; stroke: #0000ff; stroke-opacity: 0.7\"/>\n",
       "     <use xlink:href=\"#m483f2f7c20\" x=\"250.428146\" y=\"224.1216\" style=\"fill: #0000ff; fill-opacity: 0.7; stroke: #0000ff; stroke-opacity: 0.7\"/>\n",
       "     <use xlink:href=\"#m483f2f7c20\" x=\"150.003823\" y=\"138.1056\" style=\"fill: #0000ff; fill-opacity: 0.7; stroke: #0000ff; stroke-opacity: 0.7\"/>\n",
       "     <use xlink:href=\"#m483f2f7c20\" x=\"277.84103\" y=\"195.6288\" style=\"fill: #0000ff; fill-opacity: 0.7; stroke: #0000ff; stroke-opacity: 0.7\"/>\n",
       "     <use xlink:href=\"#m483f2f7c20\" x=\"218.536033\" y=\"140.256\" style=\"fill: #0000ff; fill-opacity: 0.7; stroke: #0000ff; stroke-opacity: 0.7\"/>\n",
       "     <use xlink:href=\"#m483f2f7c20\" x=\"131.907737\" y=\"207.456\" style=\"fill: #0000ff; fill-opacity: 0.7; stroke: #0000ff; stroke-opacity: 0.7\"/>\n",
       "     <use xlink:href=\"#m483f2f7c20\" x=\"231.436214\" y=\"195.6288\" style=\"fill: #0000ff; fill-opacity: 0.7; stroke: #0000ff; stroke-opacity: 0.7\"/>\n",
       "     <use xlink:href=\"#m483f2f7c20\" x=\"349.239946\" y=\"191.8656\" style=\"fill: #0000ff; fill-opacity: 0.7; stroke: #0000ff; stroke-opacity: 0.7\"/>\n",
       "     <use xlink:href=\"#m483f2f7c20\" x=\"221.223571\" y=\"200.4672\" style=\"fill: #0000ff; fill-opacity: 0.7; stroke: #0000ff; stroke-opacity: 0.7\"/>\n",
       "     <use xlink:href=\"#m483f2f7c20\" x=\"372.621524\" y=\"250.464\" style=\"fill: #0000ff; fill-opacity: 0.7; stroke: #0000ff; stroke-opacity: 0.7\"/>\n",
       "     <use xlink:href=\"#m483f2f7c20\" x=\"301.580946\" y=\"249.3888\" style=\"fill: #0000ff; fill-opacity: 0.7; stroke: #0000ff; stroke-opacity: 0.7\"/>\n",
       "     <use xlink:href=\"#m483f2f7c20\" x=\"272.37637\" y=\"247.776\" style=\"fill: #0000ff; fill-opacity: 0.7; stroke: #0000ff; stroke-opacity: 0.7\"/>\n",
       "     <use xlink:href=\"#m483f2f7c20\" x=\"279.99106\" y=\"232.1856\" style=\"fill: #0000ff; fill-opacity: 0.7; stroke: #0000ff; stroke-opacity: 0.7\"/>\n",
       "     <use xlink:href=\"#m483f2f7c20\" x=\"226.061138\" y=\"240.7872\" style=\"fill: #0000ff; fill-opacity: 0.7; stroke: #0000ff; stroke-opacity: 0.7\"/>\n",
       "     <use xlink:href=\"#m483f2f7c20\" x=\"245.053071\" y=\"242.9376\" style=\"fill: #0000ff; fill-opacity: 0.7; stroke: #0000ff; stroke-opacity: 0.7\"/>\n",
       "     <use xlink:href=\"#m483f2f7c20\" x=\"175.893769\" y=\"198.3168\" style=\"fill: #0000ff; fill-opacity: 0.7; stroke: #0000ff; stroke-opacity: 0.7\"/>\n",
       "     <use xlink:href=\"#m483f2f7c20\" x=\"181.985521\" y=\"211.7568\" style=\"fill: #0000ff; fill-opacity: 0.7; stroke: #0000ff; stroke-opacity: 0.7\"/>\n",
       "     <use xlink:href=\"#m483f2f7c20\" x=\"167.651987\" y=\"176.2752\" style=\"fill: #0000ff; fill-opacity: 0.7; stroke: #0000ff; stroke-opacity: 0.7\"/>\n",
       "     <use xlink:href=\"#m483f2f7c20\" x=\"249.980223\" y=\"216.0576\" style=\"fill: #0000ff; fill-opacity: 0.7; stroke: #0000ff; stroke-opacity: 0.7\"/>\n",
       "     <use xlink:href=\"#m483f2f7c20\" x=\"195.064871\" y=\"225.1968\" style=\"fill: #0000ff; fill-opacity: 0.7; stroke: #0000ff; stroke-opacity: 0.7\"/>\n",
       "     <use xlink:href=\"#m483f2f7c20\" x=\"259.834528\" y=\"243.4752\" style=\"fill: #0000ff; fill-opacity: 0.7; stroke: #0000ff; stroke-opacity: 0.7\"/>\n",
       "     <use xlink:href=\"#m483f2f7c20\" x=\"181.895937\" y=\"233.2608\" style=\"fill: #0000ff; fill-opacity: 0.7; stroke: #0000ff; stroke-opacity: 0.7\"/>\n",
       "     <use xlink:href=\"#m483f2f7c20\" x=\"171.41454\" y=\"229.4976\" style=\"fill: #0000ff; fill-opacity: 0.7; stroke: #0000ff; stroke-opacity: 0.7\"/>\n",
       "     <use xlink:href=\"#m483f2f7c20\" x=\"234.123751\" y=\"228.96\" style=\"fill: #0000ff; fill-opacity: 0.7; stroke: #0000ff; stroke-opacity: 0.7\"/>\n",
       "     <use xlink:href=\"#m483f2f7c20\" x=\"257.057406\" y=\"237.024\" style=\"fill: #0000ff; fill-opacity: 0.7; stroke: #0000ff; stroke-opacity: 0.7\"/>\n",
       "     <use xlink:href=\"#m483f2f7c20\" x=\"199.364931\" y=\"210.144\" style=\"fill: #0000ff; fill-opacity: 0.7; stroke: #0000ff; stroke-opacity: 0.7\"/>\n",
       "     <use xlink:href=\"#m483f2f7c20\" x=\"217.729772\" y=\"212.2944\" style=\"fill: #0000ff; fill-opacity: 0.7; stroke: #0000ff; stroke-opacity: 0.7\"/>\n",
       "     <use xlink:href=\"#m483f2f7c20\" x=\"149.107977\" y=\"201.5424\" style=\"fill: #0000ff; fill-opacity: 0.7; stroke: #0000ff; stroke-opacity: 0.7\"/>\n",
       "     <use xlink:href=\"#m483f2f7c20\" x=\"186.64392\" y=\"211.2192\" style=\"fill: #0000ff; fill-opacity: 0.7; stroke: #0000ff; stroke-opacity: 0.7\"/>\n",
       "     <use xlink:href=\"#m483f2f7c20\" x=\"177.237538\" y=\"225.1968\" style=\"fill: #0000ff; fill-opacity: 0.7; stroke: #0000ff; stroke-opacity: 0.7\"/>\n",
       "     <use xlink:href=\"#m483f2f7c20\" x=\"249.801054\" y=\"216.0576\" style=\"fill: #0000ff; fill-opacity: 0.7; stroke: #0000ff; stroke-opacity: 0.7\"/>\n",
       "     <use xlink:href=\"#m483f2f7c20\" x=\"203.037899\" y=\"236.4864\" style=\"fill: #0000ff; fill-opacity: 0.7; stroke: #0000ff; stroke-opacity: 0.7\"/>\n",
       "     <use xlink:href=\"#m483f2f7c20\" x=\"278.288953\" y=\"241.3248\" style=\"fill: #0000ff; fill-opacity: 0.7; stroke: #0000ff; stroke-opacity: 0.7\"/>\n",
       "     <use xlink:href=\"#m483f2f7c20\" x=\"346.104486\" y=\"242.9376\" style=\"fill: #0000ff; fill-opacity: 0.7; stroke: #0000ff; stroke-opacity: 0.7\"/>\n",
       "     <use xlink:href=\"#m483f2f7c20\" x=\"246.307255\" y=\"219.2832\" style=\"fill: #0000ff; fill-opacity: 0.7; stroke: #0000ff; stroke-opacity: 0.7\"/>\n",
       "     <use xlink:href=\"#m483f2f7c20\" x=\"239.409242\" y=\"231.648\" style=\"fill: #0000ff; fill-opacity: 0.7; stroke: #0000ff; stroke-opacity: 0.7\"/>\n",
       "     <use xlink:href=\"#m483f2f7c20\" x=\"216.206834\" y=\"196.1664\" style=\"fill: #0000ff; fill-opacity: 0.7; stroke: #0000ff; stroke-opacity: 0.7\"/>\n",
       "     <use xlink:href=\"#m483f2f7c20\" x=\"189.958549\" y=\"189.1776\" style=\"fill: #0000ff; fill-opacity: 0.7; stroke: #0000ff; stroke-opacity: 0.7\"/>\n",
       "     <use xlink:href=\"#m483f2f7c20\" x=\"210.204666\" y=\"205.3056\" style=\"fill: #0000ff; fill-opacity: 0.7; stroke: #0000ff; stroke-opacity: 0.7\"/>\n",
       "     <use xlink:href=\"#m483f2f7c20\" x=\"254.459453\" y=\"230.0352\" style=\"fill: #0000ff; fill-opacity: 0.7; stroke: #0000ff; stroke-opacity: 0.7\"/>\n",
       "     <use xlink:href=\"#m483f2f7c20\" x=\"256.16156\" y=\"224.6592\" style=\"fill: #0000ff; fill-opacity: 0.7; stroke: #0000ff; stroke-opacity: 0.7\"/>\n",
       "     <use xlink:href=\"#m483f2f7c20\" x=\"200.7087\" y=\"207.9936\" style=\"fill: #0000ff; fill-opacity: 0.7; stroke: #0000ff; stroke-opacity: 0.7\"/>\n",
       "     <use xlink:href=\"#m483f2f7c20\" x=\"188.614781\" y=\"220.3584\" style=\"fill: #0000ff; fill-opacity: 0.7; stroke: #0000ff; stroke-opacity: 0.7\"/>\n",
       "     <use xlink:href=\"#m483f2f7c20\" x=\"203.754576\" y=\"212.2944\" style=\"fill: #0000ff; fill-opacity: 0.7; stroke: #0000ff; stroke-opacity: 0.7\"/>\n",
       "     <use xlink:href=\"#m483f2f7c20\" x=\"214.325557\" y=\"218.208\" style=\"fill: #0000ff; fill-opacity: 0.7; stroke: #0000ff; stroke-opacity: 0.7\"/>\n",
       "     <use xlink:href=\"#m483f2f7c20\" x=\"197.573239\" y=\"216.0576\" style=\"fill: #0000ff; fill-opacity: 0.7; stroke: #0000ff; stroke-opacity: 0.7\"/>\n",
       "     <use xlink:href=\"#m483f2f7c20\" x=\"200.171192\" y=\"206.3808\" style=\"fill: #0000ff; fill-opacity: 0.7; stroke: #0000ff; stroke-opacity: 0.7\"/>\n",
       "     <use xlink:href=\"#m483f2f7c20\" x=\"196.050301\" y=\"201.5424\" style=\"fill: #0000ff; fill-opacity: 0.7; stroke: #0000ff; stroke-opacity: 0.7\"/>\n",
       "     <use xlink:href=\"#m483f2f7c20\" x=\"191.302318\" y=\"192.4032\" style=\"fill: #0000ff; fill-opacity: 0.7; stroke: #0000ff; stroke-opacity: 0.7\"/>\n",
       "     <use xlink:href=\"#m483f2f7c20\" x=\"208.950482\" y=\"207.9936\" style=\"fill: #0000ff; fill-opacity: 0.7; stroke: #0000ff; stroke-opacity: 0.7\"/>\n",
       "     <use xlink:href=\"#m483f2f7c20\" x=\"203.754576\" y=\"212.2944\" style=\"fill: #0000ff; fill-opacity: 0.7; stroke: #0000ff; stroke-opacity: 0.7\"/>\n",
       "     <use xlink:href=\"#m483f2f7c20\" x=\"211.63802\" y=\"219.8208\" style=\"fill: #0000ff; fill-opacity: 0.7; stroke: #0000ff; stroke-opacity: 0.7\"/>\n",
       "     <use xlink:href=\"#m483f2f7c20\" x=\"193.09401\" y=\"215.52\" style=\"fill: #0000ff; fill-opacity: 0.7; stroke: #0000ff; stroke-opacity: 0.7\"/>\n",
       "     <use xlink:href=\"#m483f2f7c20\" x=\"186.733504\" y=\"207.9936\" style=\"fill: #0000ff; fill-opacity: 0.7; stroke: #0000ff; stroke-opacity: 0.7\"/>\n",
       "     <use xlink:href=\"#m483f2f7c20\" x=\"173.027062\" y=\"180.576\" style=\"fill: #0000ff; fill-opacity: 0.7; stroke: #0000ff; stroke-opacity: 0.7\"/>\n",
       "     <use xlink:href=\"#m483f2f7c20\" x=\"188.435611\" y=\"199.9296\" style=\"fill: #0000ff; fill-opacity: 0.7; stroke: #0000ff; stroke-opacity: 0.7\"/>\n",
       "     <use xlink:href=\"#m483f2f7c20\" x=\"172.579139\" y=\"192.9408\" style=\"fill: #0000ff; fill-opacity: 0.7; stroke: #0000ff; stroke-opacity: 0.7\"/>\n",
       "     <use xlink:href=\"#m483f2f7c20\" x=\"166.666557\" y=\"183.264\" style=\"fill: #0000ff; fill-opacity: 0.7; stroke: #0000ff; stroke-opacity: 0.7\"/>\n",
       "     <use xlink:href=\"#m483f2f7c20\" x=\"133.520259\" y=\"179.5008\" style=\"fill: #0000ff; fill-opacity: 0.7; stroke: #0000ff; stroke-opacity: 0.7\"/>\n",
       "     <use xlink:href=\"#m483f2f7c20\" x=\"159.768543\" y=\"173.0496\" style=\"fill: #0000ff; fill-opacity: 0.7; stroke: #0000ff; stroke-opacity: 0.7\"/>\n",
       "     <use xlink:href=\"#m483f2f7c20\" x=\"167.920741\" y=\"181.1136\" style=\"fill: #0000ff; fill-opacity: 0.7; stroke: #0000ff; stroke-opacity: 0.7\"/>\n",
       "     <use xlink:href=\"#m483f2f7c20\" x=\"194.975286\" y=\"185.952\" style=\"fill: #0000ff; fill-opacity: 0.7; stroke: #0000ff; stroke-opacity: 0.7\"/>\n",
       "     <use xlink:href=\"#m483f2f7c20\" x=\"232.332059\" y=\"185.4144\" style=\"fill: #0000ff; fill-opacity: 0.7; stroke: #0000ff; stroke-opacity: 0.7\"/>\n",
       "     <use xlink:href=\"#m483f2f7c20\" x=\"203.754576\" y=\"185.4144\" style=\"fill: #0000ff; fill-opacity: 0.7; stroke: #0000ff; stroke-opacity: 0.7\"/>\n",
       "     <use xlink:href=\"#m483f2f7c20\" x=\"173.56457\" y=\"180.0384\" style=\"fill: #0000ff; fill-opacity: 0.7; stroke: #0000ff; stroke-opacity: 0.7\"/>\n",
       "     <use xlink:href=\"#m483f2f7c20\" x=\"187.271012\" y=\"181.1136\" style=\"fill: #0000ff; fill-opacity: 0.7; stroke: #0000ff; stroke-opacity: 0.7\"/>\n",
       "     <use xlink:href=\"#m483f2f7c20\" x=\"156.633083\" y=\"182.7264\" style=\"fill: #0000ff; fill-opacity: 0.7; stroke: #0000ff; stroke-opacity: 0.7\"/>\n",
       "     <use xlink:href=\"#m483f2f7c20\" x=\"169.981186\" y=\"163.3728\" style=\"fill: #0000ff; fill-opacity: 0.7; stroke: #0000ff; stroke-opacity: 0.7\"/>\n",
       "     <use xlink:href=\"#m483f2f7c20\" x=\"145.793348\" y=\"127.8912\" style=\"fill: #0000ff; fill-opacity: 0.7; stroke: #0000ff; stroke-opacity: 0.7\"/>\n",
       "     <use xlink:href=\"#m483f2f7c20\" x=\"203.844161\" y=\"213.9072\" style=\"fill: #0000ff; fill-opacity: 0.7; stroke: #0000ff; stroke-opacity: 0.7\"/>\n",
       "     <use xlink:href=\"#m483f2f7c20\" x=\"257.236575\" y=\"216.5952\" style=\"fill: #0000ff; fill-opacity: 0.7; stroke: #0000ff; stroke-opacity: 0.7\"/>\n",
       "     <use xlink:href=\"#m483f2f7c20\" x=\"208.681728\" y=\"198.3168\" style=\"fill: #0000ff; fill-opacity: 0.7; stroke: #0000ff; stroke-opacity: 0.7\"/>\n",
       "     <use xlink:href=\"#m483f2f7c20\" x=\"264.492926\" y=\"223.584\" style=\"fill: #0000ff; fill-opacity: 0.7; stroke: #0000ff; stroke-opacity: 0.7\"/>\n",
       "     <use xlink:href=\"#m483f2f7c20\" x=\"202.85873\" y=\"209.6064\" style=\"fill: #0000ff; fill-opacity: 0.7; stroke: #0000ff; stroke-opacity: 0.7\"/>\n",
       "     <use xlink:href=\"#m483f2f7c20\" x=\"158.783113\" y=\"173.0496\" style=\"fill: #0000ff; fill-opacity: 0.7; stroke: #0000ff; stroke-opacity: 0.7\"/>\n",
       "     <use xlink:href=\"#m483f2f7c20\" x=\"137.551566\" y=\"164.448\" style=\"fill: #0000ff; fill-opacity: 0.7; stroke: #0000ff; stroke-opacity: 0.7\"/>\n",
       "     <use xlink:href=\"#m483f2f7c20\" x=\"110.676189\" y=\"160.6848\" style=\"fill: #0000ff; fill-opacity: 0.7; stroke: #0000ff; stroke-opacity: 0.7\"/>\n",
       "     <use xlink:href=\"#m483f2f7c20\" x=\"104.136515\" y=\"153.696\" style=\"fill: #0000ff; fill-opacity: 0.7; stroke: #0000ff; stroke-opacity: 0.7\"/>\n",
       "     <use xlink:href=\"#m483f2f7c20\" x=\"134.684859\" y=\"170.8992\" style=\"fill: #0000ff; fill-opacity: 0.7; stroke: #0000ff; stroke-opacity: 0.7\"/>\n",
       "     <use xlink:href=\"#m483f2f7c20\" x=\"160.843558\" y=\"177.3504\" style=\"fill: #0000ff; fill-opacity: 0.7; stroke: #0000ff; stroke-opacity: 0.7\"/>\n",
       "     <use xlink:href=\"#m483f2f7c20\" x=\"136.118212\" y=\"174.1248\" style=\"fill: #0000ff; fill-opacity: 0.7; stroke: #0000ff; stroke-opacity: 0.7\"/>\n",
       "     <use xlink:href=\"#m483f2f7c20\" x=\"175.535431\" y=\"185.4144\" style=\"fill: #0000ff; fill-opacity: 0.7; stroke: #0000ff; stroke-opacity: 0.7\"/>\n",
       "     <use xlink:href=\"#m483f2f7c20\" x=\"143.912071\" y=\"177.3504\" style=\"fill: #0000ff; fill-opacity: 0.7; stroke: #0000ff; stroke-opacity: 0.7\"/>\n",
       "     <use xlink:href=\"#m483f2f7c20\" x=\"203.127484\" y=\"206.3808\" style=\"fill: #0000ff; fill-opacity: 0.7; stroke: #0000ff; stroke-opacity: 0.7\"/>\n",
       "     <use xlink:href=\"#m483f2f7c20\" x=\"256.071975\" y=\"250.464\" style=\"fill: #0000ff; fill-opacity: 0.7; stroke: #0000ff; stroke-opacity: 0.7\"/>\n",
       "     <use xlink:href=\"#m483f2f7c20\" x=\"307.224775\" y=\"244.5504\" style=\"fill: #0000ff; fill-opacity: 0.7; stroke: #0000ff; stroke-opacity: 0.7\"/>\n",
       "     <use xlink:href=\"#m483f2f7c20\" x=\"203.217068\" y=\"214.9824\" style=\"fill: #0000ff; fill-opacity: 0.7; stroke: #0000ff; stroke-opacity: 0.7\"/>\n",
       "     <use xlink:href=\"#m483f2f7c20\" x=\"160.933143\" y=\"180.0384\" style=\"fill: #0000ff; fill-opacity: 0.7; stroke: #0000ff; stroke-opacity: 0.7\"/>\n",
       "     <use xlink:href=\"#m483f2f7c20\" x=\"148.928808\" y=\"170.8992\" style=\"fill: #0000ff; fill-opacity: 0.7; stroke: #0000ff; stroke-opacity: 0.7\"/>\n",
       "     <use xlink:href=\"#m483f2f7c20\" x=\"163.083173\" y=\"156.384\" style=\"fill: #0000ff; fill-opacity: 0.7; stroke: #0000ff; stroke-opacity: 0.7\"/>\n",
       "     <use xlink:href=\"#m483f2f7c20\" x=\"199.006593\" y=\"163.9104\" style=\"fill: #0000ff; fill-opacity: 0.7; stroke: #0000ff; stroke-opacity: 0.7\"/>\n",
       "     <use xlink:href=\"#m483f2f7c20\" x=\"230.719537\" y=\"182.1888\" style=\"fill: #0000ff; fill-opacity: 0.7; stroke: #0000ff; stroke-opacity: 0.7\"/>\n",
       "     <use xlink:href=\"#m483f2f7c20\" x=\"167.651987\" y=\"189.7152\" style=\"fill: #0000ff; fill-opacity: 0.7; stroke: #0000ff; stroke-opacity: 0.7\"/>\n",
       "     <use xlink:href=\"#m483f2f7c20\" x=\"157.081006\" y=\"174.1248\" style=\"fill: #0000ff; fill-opacity: 0.7; stroke: #0000ff; stroke-opacity: 0.7\"/>\n",
       "     <use xlink:href=\"#m483f2f7c20\" x=\"176.610446\" y=\"194.016\" style=\"fill: #0000ff; fill-opacity: 0.7; stroke: #0000ff; stroke-opacity: 0.7\"/>\n",
       "     <use xlink:href=\"#m483f2f7c20\" x=\"169.712433\" y=\"197.7792\" style=\"fill: #0000ff; fill-opacity: 0.7; stroke: #0000ff; stroke-opacity: 0.7\"/>\n",
       "     <use xlink:href=\"#m483f2f7c20\" x=\"127.966015\" y=\"167.6736\" style=\"fill: #0000ff; fill-opacity: 0.7; stroke: #0000ff; stroke-opacity: 0.7\"/>\n",
       "     <use xlink:href=\"#m483f2f7c20\" x=\"122.680524\" y=\"177.3504\" style=\"fill: #0000ff; fill-opacity: 0.7; stroke: #0000ff; stroke-opacity: 0.7\"/>\n",
       "     <use xlink:href=\"#m483f2f7c20\" x=\"91.863426\" y=\"159.6096\" style=\"fill: #0000ff; fill-opacity: 0.7; stroke: #0000ff; stroke-opacity: 0.7\"/>\n",
       "     <use xlink:href=\"#m483f2f7c20\" x=\"99.388531\" y=\"169.824\" style=\"fill: #0000ff; fill-opacity: 0.7; stroke: #0000ff; stroke-opacity: 0.7\"/>\n",
       "     <use xlink:href=\"#m483f2f7c20\" x=\"111.930374\" y=\"224.1216\" style=\"fill: #0000ff; fill-opacity: 0.7; stroke: #0000ff; stroke-opacity: 0.7\"/>\n",
       "    </g>\n",
       "   </g>\n",
       "   <g id=\"matplotlib.axis_1\">\n",
       "    <g id=\"xtick_1\">\n",
       "     <g id=\"line2d_1\">\n",
       "      <path d=\"M 41.337719 273.312 \n",
       "L 41.337719 7.2 \n",
       "\" clip-path=\"url(#p74d065fe7f)\" style=\"fill: none; stroke-dasharray: 0.8,1.32; stroke-dashoffset: 0; stroke: #b0b0b0; stroke-width: 0.8\"/>\n",
       "     </g>\n",
       "     <g id=\"line2d_2\">\n",
       "      <defs>\n",
       "       <path id=\"m85ea8315c5\" d=\"M 0 0 \n",
       "L 0 3.5 \n",
       "\" style=\"stroke: #000000; stroke-width: 0.8\"/>\n",
       "      </defs>\n",
       "      <g>\n",
       "       <use xlink:href=\"#m85ea8315c5\" x=\"41.337719\" y=\"273.312\" style=\"stroke: #000000; stroke-width: 0.8\"/>\n",
       "      </g>\n",
       "     </g>\n",
       "     <g id=\"text_1\">\n",
       "      <!-- 0 -->\n",
       "      <g transform=\"translate(38.156469 287.910437) scale(0.1 -0.1)\">\n",
       "       <defs>\n",
       "        <path id=\"DejaVuSans-30\" d=\"M 2034 4250 \n",
       "Q 1547 4250 1301 3770 \n",
       "Q 1056 3291 1056 2328 \n",
       "Q 1056 1369 1301 889 \n",
       "Q 1547 409 2034 409 \n",
       "Q 2525 409 2770 889 \n",
       "Q 3016 1369 3016 2328 \n",
       "Q 3016 3291 2770 3770 \n",
       "Q 2525 4250 2034 4250 \n",
       "z\n",
       "M 2034 4750 \n",
       "Q 2819 4750 3233 4129 \n",
       "Q 3647 3509 3647 2328 \n",
       "Q 3647 1150 3233 529 \n",
       "Q 2819 -91 2034 -91 \n",
       "Q 1250 -91 836 529 \n",
       "Q 422 1150 422 2328 \n",
       "Q 422 3509 836 4129 \n",
       "Q 1250 4750 2034 4750 \n",
       "z\n",
       "\" transform=\"scale(0.015625)\"/>\n",
       "       </defs>\n",
       "       <use xlink:href=\"#DejaVuSans-30\"/>\n",
       "      </g>\n",
       "     </g>\n",
       "    </g>\n",
       "    <g id=\"xtick_2\">\n",
       "     <g id=\"line2d_3\">\n",
       "      <path d=\"M 86.130012 273.312 \n",
       "L 86.130012 7.2 \n",
       "\" clip-path=\"url(#p74d065fe7f)\" style=\"fill: none; stroke-dasharray: 0.8,1.32; stroke-dashoffset: 0; stroke: #b0b0b0; stroke-width: 0.8\"/>\n",
       "     </g>\n",
       "     <g id=\"line2d_4\">\n",
       "      <g>\n",
       "       <use xlink:href=\"#m85ea8315c5\" x=\"86.130012\" y=\"273.312\" style=\"stroke: #000000; stroke-width: 0.8\"/>\n",
       "      </g>\n",
       "     </g>\n",
       "     <g id=\"text_2\">\n",
       "      <!-- 5 -->\n",
       "      <g transform=\"translate(82.948762 287.910437) scale(0.1 -0.1)\">\n",
       "       <defs>\n",
       "        <path id=\"DejaVuSans-35\" d=\"M 691 4666 \n",
       "L 3169 4666 \n",
       "L 3169 4134 \n",
       "L 1269 4134 \n",
       "L 1269 2991 \n",
       "Q 1406 3038 1543 3061 \n",
       "Q 1681 3084 1819 3084 \n",
       "Q 2600 3084 3056 2656 \n",
       "Q 3513 2228 3513 1497 \n",
       "Q 3513 744 3044 326 \n",
       "Q 2575 -91 1722 -91 \n",
       "Q 1428 -91 1123 -41 \n",
       "Q 819 9 494 109 \n",
       "L 494 744 \n",
       "Q 775 591 1075 516 \n",
       "Q 1375 441 1709 441 \n",
       "Q 2250 441 2565 725 \n",
       "Q 2881 1009 2881 1497 \n",
       "Q 2881 1984 2565 2268 \n",
       "Q 2250 2553 1709 2553 \n",
       "Q 1456 2553 1204 2497 \n",
       "Q 953 2441 691 2322 \n",
       "L 691 4666 \n",
       "z\n",
       "\" transform=\"scale(0.015625)\"/>\n",
       "       </defs>\n",
       "       <use xlink:href=\"#DejaVuSans-35\"/>\n",
       "      </g>\n",
       "     </g>\n",
       "    </g>\n",
       "    <g id=\"xtick_3\">\n",
       "     <g id=\"line2d_5\">\n",
       "      <path d=\"M 130.922306 273.312 \n",
       "L 130.922306 7.2 \n",
       "\" clip-path=\"url(#p74d065fe7f)\" style=\"fill: none; stroke-dasharray: 0.8,1.32; stroke-dashoffset: 0; stroke: #b0b0b0; stroke-width: 0.8\"/>\n",
       "     </g>\n",
       "     <g id=\"line2d_6\">\n",
       "      <g>\n",
       "       <use xlink:href=\"#m85ea8315c5\" x=\"130.922306\" y=\"273.312\" style=\"stroke: #000000; stroke-width: 0.8\"/>\n",
       "      </g>\n",
       "     </g>\n",
       "     <g id=\"text_3\">\n",
       "      <!-- 10 -->\n",
       "      <g transform=\"translate(124.559806 287.910437) scale(0.1 -0.1)\">\n",
       "       <defs>\n",
       "        <path id=\"DejaVuSans-31\" d=\"M 794 531 \n",
       "L 1825 531 \n",
       "L 1825 4091 \n",
       "L 703 3866 \n",
       "L 703 4441 \n",
       "L 1819 4666 \n",
       "L 2450 4666 \n",
       "L 2450 531 \n",
       "L 3481 531 \n",
       "L 3481 0 \n",
       "L 794 0 \n",
       "L 794 531 \n",
       "z\n",
       "\" transform=\"scale(0.015625)\"/>\n",
       "       </defs>\n",
       "       <use xlink:href=\"#DejaVuSans-31\"/>\n",
       "       <use xlink:href=\"#DejaVuSans-30\" x=\"63.623047\"/>\n",
       "      </g>\n",
       "     </g>\n",
       "    </g>\n",
       "    <g id=\"xtick_4\">\n",
       "     <g id=\"line2d_7\">\n",
       "      <path d=\"M 175.7146 273.312 \n",
       "L 175.7146 7.2 \n",
       "\" clip-path=\"url(#p74d065fe7f)\" style=\"fill: none; stroke-dasharray: 0.8,1.32; stroke-dashoffset: 0; stroke: #b0b0b0; stroke-width: 0.8\"/>\n",
       "     </g>\n",
       "     <g id=\"line2d_8\">\n",
       "      <g>\n",
       "       <use xlink:href=\"#m85ea8315c5\" x=\"175.7146\" y=\"273.312\" style=\"stroke: #000000; stroke-width: 0.8\"/>\n",
       "      </g>\n",
       "     </g>\n",
       "     <g id=\"text_4\">\n",
       "      <!-- 15 -->\n",
       "      <g transform=\"translate(169.3521 287.910437) scale(0.1 -0.1)\">\n",
       "       <use xlink:href=\"#DejaVuSans-31\"/>\n",
       "       <use xlink:href=\"#DejaVuSans-35\" x=\"63.623047\"/>\n",
       "      </g>\n",
       "     </g>\n",
       "    </g>\n",
       "    <g id=\"xtick_5\">\n",
       "     <g id=\"line2d_9\">\n",
       "      <path d=\"M 220.506894 273.312 \n",
       "L 220.506894 7.2 \n",
       "\" clip-path=\"url(#p74d065fe7f)\" style=\"fill: none; stroke-dasharray: 0.8,1.32; stroke-dashoffset: 0; stroke: #b0b0b0; stroke-width: 0.8\"/>\n",
       "     </g>\n",
       "     <g id=\"line2d_10\">\n",
       "      <g>\n",
       "       <use xlink:href=\"#m85ea8315c5\" x=\"220.506894\" y=\"273.312\" style=\"stroke: #000000; stroke-width: 0.8\"/>\n",
       "      </g>\n",
       "     </g>\n",
       "     <g id=\"text_5\">\n",
       "      <!-- 20 -->\n",
       "      <g transform=\"translate(214.144394 287.910437) scale(0.1 -0.1)\">\n",
       "       <defs>\n",
       "        <path id=\"DejaVuSans-32\" d=\"M 1228 531 \n",
       "L 3431 531 \n",
       "L 3431 0 \n",
       "L 469 0 \n",
       "L 469 531 \n",
       "Q 828 903 1448 1529 \n",
       "Q 2069 2156 2228 2338 \n",
       "Q 2531 2678 2651 2914 \n",
       "Q 2772 3150 2772 3378 \n",
       "Q 2772 3750 2511 3984 \n",
       "Q 2250 4219 1831 4219 \n",
       "Q 1534 4219 1204 4116 \n",
       "Q 875 4013 500 3803 \n",
       "L 500 4441 \n",
       "Q 881 4594 1212 4672 \n",
       "Q 1544 4750 1819 4750 \n",
       "Q 2544 4750 2975 4387 \n",
       "Q 3406 4025 3406 3419 \n",
       "Q 3406 3131 3298 2873 \n",
       "Q 3191 2616 2906 2266 \n",
       "Q 2828 2175 2409 1742 \n",
       "Q 1991 1309 1228 531 \n",
       "z\n",
       "\" transform=\"scale(0.015625)\"/>\n",
       "       </defs>\n",
       "       <use xlink:href=\"#DejaVuSans-32\"/>\n",
       "       <use xlink:href=\"#DejaVuSans-30\" x=\"63.623047\"/>\n",
       "      </g>\n",
       "     </g>\n",
       "    </g>\n",
       "    <g id=\"xtick_6\">\n",
       "     <g id=\"line2d_11\">\n",
       "      <path d=\"M 265.299188 273.312 \n",
       "L 265.299188 7.2 \n",
       "\" clip-path=\"url(#p74d065fe7f)\" style=\"fill: none; stroke-dasharray: 0.8,1.32; stroke-dashoffset: 0; stroke: #b0b0b0; stroke-width: 0.8\"/>\n",
       "     </g>\n",
       "     <g id=\"line2d_12\">\n",
       "      <g>\n",
       "       <use xlink:href=\"#m85ea8315c5\" x=\"265.299188\" y=\"273.312\" style=\"stroke: #000000; stroke-width: 0.8\"/>\n",
       "      </g>\n",
       "     </g>\n",
       "     <g id=\"text_6\">\n",
       "      <!-- 25 -->\n",
       "      <g transform=\"translate(258.936688 287.910437) scale(0.1 -0.1)\">\n",
       "       <use xlink:href=\"#DejaVuSans-32\"/>\n",
       "       <use xlink:href=\"#DejaVuSans-35\" x=\"63.623047\"/>\n",
       "      </g>\n",
       "     </g>\n",
       "    </g>\n",
       "    <g id=\"xtick_7\">\n",
       "     <g id=\"line2d_13\">\n",
       "      <path d=\"M 310.091481 273.312 \n",
       "L 310.091481 7.2 \n",
       "\" clip-path=\"url(#p74d065fe7f)\" style=\"fill: none; stroke-dasharray: 0.8,1.32; stroke-dashoffset: 0; stroke: #b0b0b0; stroke-width: 0.8\"/>\n",
       "     </g>\n",
       "     <g id=\"line2d_14\">\n",
       "      <g>\n",
       "       <use xlink:href=\"#m85ea8315c5\" x=\"310.091481\" y=\"273.312\" style=\"stroke: #000000; stroke-width: 0.8\"/>\n",
       "      </g>\n",
       "     </g>\n",
       "     <g id=\"text_7\">\n",
       "      <!-- 30 -->\n",
       "      <g transform=\"translate(303.728981 287.910437) scale(0.1 -0.1)\">\n",
       "       <defs>\n",
       "        <path id=\"DejaVuSans-33\" d=\"M 2597 2516 \n",
       "Q 3050 2419 3304 2112 \n",
       "Q 3559 1806 3559 1356 \n",
       "Q 3559 666 3084 287 \n",
       "Q 2609 -91 1734 -91 \n",
       "Q 1441 -91 1130 -33 \n",
       "Q 819 25 488 141 \n",
       "L 488 750 \n",
       "Q 750 597 1062 519 \n",
       "Q 1375 441 1716 441 \n",
       "Q 2309 441 2620 675 \n",
       "Q 2931 909 2931 1356 \n",
       "Q 2931 1769 2642 2001 \n",
       "Q 2353 2234 1838 2234 \n",
       "L 1294 2234 \n",
       "L 1294 2753 \n",
       "L 1863 2753 \n",
       "Q 2328 2753 2575 2939 \n",
       "Q 2822 3125 2822 3475 \n",
       "Q 2822 3834 2567 4026 \n",
       "Q 2313 4219 1838 4219 \n",
       "Q 1578 4219 1281 4162 \n",
       "Q 984 4106 628 3988 \n",
       "L 628 4550 \n",
       "Q 988 4650 1302 4700 \n",
       "Q 1616 4750 1894 4750 \n",
       "Q 2613 4750 3031 4423 \n",
       "Q 3450 4097 3450 3541 \n",
       "Q 3450 3153 3228 2886 \n",
       "Q 3006 2619 2597 2516 \n",
       "z\n",
       "\" transform=\"scale(0.015625)\"/>\n",
       "       </defs>\n",
       "       <use xlink:href=\"#DejaVuSans-33\"/>\n",
       "       <use xlink:href=\"#DejaVuSans-30\" x=\"63.623047\"/>\n",
       "      </g>\n",
       "     </g>\n",
       "    </g>\n",
       "    <g id=\"xtick_8\">\n",
       "     <g id=\"line2d_15\">\n",
       "      <path d=\"M 354.883775 273.312 \n",
       "L 354.883775 7.2 \n",
       "\" clip-path=\"url(#p74d065fe7f)\" style=\"fill: none; stroke-dasharray: 0.8,1.32; stroke-dashoffset: 0; stroke: #b0b0b0; stroke-width: 0.8\"/>\n",
       "     </g>\n",
       "     <g id=\"line2d_16\">\n",
       "      <g>\n",
       "       <use xlink:href=\"#m85ea8315c5\" x=\"354.883775\" y=\"273.312\" style=\"stroke: #000000; stroke-width: 0.8\"/>\n",
       "      </g>\n",
       "     </g>\n",
       "     <g id=\"text_8\">\n",
       "      <!-- 35 -->\n",
       "      <g transform=\"translate(348.521275 287.910437) scale(0.1 -0.1)\">\n",
       "       <use xlink:href=\"#DejaVuSans-33\"/>\n",
       "       <use xlink:href=\"#DejaVuSans-35\" x=\"63.623047\"/>\n",
       "      </g>\n",
       "     </g>\n",
       "    </g>\n",
       "    <g id=\"text_9\">\n",
       "     <!-- lstat -->\n",
       "     <g transform=\"translate(208.185 301.588562) scale(0.1 -0.1)\">\n",
       "      <defs>\n",
       "       <path id=\"DejaVuSans-6c\" d=\"M 603 4863 \n",
       "L 1178 4863 \n",
       "L 1178 0 \n",
       "L 603 0 \n",
       "L 603 4863 \n",
       "z\n",
       "\" transform=\"scale(0.015625)\"/>\n",
       "       <path id=\"DejaVuSans-73\" d=\"M 2834 3397 \n",
       "L 2834 2853 \n",
       "Q 2591 2978 2328 3040 \n",
       "Q 2066 3103 1784 3103 \n",
       "Q 1356 3103 1142 2972 \n",
       "Q 928 2841 928 2578 \n",
       "Q 928 2378 1081 2264 \n",
       "Q 1234 2150 1697 2047 \n",
       "L 1894 2003 \n",
       "Q 2506 1872 2764 1633 \n",
       "Q 3022 1394 3022 966 \n",
       "Q 3022 478 2636 193 \n",
       "Q 2250 -91 1575 -91 \n",
       "Q 1294 -91 989 -36 \n",
       "Q 684 19 347 128 \n",
       "L 347 722 \n",
       "Q 666 556 975 473 \n",
       "Q 1284 391 1588 391 \n",
       "Q 1994 391 2212 530 \n",
       "Q 2431 669 2431 922 \n",
       "Q 2431 1156 2273 1281 \n",
       "Q 2116 1406 1581 1522 \n",
       "L 1381 1569 \n",
       "Q 847 1681 609 1914 \n",
       "Q 372 2147 372 2553 \n",
       "Q 372 3047 722 3315 \n",
       "Q 1072 3584 1716 3584 \n",
       "Q 2034 3584 2315 3537 \n",
       "Q 2597 3491 2834 3397 \n",
       "z\n",
       "\" transform=\"scale(0.015625)\"/>\n",
       "       <path id=\"DejaVuSans-74\" d=\"M 1172 4494 \n",
       "L 1172 3500 \n",
       "L 2356 3500 \n",
       "L 2356 3053 \n",
       "L 1172 3053 \n",
       "L 1172 1153 \n",
       "Q 1172 725 1289 603 \n",
       "Q 1406 481 1766 481 \n",
       "L 2356 481 \n",
       "L 2356 0 \n",
       "L 1766 0 \n",
       "Q 1100 0 847 248 \n",
       "Q 594 497 594 1153 \n",
       "L 594 3053 \n",
       "L 172 3053 \n",
       "L 172 3500 \n",
       "L 594 3500 \n",
       "L 594 4494 \n",
       "L 1172 4494 \n",
       "z\n",
       "\" transform=\"scale(0.015625)\"/>\n",
       "       <path id=\"DejaVuSans-61\" d=\"M 2194 1759 \n",
       "Q 1497 1759 1228 1600 \n",
       "Q 959 1441 959 1056 \n",
       "Q 959 750 1161 570 \n",
       "Q 1363 391 1709 391 \n",
       "Q 2188 391 2477 730 \n",
       "Q 2766 1069 2766 1631 \n",
       "L 2766 1759 \n",
       "L 2194 1759 \n",
       "z\n",
       "M 3341 1997 \n",
       "L 3341 0 \n",
       "L 2766 0 \n",
       "L 2766 531 \n",
       "Q 2569 213 2275 61 \n",
       "Q 1981 -91 1556 -91 \n",
       "Q 1019 -91 701 211 \n",
       "Q 384 513 384 1019 \n",
       "Q 384 1609 779 1909 \n",
       "Q 1175 2209 1959 2209 \n",
       "L 2766 2209 \n",
       "L 2766 2266 \n",
       "Q 2766 2663 2505 2880 \n",
       "Q 2244 3097 1772 3097 \n",
       "Q 1472 3097 1187 3025 \n",
       "Q 903 2953 641 2809 \n",
       "L 641 3341 \n",
       "Q 956 3463 1253 3523 \n",
       "Q 1550 3584 1831 3584 \n",
       "Q 2591 3584 2966 3190 \n",
       "Q 3341 2797 3341 1997 \n",
       "z\n",
       "\" transform=\"scale(0.015625)\"/>\n",
       "      </defs>\n",
       "      <use xlink:href=\"#DejaVuSans-6c\"/>\n",
       "      <use xlink:href=\"#DejaVuSans-73\" x=\"27.783203\"/>\n",
       "      <use xlink:href=\"#DejaVuSans-74\" x=\"79.882812\"/>\n",
       "      <use xlink:href=\"#DejaVuSans-61\" x=\"119.091797\"/>\n",
       "      <use xlink:href=\"#DejaVuSans-74\" x=\"180.371094\"/>\n",
       "     </g>\n",
       "    </g>\n",
       "   </g>\n",
       "   <g id=\"matplotlib.axis_2\">\n",
       "    <g id=\"ytick_1\">\n",
       "     <g id=\"line2d_17\">\n",
       "      <path d=\"M 40.603125 234.336 \n",
       "L 397.723125 234.336 \n",
       "\" clip-path=\"url(#p74d065fe7f)\" style=\"fill: none; stroke-dasharray: 0.8,1.32; stroke-dashoffset: 0; stroke: #b0b0b0; stroke-width: 0.8\"/>\n",
       "     </g>\n",
       "     <g id=\"line2d_18\">\n",
       "      <defs>\n",
       "       <path id=\"m1afe2c6613\" d=\"M 0 0 \n",
       "L -3.5 0 \n",
       "\" style=\"stroke: #000000; stroke-width: 0.8\"/>\n",
       "      </defs>\n",
       "      <g>\n",
       "       <use xlink:href=\"#m1afe2c6613\" x=\"40.603125\" y=\"234.336\" style=\"stroke: #000000; stroke-width: 0.8\"/>\n",
       "      </g>\n",
       "     </g>\n",
       "     <g id=\"text_10\">\n",
       "      <!-- 10 -->\n",
       "      <g transform=\"translate(20.878125 238.135219) scale(0.1 -0.1)\">\n",
       "       <use xlink:href=\"#DejaVuSans-31\"/>\n",
       "       <use xlink:href=\"#DejaVuSans-30\" x=\"63.623047\"/>\n",
       "      </g>\n",
       "     </g>\n",
       "    </g>\n",
       "    <g id=\"ytick_2\">\n",
       "     <g id=\"line2d_19\">\n",
       "      <path d=\"M 40.603125 180.576 \n",
       "L 397.723125 180.576 \n",
       "\" clip-path=\"url(#p74d065fe7f)\" style=\"fill: none; stroke-dasharray: 0.8,1.32; stroke-dashoffset: 0; stroke: #b0b0b0; stroke-width: 0.8\"/>\n",
       "     </g>\n",
       "     <g id=\"line2d_20\">\n",
       "      <g>\n",
       "       <use xlink:href=\"#m1afe2c6613\" x=\"40.603125\" y=\"180.576\" style=\"stroke: #000000; stroke-width: 0.8\"/>\n",
       "      </g>\n",
       "     </g>\n",
       "     <g id=\"text_11\">\n",
       "      <!-- 20 -->\n",
       "      <g transform=\"translate(20.878125 184.375219) scale(0.1 -0.1)\">\n",
       "       <use xlink:href=\"#DejaVuSans-32\"/>\n",
       "       <use xlink:href=\"#DejaVuSans-30\" x=\"63.623047\"/>\n",
       "      </g>\n",
       "     </g>\n",
       "    </g>\n",
       "    <g id=\"ytick_3\">\n",
       "     <g id=\"line2d_21\">\n",
       "      <path d=\"M 40.603125 126.816 \n",
       "L 397.723125 126.816 \n",
       "\" clip-path=\"url(#p74d065fe7f)\" style=\"fill: none; stroke-dasharray: 0.8,1.32; stroke-dashoffset: 0; stroke: #b0b0b0; stroke-width: 0.8\"/>\n",
       "     </g>\n",
       "     <g id=\"line2d_22\">\n",
       "      <g>\n",
       "       <use xlink:href=\"#m1afe2c6613\" x=\"40.603125\" y=\"126.816\" style=\"stroke: #000000; stroke-width: 0.8\"/>\n",
       "      </g>\n",
       "     </g>\n",
       "     <g id=\"text_12\">\n",
       "      <!-- 30 -->\n",
       "      <g transform=\"translate(20.878125 130.615219) scale(0.1 -0.1)\">\n",
       "       <use xlink:href=\"#DejaVuSans-33\"/>\n",
       "       <use xlink:href=\"#DejaVuSans-30\" x=\"63.623047\"/>\n",
       "      </g>\n",
       "     </g>\n",
       "    </g>\n",
       "    <g id=\"ytick_4\">\n",
       "     <g id=\"line2d_23\">\n",
       "      <path d=\"M 40.603125 73.056 \n",
       "L 397.723125 73.056 \n",
       "\" clip-path=\"url(#p74d065fe7f)\" style=\"fill: none; stroke-dasharray: 0.8,1.32; stroke-dashoffset: 0; stroke: #b0b0b0; stroke-width: 0.8\"/>\n",
       "     </g>\n",
       "     <g id=\"line2d_24\">\n",
       "      <g>\n",
       "       <use xlink:href=\"#m1afe2c6613\" x=\"40.603125\" y=\"73.056\" style=\"stroke: #000000; stroke-width: 0.8\"/>\n",
       "      </g>\n",
       "     </g>\n",
       "     <g id=\"text_13\">\n",
       "      <!-- 40 -->\n",
       "      <g transform=\"translate(20.878125 76.855219) scale(0.1 -0.1)\">\n",
       "       <defs>\n",
       "        <path id=\"DejaVuSans-34\" d=\"M 2419 4116 \n",
       "L 825 1625 \n",
       "L 2419 1625 \n",
       "L 2419 4116 \n",
       "z\n",
       "M 2253 4666 \n",
       "L 3047 4666 \n",
       "L 3047 1625 \n",
       "L 3713 1625 \n",
       "L 3713 1100 \n",
       "L 3047 1100 \n",
       "L 3047 0 \n",
       "L 2419 0 \n",
       "L 2419 1100 \n",
       "L 313 1100 \n",
       "L 313 1709 \n",
       "L 2253 4666 \n",
       "z\n",
       "\" transform=\"scale(0.015625)\"/>\n",
       "       </defs>\n",
       "       <use xlink:href=\"#DejaVuSans-34\"/>\n",
       "       <use xlink:href=\"#DejaVuSans-30\" x=\"63.623047\"/>\n",
       "      </g>\n",
       "     </g>\n",
       "    </g>\n",
       "    <g id=\"ytick_5\">\n",
       "     <g id=\"line2d_25\">\n",
       "      <path d=\"M 40.603125 19.296 \n",
       "L 397.723125 19.296 \n",
       "\" clip-path=\"url(#p74d065fe7f)\" style=\"fill: none; stroke-dasharray: 0.8,1.32; stroke-dashoffset: 0; stroke: #b0b0b0; stroke-width: 0.8\"/>\n",
       "     </g>\n",
       "     <g id=\"line2d_26\">\n",
       "      <g>\n",
       "       <use xlink:href=\"#m1afe2c6613\" x=\"40.603125\" y=\"19.296\" style=\"stroke: #000000; stroke-width: 0.8\"/>\n",
       "      </g>\n",
       "     </g>\n",
       "     <g id=\"text_14\">\n",
       "      <!-- 50 -->\n",
       "      <g transform=\"translate(20.878125 23.095219) scale(0.1 -0.1)\">\n",
       "       <use xlink:href=\"#DejaVuSans-35\"/>\n",
       "       <use xlink:href=\"#DejaVuSans-30\" x=\"63.623047\"/>\n",
       "      </g>\n",
       "     </g>\n",
       "    </g>\n",
       "    <g id=\"text_15\">\n",
       "     <!-- medv -->\n",
       "     <g transform=\"translate(14.798438 154.336469) rotate(-90) scale(0.1 -0.1)\">\n",
       "      <defs>\n",
       "       <path id=\"DejaVuSans-6d\" d=\"M 3328 2828 \n",
       "Q 3544 3216 3844 3400 \n",
       "Q 4144 3584 4550 3584 \n",
       "Q 5097 3584 5394 3201 \n",
       "Q 5691 2819 5691 2113 \n",
       "L 5691 0 \n",
       "L 5113 0 \n",
       "L 5113 2094 \n",
       "Q 5113 2597 4934 2840 \n",
       "Q 4756 3084 4391 3084 \n",
       "Q 3944 3084 3684 2787 \n",
       "Q 3425 2491 3425 1978 \n",
       "L 3425 0 \n",
       "L 2847 0 \n",
       "L 2847 2094 \n",
       "Q 2847 2600 2669 2842 \n",
       "Q 2491 3084 2119 3084 \n",
       "Q 1678 3084 1418 2786 \n",
       "Q 1159 2488 1159 1978 \n",
       "L 1159 0 \n",
       "L 581 0 \n",
       "L 581 3500 \n",
       "L 1159 3500 \n",
       "L 1159 2956 \n",
       "Q 1356 3278 1631 3431 \n",
       "Q 1906 3584 2284 3584 \n",
       "Q 2666 3584 2933 3390 \n",
       "Q 3200 3197 3328 2828 \n",
       "z\n",
       "\" transform=\"scale(0.015625)\"/>\n",
       "       <path id=\"DejaVuSans-65\" d=\"M 3597 1894 \n",
       "L 3597 1613 \n",
       "L 953 1613 \n",
       "Q 991 1019 1311 708 \n",
       "Q 1631 397 2203 397 \n",
       "Q 2534 397 2845 478 \n",
       "Q 3156 559 3463 722 \n",
       "L 3463 178 \n",
       "Q 3153 47 2828 -22 \n",
       "Q 2503 -91 2169 -91 \n",
       "Q 1331 -91 842 396 \n",
       "Q 353 884 353 1716 \n",
       "Q 353 2575 817 3079 \n",
       "Q 1281 3584 2069 3584 \n",
       "Q 2775 3584 3186 3129 \n",
       "Q 3597 2675 3597 1894 \n",
       "z\n",
       "M 3022 2063 \n",
       "Q 3016 2534 2758 2815 \n",
       "Q 2500 3097 2075 3097 \n",
       "Q 1594 3097 1305 2825 \n",
       "Q 1016 2553 972 2059 \n",
       "L 3022 2063 \n",
       "z\n",
       "\" transform=\"scale(0.015625)\"/>\n",
       "       <path id=\"DejaVuSans-64\" d=\"M 2906 2969 \n",
       "L 2906 4863 \n",
       "L 3481 4863 \n",
       "L 3481 0 \n",
       "L 2906 0 \n",
       "L 2906 525 \n",
       "Q 2725 213 2448 61 \n",
       "Q 2172 -91 1784 -91 \n",
       "Q 1150 -91 751 415 \n",
       "Q 353 922 353 1747 \n",
       "Q 353 2572 751 3078 \n",
       "Q 1150 3584 1784 3584 \n",
       "Q 2172 3584 2448 3432 \n",
       "Q 2725 3281 2906 2969 \n",
       "z\n",
       "M 947 1747 \n",
       "Q 947 1113 1208 752 \n",
       "Q 1469 391 1925 391 \n",
       "Q 2381 391 2643 752 \n",
       "Q 2906 1113 2906 1747 \n",
       "Q 2906 2381 2643 2742 \n",
       "Q 2381 3103 1925 3103 \n",
       "Q 1469 3103 1208 2742 \n",
       "Q 947 2381 947 1747 \n",
       "z\n",
       "\" transform=\"scale(0.015625)\"/>\n",
       "       <path id=\"DejaVuSans-76\" d=\"M 191 3500 \n",
       "L 800 3500 \n",
       "L 1894 563 \n",
       "L 2988 3500 \n",
       "L 3597 3500 \n",
       "L 2284 0 \n",
       "L 1503 0 \n",
       "L 191 3500 \n",
       "z\n",
       "\" transform=\"scale(0.015625)\"/>\n",
       "      </defs>\n",
       "      <use xlink:href=\"#DejaVuSans-6d\"/>\n",
       "      <use xlink:href=\"#DejaVuSans-65\" x=\"97.412109\"/>\n",
       "      <use xlink:href=\"#DejaVuSans-64\" x=\"158.935547\"/>\n",
       "      <use xlink:href=\"#DejaVuSans-76\" x=\"222.412109\"/>\n",
       "     </g>\n",
       "    </g>\n",
       "   </g>\n",
       "   <g id=\"line2d_27\">\n",
       "    <path d=\"M 56.835852 78.665543 \n",
       "L 60.115191 82.928514 \n",
       "L 63.39453 87.128744 \n",
       "L 66.673869 91.266233 \n",
       "L 69.953208 95.340981 \n",
       "L 73.232546 99.352988 \n",
       "L 76.511885 103.302254 \n",
       "L 79.791224 107.188779 \n",
       "L 83.070563 111.012562 \n",
       "L 86.349902 114.773604 \n",
       "L 89.629241 118.471906 \n",
       "L 92.90858 122.107466 \n",
       "L 96.187918 125.680285 \n",
       "L 99.467257 129.190362 \n",
       "L 102.746596 132.637699 \n",
       "L 106.025935 136.022295 \n",
       "L 109.305274 139.344149 \n",
       "L 112.584613 142.603262 \n",
       "L 115.863951 145.799634 \n",
       "L 119.14329 148.933265 \n",
       "L 122.422629 152.004155 \n",
       "L 125.701968 155.012304 \n",
       "L 128.981307 157.957711 \n",
       "L 132.260646 160.840378 \n",
       "L 135.539985 163.660303 \n",
       "L 138.819323 166.417487 \n",
       "L 142.098662 169.11193 \n",
       "L 145.378001 171.743632 \n",
       "L 148.65734 174.312593 \n",
       "L 151.936679 176.818812 \n",
       "L 155.216018 179.262291 \n",
       "L 158.495356 181.643028 \n",
       "L 161.774695 183.961024 \n",
       "L 165.054034 186.21628 \n",
       "L 168.333373 188.408793 \n",
       "L 171.612712 190.538566 \n",
       "L 174.892051 192.605598 \n",
       "L 178.171389 194.609888 \n",
       "L 181.450728 196.551438 \n",
       "L 184.730067 198.430246 \n",
       "L 188.009406 200.246313 \n",
       "L 191.288745 201.999639 \n",
       "L 194.568084 203.690224 \n",
       "L 197.847423 205.318068 \n",
       "L 201.126761 206.88317 \n",
       "L 204.4061 208.385532 \n",
       "L 207.685439 209.825152 \n",
       "L 210.964778 211.202031 \n",
       "L 214.244117 212.516169 \n",
       "L 217.523456 213.767566 \n",
       "L 220.802794 214.956222 \n",
       "L 224.082133 216.082136 \n",
       "L 227.361472 217.14531 \n",
       "L 230.640811 218.145742 \n",
       "L 233.92015 219.083433 \n",
       "L 237.199489 219.958383 \n",
       "L 240.478827 220.770592 \n",
       "L 243.758166 221.52006 \n",
       "L 247.037505 222.206786 \n",
       "L 250.316844 222.830772 \n",
       "L 253.596183 223.392016 \n",
       "L 256.875522 223.89052 \n",
       "L 260.154861 224.326282 \n",
       "L 263.434199 224.699303 \n",
       "L 266.713538 225.009582 \n",
       "L 269.992877 225.257121 \n",
       "L 273.272216 225.441919 \n",
       "L 276.551555 225.563975 \n",
       "L 279.830894 225.62329 \n",
       "L 283.110232 225.619864 \n",
       "L 286.389571 225.553697 \n",
       "L 289.66891 225.424789 \n",
       "L 292.948249 225.23314 \n",
       "L 296.227588 224.97875 \n",
       "L 299.506927 224.661618 \n",
       "L 302.786265 224.281745 \n",
       "L 306.065604 223.839132 \n",
       "L 309.344943 223.333777 \n",
       "L 312.624282 222.765681 \n",
       "L 315.903621 222.134843 \n",
       "L 319.18296 221.441265 \n",
       "L 322.462299 220.684945 \n",
       "L 325.741637 219.865885 \n",
       "L 329.020976 218.984083 \n",
       "L 332.300315 218.03954 \n",
       "L 335.579654 217.032256 \n",
       "L 338.858993 215.962231 \n",
       "L 342.138332 214.829465 \n",
       "L 345.41767 213.633957 \n",
       "L 348.697009 212.375708 \n",
       "L 351.976348 211.054719 \n",
       "L 355.255687 209.670988 \n",
       "L 358.535026 208.224516 \n",
       "L 361.814365 206.715303 \n",
       "L 365.093704 205.143348 \n",
       "L 368.373042 203.508653 \n",
       "L 371.652381 201.811216 \n",
       "L 374.93172 200.051039 \n",
       "L 378.211059 198.22812 \n",
       "L 381.490398 196.34246 \n",
       "\" clip-path=\"url(#p74d065fe7f)\" style=\"fill: none; stroke: #ff0000; stroke-width: 2; stroke-linecap: square\"/>\n",
       "   </g>\n",
       "   <g id=\"patch_3\">\n",
       "    <path d=\"M 40.603125 273.312 \n",
       "L 40.603125 7.2 \n",
       "\" style=\"fill: none; stroke: #000000; stroke-width: 0.8; stroke-linejoin: miter; stroke-linecap: square\"/>\n",
       "   </g>\n",
       "   <g id=\"patch_4\">\n",
       "    <path d=\"M 397.723125 273.312 \n",
       "L 397.723125 7.2 \n",
       "\" style=\"fill: none; stroke: #000000; stroke-width: 0.8; stroke-linejoin: miter; stroke-linecap: square\"/>\n",
       "   </g>\n",
       "   <g id=\"patch_5\">\n",
       "    <path d=\"M 40.603125 273.312 \n",
       "L 397.723125 273.312 \n",
       "\" style=\"fill: none; stroke: #000000; stroke-width: 0.8; stroke-linejoin: miter; stroke-linecap: square\"/>\n",
       "   </g>\n",
       "   <g id=\"patch_6\">\n",
       "    <path d=\"M 40.603125 7.2 \n",
       "L 397.723125 7.2 \n",
       "\" style=\"fill: none; stroke: #000000; stroke-width: 0.8; stroke-linejoin: miter; stroke-linecap: square\"/>\n",
       "   </g>\n",
       "  </g>\n",
       " </g>\n",
       " <defs>\n",
       "  <clipPath id=\"p74d065fe7f\">\n",
       "   <rect x=\"40.603125\" y=\"7.2\" width=\"357.12\" height=\"266.112\"/>\n",
       "  </clipPath>\n",
       " </defs>\n",
       "</svg>\n"
      ],
      "text/plain": [
       "<Figure size 640x480 with 1 Axes>"
      ]
     },
     "metadata": {},
     "output_type": "display_data"
    }
   ],
   "source": [
    "import matplotlib.pyplot as plt\n",
    "\n",
    "%config InlineBackend.figure_format = 'svg'\n",
    "plt.scatter(x, y, s=10, c='b', alpha=0.7)\n",
    "xs = np.linspace(x.min(), x.max(), num=100)\n",
    "plt.plot(xs, LR.intercept_ + LR.coef_[0]*xs + LR.coef_[1]*xs**2, c='r', lw=2)\n",
    "plt.xlabel(\"lstat\")\n",
    "plt.ylabel(\"medv\")\n",
    "plt.grid(ls=\":\");"
   ]
  },
  {
   "cell_type": "markdown",
   "metadata": {},
   "source": [
    "## General case\n",
    "\n",
    "Of course, the degree of the polynomial can be any number $m\\in\\mathbb N$. The model of the polynomial regression is\n",
    "\n",
    "```{math}\n",
    "    :label: poly-reg\n",
    "    y = w_0 + w_1 x + w_2 x^2 + \\ldots + w_m x^m = \\sum\\limits_{k=0}^m w_k x^k.\n",
    "```\n",
    "\n",
    "**Q.** How many parameters does this model have?\n",
    "\n",
    "In case of MSE loss the model is fitted via minimizing the function\n",
    "\n",
    "```{math}\n",
    ":label: poly-mse\n",
    "\\mathcal L(\\boldsymbol w) =  \\frac 1n\\sum\\limits_{i=1}^n \\Big(y_i  - \\sum\\limits_{k=0}^m w_k x^k\\Big)^2 \\to \\min\\limits_{\\boldsymbol w}.\n",
    "```"
   ]
  },
  {
   "cell_type": "markdown",
   "metadata": {},
   "source": [
    "Regression can be broken into two categories: linear and non-linear. Polynomial regression is non-linear regression, where dependent and independet variables have non-linear relationship. \n",
    "\n",
    "In non-linear relationships, the change in the independent variable (usually x) is not associated with a constant rate of change in the dependent variable (y). Instead, the relationship can take various forms, such as curves, exponential growth or decay, logarithmic patterns, and more."
   ]
  },
  {
   "cell_type": "code",
   "execution_count": 65,
   "metadata": {
    "tags": [
     "remove-input"
    ]
   },
   "outputs": [],
   "source": [
    "from jupyterquiz import display_quiz\n",
    "import json\n",
    "from base64 import b64encode"
   ]
  },
  {
   "cell_type": "markdown",
   "metadata": {},
   "source": [
    "<span style=\"display:none\" id=\"q_3\">W3sicXVlc3Rpb24iOiAiV2hhdCBpcyByZWd1bGFyaXphdGlvbiBpbiBQb2x5bm9taWFsIFJlZ3Jlc3Npb24/IiwgInR5cGUiOiAibWFueV9jaG9pY2UiLCAiYW5zd2VycyI6IFt7ImFuc3dlciI6ICJJdCBpcyBjb21tb24gdG8gdXNlIHRyaWFsIGFuZCBlcnJvciBvciBjcm9zcy12YWxpZGF0aW9uIHRvIGZpbmQgdGhlIGJlc3QgZGVncmVlIGZvciB0aGUgcG9seW5vbWlhbCIsICJjb3JyZWN0IjogZmFsc2UsICJmZWVkYmFjayI6ICJJbmNvcnJlY3QifSwgeyJhbnN3ZXIiOiAiSXMgYSB0ZWNobmlxdWUgdXNlZCB0byBwcmV2ZW50IG92ZXJmaXR0aW5nIGluIFBvbHlub21pYWwgUmVncmVzc2lvbiIsICJjb3JyZWN0IjogdHJ1ZSwgImZlZWRiYWNrIjogIkNvcnJlY3QifSwgeyJhbnN3ZXIiOiAiSXMgYSB0ZWNobmlxdWUgdXNlZCBmb3IgcHJlZGljdGluZyBjb250aW51b3VzIHZhcmlhYmxlcyIsICJjb3JyZWN0IjogZmFsc2UsICJmZWVkYmFjayI6ICJJbmNvcnJlY3QifSwgeyJhbnN3ZXIiOiAiSXMgdGVjaG5pcXVlIHVzZWQgZm9yIG1vZGVsaW5nIHJlbGF0aW9uc2hpcHMgYmV0d2VlbiB2YXJpYWJsZXMgaW4gdGhlIHBoeXNpY2FsIHNjaWVuY2VzLCBzdWNoIGFzIHRlbXBlcmF0dXJlLCBwcmVzc3VyZSwgYW5kIHRpbWUiLCAiY29ycmVjdCI6IGZhbHNlLCAiZmVlZGJhY2siOiAiSW5jb3JyZWN0In1dfV0=</span>"
   ]
  },
  {
   "cell_type": "markdown",
   "metadata": {},
   "source": [
    "<span style=\"display:none\" id=\"q_1\">W3sicXVlc3Rpb24iOiAiV2hhdCBpcyBwb2x5bm9taWFsIHJlZ3Jlc3Npb24/IiwgInR5cGUiOiAibWFueV9jaG9pY2UiLCAiYW5zd2VycyI6IFt7ImFuc3dlciI6ICJBIHJlZ3Jlc3Npb24gdGVjaG5pcXVlIGV4Y2x1c2l2ZWx5IHVzZWQgZm9yIGxpbmVhciByZWxhdGlvbnNoaXBzIiwgImNvcnJlY3QiOiBmYWxzZSwgImZlZWRiYWNrIjogIkluY29ycmVjdCJ9LCB7ImFuc3dlciI6ICJBIG1ldGhvZCB0byBjYWxjdWxhdGUgdGhlIHJvb3RzIG9mIGEgcG9seW5vbWlhbCBlcXVhdGlvbiIsICJjb3JyZWN0IjogZmFsc2UsICJmZWVkYmFjayI6ICJJbmNvcnJlY3QifSwgeyJhbnN3ZXIiOiAiQSBzdGF0aXN0aWNhbCB0ZXN0IGZvciBjaGVja2luZyBtdWx0aWNvbGxpbmVhcml0eSIsICJjb3JyZWN0IjogZmFsc2UsICJmZWVkYmFjayI6ICJJbmNvcnJlY3QifSwgeyJhbnN3ZXIiOiAiQSB0eXBlIG9mIHJlZ3Jlc3Npb24gdGhhdCB1c2VzIHBvbHlub21pYWxzIHRvIG1vZGVsIHRoZSByZWxhdGlvbnNoaXAgYmV0d2VlbiB0aGUgaW5kZXBlbmRlbnQgYW5kIGRlcGVuZGVudCB2YXJpYWJsZXMiLCAiY29ycmVjdCI6IHRydWUsICJmZWVkYmFjayI6ICJDb3JyZWN0In1dfV0=</span>"
   ]
  },
  {
   "cell_type": "code",
   "execution_count": 74,
   "metadata": {
    "tags": [
     "remove-input"
    ]
   },
   "outputs": [
    {
     "data": {
      "text/html": [
       "<div id=\"dOyvlFmqRWAg\" data-shufflequestions=\"False\"\n",
       "               data-shuffleanswers=\"True\"\n",
       "               data-preserveresponses=\"false\"\n",
       "               data-numquestions=\"1000000\"\n",
       "               data-maxwidth=\"600\"\n",
       "               style=\"border-radius: 10px; text-align: left\"> <style>\n",
       "#dOyvlFmqRWAg {\n",
       "   --jq-multiple-choice-bg: #6f78ffff;\n",
       "   --jq-mc-button-bg: #fafafa;\n",
       "   --jq-mc-button-border: #e0e0e0e0;\n",
       "   --jq-mc-button-inset-shadow: #555555;\n",
       "   --jq-many-choice-bg: #f75c03ff;\n",
       "   --jq-numeric-bg: #392061ff;\n",
       "   --jq-numeric-input-bg: #c0c0c0;\n",
       "   --jq-numeric-input-label: #101010;\n",
       "   --jq-numeric-input-shadow: #999999;\n",
       "   --jq-incorrect-color: #c80202;\n",
       "   --jq-correct-color: #009113;\n",
       "   --jq-text-color: #fafafa;\n",
       "}\n",
       "\n",
       ".Quiz {\n",
       "    max-width: 600px;\n",
       "    margin-top: 15px;\n",
       "    margin-left: auto;\n",
       "    margin-right: auto;\n",
       "    margin-bottom: 15px;\n",
       "    padding-bottom: 4px;\n",
       "    padding-top: 4px;\n",
       "    line-height: 1.1;\n",
       "    font-size: 16pt;\n",
       "    border-radius: inherit;\n",
       "}\n",
       "\n",
       ".QuizCode {\n",
       "    font-size: 14pt;\n",
       "    margin-top: 10px;\n",
       "    margin-left: 20px;\n",
       "    margin-right: 20px;\n",
       "}\n",
       "\n",
       ".QuizCode>pre {\n",
       "    padding: 4px;\n",
       "}\n",
       "\n",
       ".Answer {\n",
       "    margin: 10px 0;\n",
       "    display: grid;\n",
       "    grid-template-columns: 1fr 1fr;\n",
       "    grid-gap: 10px;\n",
       "    border-radius: inherit;\n",
       "}\n",
       "\n",
       ".Feedback {\n",
       "    font-size: 16pt;\n",
       "    text-align: center;\n",
       "    min-height: 2em;\n",
       "}\n",
       "\n",
       ".Input {\n",
       "    align: left;\n",
       "    font-size: 20pt;\n",
       "}\n",
       "\n",
       ".Input-text {\n",
       "    display: block;\n",
       "    margin: 10px;\n",
       "    color: inherit;\n",
       "    width: 140px;\n",
       "    background-color: var(--jq-numeric-input-bg);\n",
       "    color: var(--jq-text-color);\n",
       "    padding: 5px;\n",
       "    padding-left: 10px;\n",
       "    font-family: inherit;\n",
       "    font-size: 20px;\n",
       "    font-weight: inherit;\n",
       "    line-height: 20pt;\n",
       "    border: none;\n",
       "    border-radius: 0.2rem;\n",
       "    transition: box-shadow 0.1s);\n",
       "}\n",
       "\n",
       ".Input-text:focus {\n",
       "    outline: none;\n",
       "    background-color: var(--jq-numeric-input-bg);\n",
       "    box-shadow: 0.6rem 0.8rem 1.4rem -0.5rem var(--jq-numeric-input-shadow);\n",
       "}\n",
       "\n",
       ".MCButton {\n",
       "    background: var(--jq-mc-button-bg);\n",
       "    border: 1px solid var(--jq-mc-button-border);\n",
       "    border-radius: inherit;\n",
       "    padding: 10px;\n",
       "    font-size: 16px;\n",
       "    cursor: pointer;\n",
       "    text-align: center;\n",
       "    display: flex;\n",
       "    align-items: center;\n",
       "    justify-content: center;\n",
       "}\n",
       "\n",
       ".MCButton p {\n",
       "    color: inherit;\n",
       "}\n",
       "\n",
       ".MultipleChoiceQn {\n",
       "    padding: 10px;\n",
       "    background: var(--jq-multiple-choice-bg);\n",
       "    color: var(--jq-text-color);\n",
       "    border-radius: inherit;\n",
       "}\n",
       "\n",
       ".ManyChoiceQn {\n",
       "    padding: 10px;\n",
       "    background: var(--jq-many-choice-bg);\n",
       "    color: var(--jq-text-color);\n",
       "    border-radius: inherit;\n",
       "}\n",
       "\n",
       ".NumericQn {\n",
       "    padding: 10px;\n",
       "    background: var(--jq-numeric-bg);\n",
       "    color: var(--jq-text-color);\n",
       "    border-radius: inherit;\n",
       "}\n",
       "\n",
       ".NumericQn p {\n",
       "    color: inherit;\n",
       "}\n",
       "\n",
       ".InpLabel {\n",
       "    line-height: 34px;\n",
       "    float: left;\n",
       "    margin-right: 10px;\n",
       "    color: var(--jq-numeric-input-label);\n",
       "    font-size: 15pt;\n",
       "}\n",
       "\n",
       ".incorrect {\n",
       "    color: var(--jq-incorrect-color);\n",
       "}\n",
       "\n",
       ".correct {\n",
       "    color: var(--jq-correct-color);\n",
       "}\n",
       "\n",
       ".correctButton {\n",
       "    /*\n",
       "    background: var(--jq-correct-color);\n",
       "   */\n",
       "    animation: correct-anim 0.6s ease;\n",
       "    animation-fill-mode: forwards;\n",
       "    color: var(--jq-text-color);\n",
       "    box-shadow: inset 0px 0px 5px var(--jq-mc-button-inset-shadow);\n",
       "    outline: none;\n",
       "}\n",
       "\n",
       ".incorrectButton {\n",
       "    animation: incorrect-anim 0.8s ease;\n",
       "    animation-fill-mode: forwards;\n",
       "    color: var(--jq-text-color);\n",
       "    box-shadow: inset 0px 0px 5px var(--jq-mc-button-inset-shadow);\n",
       "    outline: none;\n",
       "}\n",
       "\n",
       "@keyframes incorrect-anim {\n",
       "    100% {\n",
       "        background-color: var(--jq-incorrect-color);\n",
       "    }\n",
       "}\n",
       "\n",
       "@keyframes correct-anim {\n",
       "    100% {\n",
       "        background-color: var(--jq-correct-color);\n",
       "    }\n",
       "}\n",
       "</style>"
      ],
      "text/plain": [
       "<IPython.core.display.HTML object>"
      ]
     },
     "metadata": {},
     "output_type": "display_data"
    },
    {
     "data": {
      "application/javascript": "var element=document.getElementById(\"q_1\");\n            var questionsdOyvlFmqRWAg;\n            try {\n               questionsdOyvlFmqRWAg=JSON.parse(window.atob(element.innerHTML));\n            } catch(err) {\n               console.log(\"Fell into catch\");\n               questionsdOyvlFmqRWAg = JSON.parse(element.innerHTML);\n            }\n            console.log(questionsdOyvlFmqRWAg);;\n    // Make a random ID\nfunction makeid(length) {\n    var result = [];\n    var characters = 'ABCDEFGHIJKLMNOPQRSTUVWXYZabcdefghijklmnopqrstuvwxyz';\n    var charactersLength = characters.length;\n    for (var i = 0; i < length; i++) {\n        result.push(characters.charAt(Math.floor(Math.random() * charactersLength)));\n    }\n    return result.join('');\n}\n\n// Choose a random subset of an array. Can also be used to shuffle the array\nfunction getRandomSubarray(arr, size) {\n    var shuffled = arr.slice(0), i = arr.length, temp, index;\n    while (i--) {\n        index = Math.floor((i + 1) * Math.random());\n        temp = shuffled[index];\n        shuffled[index] = shuffled[i];\n        shuffled[i] = temp;\n    }\n    return shuffled.slice(0, size);\n}\n\nfunction printResponses(responsesContainer) {\n    var responses=JSON.parse(responsesContainer.dataset.responses);\n    var stringResponses='<B>IMPORTANT!</B>To preserve this answer sequence for submission, when you have finalized your answers: <ol> <li> Copy the text in this cell below \"Answer String\"</li> <li> Double click on the cell directly below the Answer String, labeled \"Replace Me\"</li> <li> Select the whole \"Replace Me\" text</li> <li> Paste in your answer string and press shift-Enter.</li><li>Save the notebook using the save icon or File->Save Notebook menu item</li></ul><br><br><br><b>Answer String:</b><br> ';\n    console.log(responses);\n    responses.forEach((response, index) => {\n        if (response) {\n            console.log(index + ': ' + response);\n            stringResponses+= index + ': ' + response +\"<BR>\";\n        }\n    });\n    responsesContainer.innerHTML=stringResponses;\n}\nfunction check_mc() {\n    var id = this.id.split('-')[0];\n    //var response = this.id.split('-')[1];\n    //console.log(response);\n    //console.log(\"In check_mc(), id=\"+id);\n    //console.log(event.srcElement.id)           \n    //console.log(event.srcElement.dataset.correct)   \n    //console.log(event.srcElement.dataset.feedback)\n\n    var label = event.srcElement;\n    //console.log(label, label.nodeName);\n    var depth = 0;\n    while ((label.nodeName != \"LABEL\") && (depth < 20)) {\n        label = label.parentElement;\n        console.log(depth, label);\n        depth++;\n    }\n\n\n\n    var answers = label.parentElement.children;\n\n    //console.log(answers);\n\n\n    // Split behavior based on multiple choice vs many choice:\n    var fb = document.getElementById(\"fb\" + id);\n\n\n\n\n    if (fb.dataset.numcorrect == 1) {\n        // What follows is for the saved responses stuff\n        var outerContainer = fb.parentElement.parentElement;\n        var responsesContainer = document.getElementById(\"responses\" + outerContainer.id);\n        if (responsesContainer) {\n            //console.log(responsesContainer);\n            var response = label.firstChild.innerText;\n            if (label.querySelector(\".QuizCode\")){\n                response+= label.querySelector(\".QuizCode\").firstChild.innerText;\n            }\n            console.log(response);\n            //console.log(document.getElementById(\"quizWrap\"+id));\n            var qnum = document.getElementById(\"quizWrap\"+id).dataset.qnum;\n            console.log(\"Question \" + qnum);\n            //console.log(id, \", got numcorrect=\",fb.dataset.numcorrect);\n            var responses=JSON.parse(responsesContainer.dataset.responses);\n            console.log(responses);\n            responses[qnum]= response;\n            responsesContainer.setAttribute('data-responses', JSON.stringify(responses));\n            printResponses(responsesContainer);\n        }\n        // End code to preserve responses\n        \n        for (var i = 0; i < answers.length; i++) {\n            var child = answers[i];\n            //console.log(child);\n            child.className = \"MCButton\";\n        }\n\n\n\n        if (label.dataset.correct == \"true\") {\n            // console.log(\"Correct action\");\n            if (\"feedback\" in label.dataset) {\n                fb.textContent = jaxify(label.dataset.feedback);\n            } else {\n                fb.textContent = \"Correct!\";\n            }\n            label.classList.add(\"correctButton\");\n\n            fb.className = \"Feedback\";\n            fb.classList.add(\"correct\");\n\n        } else {\n            if (\"feedback\" in label.dataset) {\n                fb.textContent = jaxify(label.dataset.feedback);\n            } else {\n                fb.textContent = \"Incorrect -- try again.\";\n            }\n            //console.log(\"Error action\");\n            label.classList.add(\"incorrectButton\");\n            fb.className = \"Feedback\";\n            fb.classList.add(\"incorrect\");\n        }\n    }\n    else {\n        var reset = false;\n        var feedback;\n         if (label.dataset.correct == \"true\") {\n            if (\"feedback\" in label.dataset) {\n                feedback = jaxify(label.dataset.feedback);\n            } else {\n                feedback = \"Correct!\";\n            }\n            if (label.dataset.answered <= 0) {\n                if (fb.dataset.answeredcorrect < 0) {\n                    fb.dataset.answeredcorrect = 1;\n                    reset = true;\n                } else {\n                    fb.dataset.answeredcorrect++;\n                }\n                if (reset) {\n                    for (var i = 0; i < answers.length; i++) {\n                        var child = answers[i];\n                        child.className = \"MCButton\";\n                        child.dataset.answered = 0;\n                    }\n                }\n                label.classList.add(\"correctButton\");\n                label.dataset.answered = 1;\n                fb.className = \"Feedback\";\n                fb.classList.add(\"correct\");\n\n            }\n        } else {\n            if (\"feedback\" in label.dataset) {\n                feedback = jaxify(label.dataset.feedback);\n            } else {\n                feedback = \"Incorrect -- try again.\";\n            }\n            if (fb.dataset.answeredcorrect > 0) {\n                fb.dataset.answeredcorrect = -1;\n                reset = true;\n            } else {\n                fb.dataset.answeredcorrect--;\n            }\n\n            if (reset) {\n                for (var i = 0; i < answers.length; i++) {\n                    var child = answers[i];\n                    child.className = \"MCButton\";\n                    child.dataset.answered = 0;\n                }\n            }\n            label.classList.add(\"incorrectButton\");\n            fb.className = \"Feedback\";\n            fb.classList.add(\"incorrect\");\n        }\n        // What follows is for the saved responses stuff\n        var outerContainer = fb.parentElement.parentElement;\n        var responsesContainer = document.getElementById(\"responses\" + outerContainer.id);\n        if (responsesContainer) {\n            //console.log(responsesContainer);\n            var response = label.firstChild.innerText;\n            if (label.querySelector(\".QuizCode\")){\n                response+= label.querySelector(\".QuizCode\").firstChild.innerText;\n            }\n            console.log(response);\n            //console.log(document.getElementById(\"quizWrap\"+id));\n            var qnum = document.getElementById(\"quizWrap\"+id).dataset.qnum;\n            console.log(\"Question \" + qnum);\n            //console.log(id, \", got numcorrect=\",fb.dataset.numcorrect);\n            var responses=JSON.parse(responsesContainer.dataset.responses);\n            if (label.dataset.correct == \"true\") {\n                if (typeof(responses[qnum]) == \"object\"){\n                    if (!responses[qnum].includes(response))\n                        responses[qnum].push(response);\n                } else{\n                    responses[qnum]= [ response ];\n                }\n            } else {\n                responses[qnum]= response;\n            }\n            console.log(responses);\n            responsesContainer.setAttribute('data-responses', JSON.stringify(responses));\n            printResponses(responsesContainer);\n        }\n        // End save responses stuff\n\n\n\n        var numcorrect = fb.dataset.numcorrect;\n        var answeredcorrect = fb.dataset.answeredcorrect;\n        if (answeredcorrect >= 0) {\n            fb.textContent = feedback + \" [\" + answeredcorrect + \"/\" + numcorrect + \"]\";\n        } else {\n            fb.textContent = feedback + \" [\" + 0 + \"/\" + numcorrect + \"]\";\n        }\n\n\n    }\n\n    if (typeof MathJax != 'undefined') {\n        var version = MathJax.version;\n        console.log('MathJax version', version);\n        if (version[0] == \"2\") {\n            MathJax.Hub.Queue([\"Typeset\", MathJax.Hub]);\n        } else if (version[0] == \"3\") {\n            MathJax.typeset([fb]);\n        }\n    } else {\n        console.log('MathJax not detected');\n    }\n\n}\n\nfunction make_mc(qa, shuffle_answers, outerqDiv, qDiv, aDiv, id) {\n    var shuffled;\n    if (shuffle_answers == \"True\") {\n        //console.log(shuffle_answers+\" read as true\");\n        shuffled = getRandomSubarray(qa.answers, qa.answers.length);\n    } else {\n        //console.log(shuffle_answers+\" read as false\");\n        shuffled = qa.answers;\n    }\n\n\n    var num_correct = 0;\n\n\n\n    shuffled.forEach((item, index, ans_array) => {\n        //console.log(answer);\n\n        // Make input element\n        var inp = document.createElement(\"input\");\n        inp.type = \"radio\";\n        inp.id = \"quizo\" + id + index;\n        inp.style = \"display:none;\";\n        aDiv.append(inp);\n\n        //Make label for input element\n        var lab = document.createElement(\"label\");\n        lab.className = \"MCButton\";\n        lab.id = id + '-' + index;\n        lab.onclick = check_mc;\n        var aSpan = document.createElement('span');\n        aSpan.classsName = \"\";\n        //qDiv.id=\"quizQn\"+id+index;\n        if (\"answer\" in item) {\n            aSpan.innerHTML = jaxify(item.answer);\n            //aSpan.innerHTML=item.answer;\n        }\n        lab.append(aSpan);\n\n        // Create div for code inside question\n        var codeSpan;\n        if (\"code\" in item) {\n            codeSpan = document.createElement('span');\n            codeSpan.id = \"code\" + id + index;\n            codeSpan.className = \"QuizCode\";\n            var codePre = document.createElement('pre');\n            codeSpan.append(codePre);\n            var codeCode = document.createElement('code');\n            codePre.append(codeCode);\n            codeCode.innerHTML = item.code;\n            lab.append(codeSpan);\n            //console.log(codeSpan);\n        }\n\n        //lab.textContent=item.answer;\n\n        // Set the data attributes for the answer\n        lab.setAttribute('data-correct', item.correct);\n        if (item.correct) {\n            num_correct++;\n        }\n        if (\"feedback\" in item) {\n            lab.setAttribute('data-feedback', item.feedback);\n        }\n        lab.setAttribute('data-answered', 0);\n\n        aDiv.append(lab);\n\n    });\n\n    if (num_correct > 1) {\n        outerqDiv.className = \"ManyChoiceQn\";\n    } else {\n        outerqDiv.className = \"MultipleChoiceQn\";\n    }\n\n    return num_correct;\n\n}\nfunction check_numeric(ths, event) {\n\n    if (event.keyCode === 13) {\n        ths.blur();\n\n        var id = ths.id.split('-')[0];\n\n        var submission = ths.value;\n        if (submission.indexOf('/') != -1) {\n            var sub_parts = submission.split('/');\n            //console.log(sub_parts);\n            submission = sub_parts[0] / sub_parts[1];\n        }\n        //console.log(\"Reader entered\", submission);\n\n        if (\"precision\" in ths.dataset) {\n            var precision = ths.dataset.precision;\n            // console.log(\"1:\", submission)\n            submission = Math.round((1 * submission + Number.EPSILON) * 10 ** precision) / 10 ** precision;\n            // console.log(\"Rounded to \", submission, \" precision=\", precision  );\n        }\n\n\n        //console.log(\"In check_numeric(), id=\"+id);\n        //console.log(event.srcElement.id)           \n        //console.log(event.srcElement.dataset.feedback)\n\n        var fb = document.getElementById(\"fb\" + id);\n        fb.style.display = \"none\";\n        fb.textContent = \"Incorrect -- try again.\";\n\n        var answers = JSON.parse(ths.dataset.answers);\n        //console.log(answers);\n\n        var defaultFB = \"\";\n        var correct;\n        var done = false;\n        answers.every(answer => {\n            //console.log(answer.type);\n\n            correct = false;\n            // if (answer.type==\"value\"){\n            if ('value' in answer) {\n                if (submission == answer.value) {\n                    if (\"feedback\" in answer) {\n                        fb.textContent = jaxify(answer.feedback);\n                    } else {\n                        fb.textContent = jaxify(\"Correct\");\n                    }\n                    correct = answer.correct;\n                    //console.log(answer.correct);\n                    done = true;\n                }\n                // } else if (answer.type==\"range\") {\n            } else if ('range' in answer) {\n                //console.log(answer.range);\n                if ((submission >= answer.range[0]) && (submission < answer.range[1])) {\n                    fb.textContent = jaxify(answer.feedback);\n                    correct = answer.correct;\n                    //console.log(answer.correct);\n                    done = true;\n                }\n            } else if (answer.type == \"default\") {\n                defaultFB = answer.feedback;\n            }\n            if (done) {\n                return false; // Break out of loop if this has been marked correct\n            } else {\n                return true; // Keep looking for case that includes this as a correct answer\n            }\n        });\n\n        if ((!done) && (defaultFB != \"\")) {\n            fb.innerHTML = jaxify(defaultFB);\n            //console.log(\"Default feedback\", defaultFB);\n        }\n\n        fb.style.display = \"block\";\n        if (correct) {\n            ths.className = \"Input-text\";\n            ths.classList.add(\"correctButton\");\n            fb.className = \"Feedback\";\n            fb.classList.add(\"correct\");\n        } else {\n            ths.className = \"Input-text\";\n            ths.classList.add(\"incorrectButton\");\n            fb.className = \"Feedback\";\n            fb.classList.add(\"incorrect\");\n        }\n\n        // What follows is for the saved responses stuff\n        var outerContainer = fb.parentElement.parentElement;\n        var responsesContainer = document.getElementById(\"responses\" + outerContainer.id);\n        if (responsesContainer) {\n            console.log(submission);\n            var qnum = document.getElementById(\"quizWrap\"+id).dataset.qnum;\n            //console.log(\"Question \" + qnum);\n            //console.log(id, \", got numcorrect=\",fb.dataset.numcorrect);\n            var responses=JSON.parse(responsesContainer.dataset.responses);\n            console.log(responses);\n            if (submission == ths.value){\n                responses[qnum]= submission;\n            } else {\n                responses[qnum]= ths.value + \"(\" + submission +\")\";\n            }\n            responsesContainer.setAttribute('data-responses', JSON.stringify(responses));\n            printResponses(responsesContainer);\n        }\n        // End code to preserve responses\n\n        if (typeof MathJax != 'undefined') {\n            var version = MathJax.version;\n            console.log('MathJax version', version);\n            if (version[0] == \"2\") {\n                MathJax.Hub.Queue([\"Typeset\", MathJax.Hub]);\n            } else if (version[0] == \"3\") {\n                MathJax.typeset([fb]);\n            }\n        } else {\n            console.log('MathJax not detected');\n        }\n        return false;\n    }\n\n}\n\nfunction isValid(el, charC) {\n    //console.log(\"Input char: \", charC);\n    if (charC == 46) {\n        if (el.value.indexOf('.') === -1) {\n            return true;\n        } else if (el.value.indexOf('/') != -1) {\n            var parts = el.value.split('/');\n            if (parts[1].indexOf('.') === -1) {\n                return true;\n            }\n        }\n        else {\n            return false;\n        }\n    } else if (charC == 47) {\n        if (el.value.indexOf('/') === -1) {\n            if ((el.value != \"\") && (el.value != \".\")) {\n                return true;\n            } else {\n                return false;\n            }\n        } else {\n            return false;\n        }\n    } else if (charC == 45) {\n        var edex = el.value.indexOf('e');\n        if (edex == -1) {\n            edex = el.value.indexOf('E');\n        }\n\n        if (el.value == \"\") {\n            return true;\n        } else if (edex == (el.value.length - 1)) { // If just after e or E\n            return true;\n        } else {\n            return false;\n        }\n    } else if (charC == 101) { // \"e\"\n        if ((el.value.indexOf('e') === -1) && (el.value.indexOf('E') === -1) && (el.value.indexOf('/') == -1)) {\n            // Prev symbol must be digit or decimal point:\n            if (el.value.slice(-1).search(/\\d/) >= 0) {\n                return true;\n            } else if (el.value.slice(-1).search(/\\./) >= 0) {\n                return true;\n            } else {\n                return false;\n            }\n        } else {\n            return false;\n        }\n    } else {\n        if (charC > 31 && (charC < 48 || charC > 57))\n            return false;\n    }\n    return true;\n}\n\nfunction numeric_keypress(evnt) {\n    var charC = (evnt.which) ? evnt.which : evnt.keyCode;\n\n    if (charC == 13) {\n        check_numeric(this, evnt);\n    } else {\n        return isValid(this, charC);\n    }\n}\n\n\n\n\n\nfunction make_numeric(qa, outerqDiv, qDiv, aDiv, id) {\n\n\n\n    //console.log(answer);\n\n\n    outerqDiv.className = \"NumericQn\";\n    aDiv.style.display = 'block';\n\n    var lab = document.createElement(\"label\");\n    lab.className = \"InpLabel\";\n    lab.textContent = \"Type numeric answer here:\";\n    aDiv.append(lab);\n\n    var inp = document.createElement(\"input\");\n    inp.type = \"text\";\n    //inp.id=\"input-\"+id;\n    inp.id = id + \"-0\";\n    inp.className = \"Input-text\";\n    inp.setAttribute('data-answers', JSON.stringify(qa.answers));\n    if (\"precision\" in qa) {\n        inp.setAttribute('data-precision', qa.precision);\n    }\n    aDiv.append(inp);\n    //console.log(inp);\n\n    //inp.addEventListener(\"keypress\", check_numeric);\n    //inp.addEventListener(\"keypress\", numeric_keypress);\n    /*\n    inp.addEventListener(\"keypress\", function(event) {\n        return numeric_keypress(this, event);\n    }\n                        );\n                        */\n    //inp.onkeypress=\"return numeric_keypress(this, event)\";\n    inp.onkeypress = numeric_keypress;\n    inp.onpaste = event => false;\n\n    inp.addEventListener(\"focus\", function (event) {\n        this.value = \"\";\n        return false;\n    }\n    );\n\n\n}\nfunction jaxify(string) {\n    var mystring = string;\n\n    var count = 0;\n    var loc = mystring.search(/([^\\\\]|^)(\\$)/);\n\n    var count2 = 0;\n    var loc2 = mystring.search(/([^\\\\]|^)(\\$\\$)/);\n\n    //console.log(loc);\n\n    while ((loc >= 0) || (loc2 >= 0)) {\n\n        /* Have to replace all the double $$ first with current implementation */\n        if (loc2 >= 0) {\n            if (count2 % 2 == 0) {\n                mystring = mystring.replace(/([^\\\\]|^)(\\$\\$)/, \"$1\\\\[\");\n            } else {\n                mystring = mystring.replace(/([^\\\\]|^)(\\$\\$)/, \"$1\\\\]\");\n            }\n            count2++;\n        } else {\n            if (count % 2 == 0) {\n                mystring = mystring.replace(/([^\\\\]|^)(\\$)/, \"$1\\\\(\");\n            } else {\n                mystring = mystring.replace(/([^\\\\]|^)(\\$)/, \"$1\\\\)\");\n            }\n            count++;\n        }\n        loc = mystring.search(/([^\\\\]|^)(\\$)/);\n        loc2 = mystring.search(/([^\\\\]|^)(\\$\\$)/);\n        //console.log(mystring,\", loc:\",loc,\", loc2:\",loc2);\n    }\n\n    //console.log(mystring);\n    return mystring;\n}\n\n\nfunction show_questions(json, mydiv) {\n    console.log('show_questions');\n    //var mydiv=document.getElementById(myid);\n    var shuffle_questions = mydiv.dataset.shufflequestions;\n    var num_questions = mydiv.dataset.numquestions;\n    var shuffle_answers = mydiv.dataset.shuffleanswers;\n    var max_width = mydiv.dataset.maxwidth;\n\n    if (num_questions > json.length) {\n        num_questions = json.length;\n    }\n\n    var questions;\n    if ((num_questions < json.length) || (shuffle_questions == \"True\")) {\n        //console.log(num_questions+\",\"+json.length);\n        questions = getRandomSubarray(json, num_questions);\n    } else {\n        questions = json;\n    }\n\n    //console.log(\"SQ: \"+shuffle_questions+\", NQ: \" + num_questions + \", SA: \", shuffle_answers);\n\n    // Iterate over questions\n    questions.forEach((qa, index, array) => {\n        //console.log(qa.question); \n\n        var id = makeid(8);\n        //console.log(id);\n\n\n        // Create Div to contain question and answers\n        var iDiv = document.createElement('div');\n        //iDiv.id = 'quizWrap' + id + index;\n        iDiv.id = 'quizWrap' + id;\n        iDiv.className = 'Quiz';\n        iDiv.setAttribute('data-qnum', index);\n        iDiv.style.maxWidth  =max_width+\"px\";\n        mydiv.appendChild(iDiv);\n        // iDiv.innerHTML=qa.question;\n        \n        var outerqDiv = document.createElement('div');\n        outerqDiv.id = \"OuterquizQn\" + id + index;\n        // Create div to contain question part\n        var qDiv = document.createElement('div');\n        qDiv.id = \"quizQn\" + id + index;\n        \n        if (qa.question) {\n            iDiv.append(outerqDiv);\n\n            //qDiv.textContent=qa.question;\n            qDiv.innerHTML = jaxify(qa.question);\n            outerqDiv.append(qDiv);\n        }\n\n        // Create div for code inside question\n        var codeDiv;\n        if (\"code\" in qa) {\n            codeDiv = document.createElement('div');\n            codeDiv.id = \"code\" + id + index;\n            codeDiv.className = \"QuizCode\";\n            var codePre = document.createElement('pre');\n            codeDiv.append(codePre);\n            var codeCode = document.createElement('code');\n            codePre.append(codeCode);\n            codeCode.innerHTML = qa.code;\n            outerqDiv.append(codeDiv);\n            //console.log(codeDiv);\n        }\n\n\n        // Create div to contain answer part\n        var aDiv = document.createElement('div');\n        aDiv.id = \"quizAns\" + id + index;\n        aDiv.className = 'Answer';\n        iDiv.append(aDiv);\n\n        //console.log(qa.type);\n\n        var num_correct;\n        if ((qa.type == \"multiple_choice\") || (qa.type == \"many_choice\") ) {\n            num_correct = make_mc(qa, shuffle_answers, outerqDiv, qDiv, aDiv, id);\n            if (\"answer_cols\" in qa) {\n                //aDiv.style.gridTemplateColumns = 'auto '.repeat(qa.answer_cols);\n                aDiv.style.gridTemplateColumns = 'repeat(' + qa.answer_cols + ', 1fr)';\n            }\n        } else if (qa.type == \"numeric\") {\n            //console.log(\"numeric\");\n            make_numeric(qa, outerqDiv, qDiv, aDiv, id);\n        }\n\n\n        //Make div for feedback\n        var fb = document.createElement(\"div\");\n        fb.id = \"fb\" + id;\n        //fb.style=\"font-size: 20px;text-align:center;\";\n        fb.className = \"Feedback\";\n        fb.setAttribute(\"data-answeredcorrect\", 0);\n        fb.setAttribute(\"data-numcorrect\", num_correct);\n        iDiv.append(fb);\n\n\n    });\n    var preserveResponses = mydiv.dataset.preserveresponses;\n    console.log(preserveResponses);\n    console.log(preserveResponses == \"true\");\n    if (preserveResponses == \"true\") {\n        console.log(preserveResponses);\n        // Create Div to contain record of answers\n        var iDiv = document.createElement('div');\n        iDiv.id = 'responses' + mydiv.id;\n        iDiv.className = 'JCResponses';\n        // Create a place to store responses as an empty array\n        iDiv.setAttribute('data-responses', '[]');\n\n        // Dummy Text\n        iDiv.innerHTML=\"<b>Select your answers and then follow the directions that will appear here.</b>\"\n        //iDiv.className = 'Quiz';\n        mydiv.appendChild(iDiv);\n    }\n//console.log(\"At end of show_questions\");\n    if (typeof MathJax != 'undefined') {\n        console.log(\"MathJax version\", MathJax.version);\n        var version = MathJax.version;\n        setTimeout(function(){\n            var version = MathJax.version;\n            console.log('After sleep, MathJax version', version);\n            if (version[0] == \"2\") {\n                MathJax.Hub.Queue([\"Typeset\", MathJax.Hub]);\n            } else if (version[0] == \"3\") {\n                MathJax.typeset([mydiv]);\n            }\n        }, 500);\nif (typeof version == 'undefined') {\n        } else\n        {\n            if (version[0] == \"2\") {\n                MathJax.Hub.Queue([\"Typeset\", MathJax.Hub]);\n            } else if (version[0] == \"3\") {\n                MathJax.typeset([mydiv]);\n            } else {\n                console.log(\"MathJax not found\");\n            }\n        }\n    }\n    return false;\n}\n/* This is to handle asynchrony issues in loading Jupyter notebooks\n           where the quiz has been previously run. The Javascript was generally\n           being run before the div was added to the DOM. I tried to do this\n           more elegantly using Mutation Observer, but I didn't get it to work.\n\n           Someone more knowledgeable could make this better ;-) */\n\n        function try_show() {\n          if(document.getElementById(\"dOyvlFmqRWAg\")) {\n            show_questions(questionsdOyvlFmqRWAg,  dOyvlFmqRWAg); \n          } else {\n             setTimeout(try_show, 200);\n          }\n        };\n    \n        {\n        // console.log(element);\n\n        //console.log(\"dOyvlFmqRWAg\");\n        // console.log(document.getElementById(\"dOyvlFmqRWAg\"));\n\n        try_show();\n        }\n        ",
      "text/plain": [
       "<IPython.core.display.Javascript object>"
      ]
     },
     "metadata": {},
     "output_type": "display_data"
    }
   ],
   "source": [
    "display_quiz(\"#q_1\")"
   ]
  },
  {
   "cell_type": "markdown",
   "metadata": {},
   "source": [
    "## Implementation"
   ]
  },
  {
   "cell_type": "markdown",
   "metadata": {},
   "source": [
    "We should import essential libraries for conducting Polynomial Regression.\n",
    "\n",
    "Python libraries streamline data handling and enable the execution of both standard and intricate tasks with minimal code.\n",
    "![Alt Text](images/photo.png)\n",
    "<br>\n",
    "Pandas: Facilitates the loading of data frames in a 2D array format and offers various functions for efficient analysis. <br>\n",
    "Numpy: Employs fast array operations, enabling swift computations for large datasets.<br>\n",
    "Matplotlib/Seaborn: used for creating visualizations.<br>\n",
    "Scikit-learn (Sklearn): A comprehensive module comprising pre-implemented functions for tasks ranging from data preprocessing to model development and evaluation."
   ]
  },
  {
   "cell_type": "code",
   "execution_count": 75,
   "metadata": {
    "tags": [
     "hide-input"
    ]
   },
   "outputs": [
    {
     "data": {
      "application/vnd.plotly.v1+json": {
       "config": {
        "plotlyServerURL": "https://plot.ly"
       },
       "data": [
        {
         "marker": {
          "size": 10
         },
         "mode": "markers",
         "name": "Data Points",
         "type": "scatter",
         "x": [
          2.4730082276901073,
          1.140415522246681,
          1.2773696187860568,
          1.9816495486138845,
          1.88657548845562,
          4.982871150773247,
          2.0409860016659853,
          3.859469974198568,
          3.8026834400444214,
          1.5500467434266603,
          1.7327060228134865,
          1.758824087482812,
          0.7273342824807749,
          4.863323423587252,
          4.5458921899624505,
          2.799785518610625,
          1.5679537324835229,
          4.441000187619441,
          3.3728653291113195,
          1.955437238192808,
          2.5359206195648825,
          2.62051751332057,
          4.640004639082762,
          2.856865345194633,
          3.3416878438834003,
          0.26129345553254635,
          1.635286520315073,
          0.28200819585746717,
          0.899138470318937,
          4.629665862505213,
          4.690076114711959,
          3.5704635371704683,
          3.663438044532583,
          2.3087383813221605,
          4.6566463380297405,
          2.0321012167040378,
          3.4160288526367255,
          3.249579340445311,
          2.9938258933139106,
          1.1101969603983792,
          3.411785845681894,
          4.390281513011731,
          3.9835863164053418,
          2.1600112389904047,
          4.5893910957919495,
          3.9091683886337796,
          3.6287513917463587,
          0.6242734674479639,
          4.581542246764557,
          1.9385549686514807
         ],
         "y": [
          5.915246804346298,
          1.1440844954909266,
          1.1494844007059661,
          3.7444726642458264,
          3.4207251076620055,
          14.793030146246297,
          4.7670272953244135,
          8.279898173533391,
          8.436984053937216,
          3.1624870571301646,
          6.2063900736594615,
          2.055342578099115,
          2.360485511292747,
          14.350644069105702,
          13.148233402785005,
          5.970905278959587,
          3.0646840940229105,
          12.139440749626107,
          7.775224966020413,
          3.946135765432789,
          5.9620156106452455,
          4.489918435019069,
          12.519044858860399,
          7.188960758821952,
          7.622446713491895,
          1.8208704483661184,
          2.4461263880125297,
          1.7691179733279334,
          2.626468712711236,
          12.968716596333053,
          13.706333068201776,
          8.868094766638848,
          10.181390822035885,
          4.0825169876184635,
          14.907997051273068,
          5.152551564422138,
          8.639815601001091,
          5.691998105599719,
          7.7123822393998545,
          0.24281526681545706,
          7.789030358277507,
          7.8273955038947225,
          9.735430278486142,
          4.68325501851513,
          12.478704530278211,
          9.006517662096176,
          8.2209872258327,
          -0.37606107984992354,
          12.63277941920082,
          3.1597014958146756
         ]
        },
        {
         "mode": "lines",
         "name": "Regression Line",
         "type": "scatter",
         "x": [
          0,
          0.050505050505050504,
          0.10101010101010101,
          0.15151515151515152,
          0.20202020202020202,
          0.25252525252525254,
          0.30303030303030304,
          0.35353535353535354,
          0.40404040404040403,
          0.45454545454545453,
          0.5050505050505051,
          0.5555555555555556,
          0.6060606060606061,
          0.6565656565656566,
          0.7070707070707071,
          0.7575757575757576,
          0.8080808080808081,
          0.8585858585858586,
          0.9090909090909091,
          0.9595959595959596,
          1.0101010101010102,
          1.0606060606060606,
          1.1111111111111112,
          1.1616161616161615,
          1.2121212121212122,
          1.2626262626262625,
          1.3131313131313131,
          1.3636363636363635,
          1.4141414141414141,
          1.4646464646464645,
          1.5151515151515151,
          1.5656565656565655,
          1.6161616161616161,
          1.6666666666666667,
          1.7171717171717171,
          1.7676767676767677,
          1.8181818181818181,
          1.8686868686868687,
          1.9191919191919191,
          1.9696969696969697,
          2.0202020202020203,
          2.0707070707070705,
          2.121212121212121,
          2.1717171717171717,
          2.2222222222222223,
          2.2727272727272725,
          2.323232323232323,
          2.3737373737373737,
          2.4242424242424243,
          2.474747474747475,
          2.525252525252525,
          2.5757575757575757,
          2.6262626262626263,
          2.676767676767677,
          2.727272727272727,
          2.7777777777777777,
          2.8282828282828283,
          2.878787878787879,
          2.929292929292929,
          2.9797979797979797,
          3.0303030303030303,
          3.080808080808081,
          3.131313131313131,
          3.1818181818181817,
          3.2323232323232323,
          3.282828282828283,
          3.3333333333333335,
          3.3838383838383836,
          3.4343434343434343,
          3.484848484848485,
          3.5353535353535355,
          3.5858585858585856,
          3.6363636363636362,
          3.686868686868687,
          3.7373737373737375,
          3.7878787878787876,
          3.8383838383838382,
          3.888888888888889,
          3.9393939393939394,
          3.9898989898989896,
          4.040404040404041,
          4.090909090909091,
          4.141414141414141,
          4.191919191919192,
          4.242424242424242,
          4.292929292929293,
          4.343434343434343,
          4.393939393939394,
          4.444444444444445,
          4.494949494949495,
          4.545454545454545,
          4.595959595959596,
          4.646464646464646,
          4.696969696969697,
          4.747474747474747,
          4.797979797979798,
          4.848484848484849,
          4.898989898989899,
          4.94949494949495,
          5
         ],
         "y": [
          0.9126983053757737,
          0.9451877323892292,
          0.9798197775835734,
          1.0165944409588064,
          1.0555117225149278,
          1.096571622251938,
          1.139774140169837,
          1.1851192762686245,
          1.2326070305483008,
          1.2822374030088657,
          1.3340103936503194,
          1.3879260024726618,
          1.4439842294758927,
          1.5021850746600123,
          1.5625285380250207,
          1.6250146195709176,
          1.6896433192977032,
          1.7564146372053777,
          1.8253285732939408,
          1.8963851275633925,
          1.9695843000137332,
          2.044926090644962,
          2.12241049945708,
          2.202037526450086,
          2.2838071716239816,
          2.367719434978765,
          2.453774316514438,
          2.541971816230999,
          2.632311934128449,
          2.724794670206787,
          2.819420024466014,
          2.91618799690613,
          3.015098587527135,
          3.116151796329029,
          3.21934762331181,
          3.324686068475481,
          3.43216713182004,
          3.5417908133454885,
          3.6535571130518245,
          3.7674660309390506,
          3.8835175670071647,
          4.001711721256166,
          4.122048493686058,
          4.244527884296837,
          4.369149893088507,
          4.4959145200610635,
          4.624821765214509,
          4.755871628548845,
          4.889064110064068,
          5.024399209760181,
          5.161876927637181,
          5.30149726369507,
          5.443260217933849,
          5.587165790353516,
          5.733213980954071,
          5.881404789735515,
          6.031738216697848,
          6.18421426184107,
          6.338832925165178,
          6.495594206670179,
          6.654498106356066,
          6.815544624222842,
          6.978733760270507,
          7.144065514499061,
          7.311539886908503,
          7.481156877498835,
          7.652916486270055,
          7.8268187132221625,
          8.002863558355159,
          8.181051021669045,
          8.36138110316382,
          8.543853802839482,
          8.728469120696035,
          8.915227056733475,
          9.104127610951805,
          9.29517078335102,
          9.488356573931128,
          9.683684982692123,
          9.881156009634008,
          10.080769654756777,
          10.282525918060442,
          10.48642479954499,
          10.692466299210428,
          10.900650417056756,
          11.11097715308397,
          11.323446507292077,
          11.53805847968107,
          11.75481307025095,
          11.973710279001722,
          12.19475010593338,
          12.417932551045928,
          12.643257614339367,
          12.87072529581369,
          13.100335595468907,
          13.332088513305008,
          13.565984049321997,
          13.802022203519881,
          14.04020297589865,
          14.280526366458307,
          14.522992375198852
         ]
        }
       ],
       "layout": {
        "template": {
         "data": {
          "bar": [
           {
            "error_x": {
             "color": "#2a3f5f"
            },
            "error_y": {
             "color": "#2a3f5f"
            },
            "marker": {
             "line": {
              "color": "#E5ECF6",
              "width": 0.5
             },
             "pattern": {
              "fillmode": "overlay",
              "size": 10,
              "solidity": 0.2
             }
            },
            "type": "bar"
           }
          ],
          "barpolar": [
           {
            "marker": {
             "line": {
              "color": "#E5ECF6",
              "width": 0.5
             },
             "pattern": {
              "fillmode": "overlay",
              "size": 10,
              "solidity": 0.2
             }
            },
            "type": "barpolar"
           }
          ],
          "carpet": [
           {
            "aaxis": {
             "endlinecolor": "#2a3f5f",
             "gridcolor": "white",
             "linecolor": "white",
             "minorgridcolor": "white",
             "startlinecolor": "#2a3f5f"
            },
            "baxis": {
             "endlinecolor": "#2a3f5f",
             "gridcolor": "white",
             "linecolor": "white",
             "minorgridcolor": "white",
             "startlinecolor": "#2a3f5f"
            },
            "type": "carpet"
           }
          ],
          "choropleth": [
           {
            "colorbar": {
             "outlinewidth": 0,
             "ticks": ""
            },
            "type": "choropleth"
           }
          ],
          "contour": [
           {
            "colorbar": {
             "outlinewidth": 0,
             "ticks": ""
            },
            "colorscale": [
             [
              0,
              "#0d0887"
             ],
             [
              0.1111111111111111,
              "#46039f"
             ],
             [
              0.2222222222222222,
              "#7201a8"
             ],
             [
              0.3333333333333333,
              "#9c179e"
             ],
             [
              0.4444444444444444,
              "#bd3786"
             ],
             [
              0.5555555555555556,
              "#d8576b"
             ],
             [
              0.6666666666666666,
              "#ed7953"
             ],
             [
              0.7777777777777778,
              "#fb9f3a"
             ],
             [
              0.8888888888888888,
              "#fdca26"
             ],
             [
              1,
              "#f0f921"
             ]
            ],
            "type": "contour"
           }
          ],
          "contourcarpet": [
           {
            "colorbar": {
             "outlinewidth": 0,
             "ticks": ""
            },
            "type": "contourcarpet"
           }
          ],
          "heatmap": [
           {
            "colorbar": {
             "outlinewidth": 0,
             "ticks": ""
            },
            "colorscale": [
             [
              0,
              "#0d0887"
             ],
             [
              0.1111111111111111,
              "#46039f"
             ],
             [
              0.2222222222222222,
              "#7201a8"
             ],
             [
              0.3333333333333333,
              "#9c179e"
             ],
             [
              0.4444444444444444,
              "#bd3786"
             ],
             [
              0.5555555555555556,
              "#d8576b"
             ],
             [
              0.6666666666666666,
              "#ed7953"
             ],
             [
              0.7777777777777778,
              "#fb9f3a"
             ],
             [
              0.8888888888888888,
              "#fdca26"
             ],
             [
              1,
              "#f0f921"
             ]
            ],
            "type": "heatmap"
           }
          ],
          "heatmapgl": [
           {
            "colorbar": {
             "outlinewidth": 0,
             "ticks": ""
            },
            "colorscale": [
             [
              0,
              "#0d0887"
             ],
             [
              0.1111111111111111,
              "#46039f"
             ],
             [
              0.2222222222222222,
              "#7201a8"
             ],
             [
              0.3333333333333333,
              "#9c179e"
             ],
             [
              0.4444444444444444,
              "#bd3786"
             ],
             [
              0.5555555555555556,
              "#d8576b"
             ],
             [
              0.6666666666666666,
              "#ed7953"
             ],
             [
              0.7777777777777778,
              "#fb9f3a"
             ],
             [
              0.8888888888888888,
              "#fdca26"
             ],
             [
              1,
              "#f0f921"
             ]
            ],
            "type": "heatmapgl"
           }
          ],
          "histogram": [
           {
            "marker": {
             "pattern": {
              "fillmode": "overlay",
              "size": 10,
              "solidity": 0.2
             }
            },
            "type": "histogram"
           }
          ],
          "histogram2d": [
           {
            "colorbar": {
             "outlinewidth": 0,
             "ticks": ""
            },
            "colorscale": [
             [
              0,
              "#0d0887"
             ],
             [
              0.1111111111111111,
              "#46039f"
             ],
             [
              0.2222222222222222,
              "#7201a8"
             ],
             [
              0.3333333333333333,
              "#9c179e"
             ],
             [
              0.4444444444444444,
              "#bd3786"
             ],
             [
              0.5555555555555556,
              "#d8576b"
             ],
             [
              0.6666666666666666,
              "#ed7953"
             ],
             [
              0.7777777777777778,
              "#fb9f3a"
             ],
             [
              0.8888888888888888,
              "#fdca26"
             ],
             [
              1,
              "#f0f921"
             ]
            ],
            "type": "histogram2d"
           }
          ],
          "histogram2dcontour": [
           {
            "colorbar": {
             "outlinewidth": 0,
             "ticks": ""
            },
            "colorscale": [
             [
              0,
              "#0d0887"
             ],
             [
              0.1111111111111111,
              "#46039f"
             ],
             [
              0.2222222222222222,
              "#7201a8"
             ],
             [
              0.3333333333333333,
              "#9c179e"
             ],
             [
              0.4444444444444444,
              "#bd3786"
             ],
             [
              0.5555555555555556,
              "#d8576b"
             ],
             [
              0.6666666666666666,
              "#ed7953"
             ],
             [
              0.7777777777777778,
              "#fb9f3a"
             ],
             [
              0.8888888888888888,
              "#fdca26"
             ],
             [
              1,
              "#f0f921"
             ]
            ],
            "type": "histogram2dcontour"
           }
          ],
          "mesh3d": [
           {
            "colorbar": {
             "outlinewidth": 0,
             "ticks": ""
            },
            "type": "mesh3d"
           }
          ],
          "parcoords": [
           {
            "line": {
             "colorbar": {
              "outlinewidth": 0,
              "ticks": ""
             }
            },
            "type": "parcoords"
           }
          ],
          "pie": [
           {
            "automargin": true,
            "type": "pie"
           }
          ],
          "scatter": [
           {
            "fillpattern": {
             "fillmode": "overlay",
             "size": 10,
             "solidity": 0.2
            },
            "type": "scatter"
           }
          ],
          "scatter3d": [
           {
            "line": {
             "colorbar": {
              "outlinewidth": 0,
              "ticks": ""
             }
            },
            "marker": {
             "colorbar": {
              "outlinewidth": 0,
              "ticks": ""
             }
            },
            "type": "scatter3d"
           }
          ],
          "scattercarpet": [
           {
            "marker": {
             "colorbar": {
              "outlinewidth": 0,
              "ticks": ""
             }
            },
            "type": "scattercarpet"
           }
          ],
          "scattergeo": [
           {
            "marker": {
             "colorbar": {
              "outlinewidth": 0,
              "ticks": ""
             }
            },
            "type": "scattergeo"
           }
          ],
          "scattergl": [
           {
            "marker": {
             "colorbar": {
              "outlinewidth": 0,
              "ticks": ""
             }
            },
            "type": "scattergl"
           }
          ],
          "scattermapbox": [
           {
            "marker": {
             "colorbar": {
              "outlinewidth": 0,
              "ticks": ""
             }
            },
            "type": "scattermapbox"
           }
          ],
          "scatterpolar": [
           {
            "marker": {
             "colorbar": {
              "outlinewidth": 0,
              "ticks": ""
             }
            },
            "type": "scatterpolar"
           }
          ],
          "scatterpolargl": [
           {
            "marker": {
             "colorbar": {
              "outlinewidth": 0,
              "ticks": ""
             }
            },
            "type": "scatterpolargl"
           }
          ],
          "scatterternary": [
           {
            "marker": {
             "colorbar": {
              "outlinewidth": 0,
              "ticks": ""
             }
            },
            "type": "scatterternary"
           }
          ],
          "surface": [
           {
            "colorbar": {
             "outlinewidth": 0,
             "ticks": ""
            },
            "colorscale": [
             [
              0,
              "#0d0887"
             ],
             [
              0.1111111111111111,
              "#46039f"
             ],
             [
              0.2222222222222222,
              "#7201a8"
             ],
             [
              0.3333333333333333,
              "#9c179e"
             ],
             [
              0.4444444444444444,
              "#bd3786"
             ],
             [
              0.5555555555555556,
              "#d8576b"
             ],
             [
              0.6666666666666666,
              "#ed7953"
             ],
             [
              0.7777777777777778,
              "#fb9f3a"
             ],
             [
              0.8888888888888888,
              "#fdca26"
             ],
             [
              1,
              "#f0f921"
             ]
            ],
            "type": "surface"
           }
          ],
          "table": [
           {
            "cells": {
             "fill": {
              "color": "#EBF0F8"
             },
             "line": {
              "color": "white"
             }
            },
            "header": {
             "fill": {
              "color": "#C8D4E3"
             },
             "line": {
              "color": "white"
             }
            },
            "type": "table"
           }
          ]
         },
         "layout": {
          "annotationdefaults": {
           "arrowcolor": "#2a3f5f",
           "arrowhead": 0,
           "arrowwidth": 1
          },
          "autotypenumbers": "strict",
          "coloraxis": {
           "colorbar": {
            "outlinewidth": 0,
            "ticks": ""
           }
          },
          "colorscale": {
           "diverging": [
            [
             0,
             "#8e0152"
            ],
            [
             0.1,
             "#c51b7d"
            ],
            [
             0.2,
             "#de77ae"
            ],
            [
             0.3,
             "#f1b6da"
            ],
            [
             0.4,
             "#fde0ef"
            ],
            [
             0.5,
             "#f7f7f7"
            ],
            [
             0.6,
             "#e6f5d0"
            ],
            [
             0.7,
             "#b8e186"
            ],
            [
             0.8,
             "#7fbc41"
            ],
            [
             0.9,
             "#4d9221"
            ],
            [
             1,
             "#276419"
            ]
           ],
           "sequential": [
            [
             0,
             "#0d0887"
            ],
            [
             0.1111111111111111,
             "#46039f"
            ],
            [
             0.2222222222222222,
             "#7201a8"
            ],
            [
             0.3333333333333333,
             "#9c179e"
            ],
            [
             0.4444444444444444,
             "#bd3786"
            ],
            [
             0.5555555555555556,
             "#d8576b"
            ],
            [
             0.6666666666666666,
             "#ed7953"
            ],
            [
             0.7777777777777778,
             "#fb9f3a"
            ],
            [
             0.8888888888888888,
             "#fdca26"
            ],
            [
             1,
             "#f0f921"
            ]
           ],
           "sequentialminus": [
            [
             0,
             "#0d0887"
            ],
            [
             0.1111111111111111,
             "#46039f"
            ],
            [
             0.2222222222222222,
             "#7201a8"
            ],
            [
             0.3333333333333333,
             "#9c179e"
            ],
            [
             0.4444444444444444,
             "#bd3786"
            ],
            [
             0.5555555555555556,
             "#d8576b"
            ],
            [
             0.6666666666666666,
             "#ed7953"
            ],
            [
             0.7777777777777778,
             "#fb9f3a"
            ],
            [
             0.8888888888888888,
             "#fdca26"
            ],
            [
             1,
             "#f0f921"
            ]
           ]
          },
          "colorway": [
           "#636efa",
           "#EF553B",
           "#00cc96",
           "#ab63fa",
           "#FFA15A",
           "#19d3f3",
           "#FF6692",
           "#B6E880",
           "#FF97FF",
           "#FECB52"
          ],
          "font": {
           "color": "#2a3f5f"
          },
          "geo": {
           "bgcolor": "white",
           "lakecolor": "white",
           "landcolor": "#E5ECF6",
           "showlakes": true,
           "showland": true,
           "subunitcolor": "white"
          },
          "hoverlabel": {
           "align": "left"
          },
          "hovermode": "closest",
          "mapbox": {
           "style": "light"
          },
          "paper_bgcolor": "white",
          "plot_bgcolor": "#E5ECF6",
          "polar": {
           "angularaxis": {
            "gridcolor": "white",
            "linecolor": "white",
            "ticks": ""
           },
           "bgcolor": "#E5ECF6",
           "radialaxis": {
            "gridcolor": "white",
            "linecolor": "white",
            "ticks": ""
           }
          },
          "scene": {
           "xaxis": {
            "backgroundcolor": "#E5ECF6",
            "gridcolor": "white",
            "gridwidth": 2,
            "linecolor": "white",
            "showbackground": true,
            "ticks": "",
            "zerolinecolor": "white"
           },
           "yaxis": {
            "backgroundcolor": "#E5ECF6",
            "gridcolor": "white",
            "gridwidth": 2,
            "linecolor": "white",
            "showbackground": true,
            "ticks": "",
            "zerolinecolor": "white"
           },
           "zaxis": {
            "backgroundcolor": "#E5ECF6",
            "gridcolor": "white",
            "gridwidth": 2,
            "linecolor": "white",
            "showbackground": true,
            "ticks": "",
            "zerolinecolor": "white"
           }
          },
          "shapedefaults": {
           "line": {
            "color": "#2a3f5f"
           }
          },
          "ternary": {
           "aaxis": {
            "gridcolor": "white",
            "linecolor": "white",
            "ticks": ""
           },
           "baxis": {
            "gridcolor": "white",
            "linecolor": "white",
            "ticks": ""
           },
           "bgcolor": "#E5ECF6",
           "caxis": {
            "gridcolor": "white",
            "linecolor": "white",
            "ticks": ""
           }
          },
          "title": {
           "x": 0.05
          },
          "xaxis": {
           "automargin": true,
           "gridcolor": "white",
           "linecolor": "white",
           "ticks": "",
           "title": {
            "standoff": 15
           },
           "zerolinecolor": "white",
           "zerolinewidth": 2
          },
          "yaxis": {
           "automargin": true,
           "gridcolor": "white",
           "linecolor": "white",
           "ticks": "",
           "title": {
            "standoff": 15
           },
           "zerolinecolor": "white",
           "zerolinewidth": 2
          }
         }
        },
        "title": {
         "text": "Polynomial Regression"
        },
        "xaxis": {
         "gridcolor": "LightGray",
         "gridwidth": 1,
         "range": [
          0,
          5
         ],
         "showgrid": true,
         "title": {
          "text": "X"
         }
        },
        "yaxis": {
         "gridcolor": "LightGray",
         "gridwidth": 1,
         "range": [
          -1.3760610798499235,
          15.907997051273068
         ],
         "showgrid": true,
         "title": {
          "text": "Y"
         }
        }
       }
      }
     },
     "metadata": {},
     "output_type": "display_data"
    }
   ],
   "source": [
    "import numpy as np\n",
    "import plotly.graph_objects as go\n",
    "\n",
    "# Generate random data points\n",
    "np.random.seed(50)  # Set seed for reproducibility\n",
    "x = np.random.rand(50) * 5  # Random values between 0 and 5\n",
    "\n",
    "# Create a parabolic relation for y with some random noise\n",
    "y = 2 + 0.5 * x**2 + np.random.normal(0, 1, 50)  # Quadratic relation with noise\n",
    "\n",
    "# Perform quadratic regression\n",
    "coefficients = np.polyfit(x, y, 2)\n",
    "\n",
    "# Create regression line\n",
    "start = 0\n",
    "end = 5\n",
    "M = 100\n",
    "XO = np.linspace(start, end, num=M)\n",
    "yO = np.polyval(coefficients, XO)\n",
    "\n",
    "# Plot using Plotly\n",
    "fig = go.Figure()\n",
    "\n",
    "# Scatter plot of the original data points\n",
    "fig.add_trace(go.Scatter(x=x, y=y, mode='markers', marker=dict(size=10), name='Data Points'))\n",
    "\n",
    "# Plot the regression line\n",
    "fig.add_trace(go.Scatter(x=XO, y=yO, mode='lines', name='Regression Line'))\n",
    "\n",
    "# Set plot title and axis labels\n",
    "fig.update_layout(title='Polynomial Regression', xaxis_title='X', yaxis_title='Y')\n",
    "\n",
    "# Set the x and y-axis limits\n",
    "fig.update_xaxes(range=[start, end])\n",
    "fig.update_yaxes(range=[min(y) - 1, max(y) + 1])  # Adjust y-axis limits based on data range\n",
    "\n",
    "# Add grid lines to the plot\n",
    "fig.update_layout(xaxis=dict(showgrid=True, gridwidth=1, gridcolor='LightGray'),\n",
    "                  yaxis=dict(showgrid=True, gridwidth=1, gridcolor='LightGray'))\n",
    "\n",
    "# Show the interactive plot\n",
    "fig.show()"
   ]
  },
  {
   "cell_type": "markdown",
   "metadata": {},
   "source": [
    "## Application of Polynomial Regression"
   ]
  },
  {
   "cell_type": "markdown",
   "metadata": {},
   "source": [
    "Polynomial regression is widely employed due to its effectiveness in modeling non-linear relationships present in real-world data. Many real-world phenomena exhibit non-linear patterns, making polynomial regression a valuable tool for capturing and understanding complex relationships."
   ]
  },
  {
   "cell_type": "markdown",
   "metadata": {},
   "source": [
    "```{note}\n",
    "In contrast to standard linear regression, which assumes a linear relationship between variables, polynomial regression allows for the fitting of curvilinear regression lines, providing more accurate and meaningful results.\n",
    "```"
   ]
  },
  {
   "cell_type": "markdown",
   "metadata": {},
   "source": [
    "Some notable use cases for polynomial regression include:"
   ]
  },
  {
   "cell_type": "markdown",
   "metadata": {},
   "source": [
    "*Growth Rate of Tissues:*\n",
    "Polynomial regression can be applied to model the growth rates of biological tissues, which often follow non-linear patterns. This allows researchers to gain insights into the complex dynamics of tissue development.\n",
    "\n",
    "*Progression of Disease Epidemics:*\n",
    "The spread of diseases in populations may exhibit non-linear patterns. Polynomial regression can be utilized to analyze and predict the progression of disease epidemics, considering factors that contribute to non-linear trends.\n",
    "\n",
    "*Distribution of Carbon Isotopes in Lake Sediments:*\n",
    "Environmental studies often involve analyzing the distribution of carbon isotopes in lake sediments. Polynomial regression can help model the intricate relationships within these distributions, enabling a more nuanced understanding of environmental processes."
   ]
  },
  {
   "cell_type": "markdown",
   "metadata": {},
   "source": [
    "```{admonition} Dataset explanation\n",
    "In the following example, the application of polynomial regression is demonstrated through *the prediction of measles cases in Almaty for the year 2023*. Accurate predictions of measles cases are imperative for effective public health management and resource allocation, particularly given the significant impact of measles outbreaks on both economies and public health.<br>\n",
    "\n",
    "The dataset used for the model includes historical measles case data for each month from January to October 2023 in Almaty. This data was carefully gathered from the government's statistical site, stat.gov.kz. In the diagram below, the step-by-step stages of the prediction process are illustrated.<br>\n",
    "```"
   ]
  },
  {
   "cell_type": "markdown",
   "metadata": {},
   "source": [
    "<img src=\"images/photo3.png\" \n",
    "     align=\"center\" \n",
    "     width=\"250\" />\n",
    "\n",
    "The efficiency of the model is assessed using key metrics, including mean squared error and R-squared. The results convincingly demonstrate that the polynomial regression model accurately predicts the trend of measles instances over time. This predictive approach not only enhances the understanding of the dynamics of the measles outbreak but also provides valuable insights for informed decision-making in public health interventions."
   ]
  },
  {
   "cell_type": "code",
   "execution_count": 76,
   "metadata": {
    "tags": [
     "hide-input"
    ]
   },
   "outputs": [
    {
     "name": "stdout",
     "output_type": "stream",
     "text": [
      "Predicted Cases for November: 967.4666666666673\n",
      "Predicted Cases for December: 1182.6909090909098\n"
     ]
    },
    {
     "data": {
      "application/vnd.plotly.v1+json": {
       "config": {
        "plotlyServerURL": "https://plot.ly"
       },
       "data": [
        {
         "mode": "markers",
         "name": "Actual Data",
         "type": "scatter",
         "x": [
          1,
          2,
          3,
          4,
          5,
          6,
          7,
          8,
          9,
          10
         ],
         "y": [
          0,
          0,
          29,
          43,
          0,
          240,
          355,
          497,
          667,
          693
         ]
        },
        {
         "line": {
          "color": "red"
         },
         "mode": "lines",
         "name": "Polynomial Regression (Degree 2)",
         "type": "scatter",
         "x": [
          1,
          1.1111111111111112,
          1.2222222222222223,
          1.3333333333333333,
          1.4444444444444444,
          1.5555555555555556,
          1.6666666666666665,
          1.7777777777777777,
          1.8888888888888888,
          2,
          2.111111111111111,
          2.2222222222222223,
          2.333333333333333,
          2.4444444444444446,
          2.5555555555555554,
          2.6666666666666665,
          2.7777777777777777,
          2.888888888888889,
          3,
          3.111111111111111,
          3.2222222222222223,
          3.333333333333333,
          3.444444444444444,
          3.5555555555555554,
          3.6666666666666665,
          3.7777777777777777,
          3.888888888888889,
          4,
          4.111111111111111,
          4.222222222222221,
          4.333333333333333,
          4.444444444444445,
          4.555555555555555,
          4.666666666666666,
          4.777777777777778,
          4.888888888888889,
          5,
          5.111111111111111,
          5.222222222222222,
          5.333333333333333,
          5.444444444444445,
          5.555555555555555,
          5.666666666666666,
          5.777777777777778,
          5.888888888888888,
          6,
          6.111111111111111,
          6.222222222222222,
          6.333333333333333,
          6.444444444444444,
          6.555555555555555,
          6.666666666666666,
          6.777777777777778,
          6.888888888888888,
          7,
          7.111111111111111,
          7.222222222222221,
          7.333333333333333,
          7.444444444444444,
          7.555555555555555,
          7.666666666666666,
          7.777777777777778,
          7.888888888888888,
          8,
          8.11111111111111,
          8.222222222222221,
          8.333333333333332,
          8.444444444444443,
          8.555555555555555,
          8.666666666666666,
          8.777777777777779,
          8.88888888888889,
          9,
          9.11111111111111,
          9.222222222222221,
          9.333333333333332,
          9.444444444444445,
          9.555555555555555,
          9.666666666666666,
          9.777777777777777,
          9.88888888888889,
          10,
          10.11111111111111,
          10.222222222222221,
          10.333333333333332,
          10.444444444444445,
          10.555555555555555,
          10.666666666666666,
          10.777777777777777,
          10.888888888888888,
          11,
          11.11111111111111,
          11.222222222222221,
          11.333333333333332,
          11.444444444444445,
          11.555555555555555,
          11.666666666666666,
          11.777777777777777,
          11.888888888888888,
          12
         ],
         "y": [
          -13.109090909091051,
          -13.917321361765953,
          -14.462551440329367,
          -14.744781144781292,
          -14.764010475121736,
          -14.520239431350692,
          -14.01346801346817,
          -13.243696221474153,
          -12.210924055368654,
          -10.91515151515167,
          -9.356378600823199,
          -7.534605312383247,
          -5.449831649831809,
          -3.1020576131688813,
          -0.4912832023944693,
          2.382491582491428,
          5.519266741488803,
          8.919042274597679,
          12.581818181818026,
          16.507594463149875,
          20.696371118593195,
          25.14814814814798,
          29.86292555181429,
          34.84070332959207,
          40.08148148148133,
          45.585260007482084,
          51.35203890759432,
          57.38181818181805,
          63.67459783015322,
          70.23037785259991,
          77.04915824915811,
          84.13093901982779,
          91.47572016460893,
          99.08350168350152,
          106.95428357650566,
          115.08806584362131,
          123.48484848484838,
          132.14463150018693,
          141.067414889637,
          150.25319865319855,
          159.70198279087163,
          169.41376730265608,
          179.3885521885521,
          189.6263374485596,
          200.12712308267854,
          210.89090909090902,
          221.91769547325097,
          233.20748222970442,
          244.7602693602693,
          256.5760568649456,
          268.6548447437336,
          280.9966329966329,
          293.60142162364383,
          306.46921062476616,
          319.6,
          332.9937897493453,
          346.650579872802,
          360.57037037037037,
          374.7531612420501,
          389.19895248784144,
          403.9077441077441,
          418.8795361017584,
          434.1143284698841,
          449.61212121212134,
          465.3729143284699,
          481.39670781893,
          497.6835016835017,
          514.2332959221848,
          531.0460905349796,
          548.1218855218856,
          565.4606808829034,
          583.0624766180324,
          600.9272727272729,
          619.0550692106249,
          637.4458660680883,
          656.0996632996633,
          675.0164609053501,
          694.1962588851479,
          713.6390572390574,
          733.3448559670783,
          753.313655069211,
          773.5454545454548,
          794.0402543958102,
          814.7980546202771,
          835.8188552188553,
          857.1026561915454,
          878.6494575383467,
          900.4592592592596,
          922.5320613542839,
          944.8678638234195,
          967.4666666666672,
          990.3284698840258,
          1013.453273475496,
          1036.8410774410777,
          1060.491881780771,
          1084.405686494576,
          1108.582491582492,
          1133.0222970445197,
          1157.7251028806586,
          1182.6909090909098
         ]
        },
        {
         "marker": {
          "color": "black",
          "size": 10
         },
         "mode": "markers",
         "name": "Predictions",
         "type": "scatter",
         "x": [
          11,
          12
         ],
         "y": [
          967.4666666666673,
          1182.6909090909098
         ]
        }
       ],
       "layout": {
        "template": {
         "data": {
          "bar": [
           {
            "error_x": {
             "color": "#2a3f5f"
            },
            "error_y": {
             "color": "#2a3f5f"
            },
            "marker": {
             "line": {
              "color": "#E5ECF6",
              "width": 0.5
             },
             "pattern": {
              "fillmode": "overlay",
              "size": 10,
              "solidity": 0.2
             }
            },
            "type": "bar"
           }
          ],
          "barpolar": [
           {
            "marker": {
             "line": {
              "color": "#E5ECF6",
              "width": 0.5
             },
             "pattern": {
              "fillmode": "overlay",
              "size": 10,
              "solidity": 0.2
             }
            },
            "type": "barpolar"
           }
          ],
          "carpet": [
           {
            "aaxis": {
             "endlinecolor": "#2a3f5f",
             "gridcolor": "white",
             "linecolor": "white",
             "minorgridcolor": "white",
             "startlinecolor": "#2a3f5f"
            },
            "baxis": {
             "endlinecolor": "#2a3f5f",
             "gridcolor": "white",
             "linecolor": "white",
             "minorgridcolor": "white",
             "startlinecolor": "#2a3f5f"
            },
            "type": "carpet"
           }
          ],
          "choropleth": [
           {
            "colorbar": {
             "outlinewidth": 0,
             "ticks": ""
            },
            "type": "choropleth"
           }
          ],
          "contour": [
           {
            "colorbar": {
             "outlinewidth": 0,
             "ticks": ""
            },
            "colorscale": [
             [
              0,
              "#0d0887"
             ],
             [
              0.1111111111111111,
              "#46039f"
             ],
             [
              0.2222222222222222,
              "#7201a8"
             ],
             [
              0.3333333333333333,
              "#9c179e"
             ],
             [
              0.4444444444444444,
              "#bd3786"
             ],
             [
              0.5555555555555556,
              "#d8576b"
             ],
             [
              0.6666666666666666,
              "#ed7953"
             ],
             [
              0.7777777777777778,
              "#fb9f3a"
             ],
             [
              0.8888888888888888,
              "#fdca26"
             ],
             [
              1,
              "#f0f921"
             ]
            ],
            "type": "contour"
           }
          ],
          "contourcarpet": [
           {
            "colorbar": {
             "outlinewidth": 0,
             "ticks": ""
            },
            "type": "contourcarpet"
           }
          ],
          "heatmap": [
           {
            "colorbar": {
             "outlinewidth": 0,
             "ticks": ""
            },
            "colorscale": [
             [
              0,
              "#0d0887"
             ],
             [
              0.1111111111111111,
              "#46039f"
             ],
             [
              0.2222222222222222,
              "#7201a8"
             ],
             [
              0.3333333333333333,
              "#9c179e"
             ],
             [
              0.4444444444444444,
              "#bd3786"
             ],
             [
              0.5555555555555556,
              "#d8576b"
             ],
             [
              0.6666666666666666,
              "#ed7953"
             ],
             [
              0.7777777777777778,
              "#fb9f3a"
             ],
             [
              0.8888888888888888,
              "#fdca26"
             ],
             [
              1,
              "#f0f921"
             ]
            ],
            "type": "heatmap"
           }
          ],
          "heatmapgl": [
           {
            "colorbar": {
             "outlinewidth": 0,
             "ticks": ""
            },
            "colorscale": [
             [
              0,
              "#0d0887"
             ],
             [
              0.1111111111111111,
              "#46039f"
             ],
             [
              0.2222222222222222,
              "#7201a8"
             ],
             [
              0.3333333333333333,
              "#9c179e"
             ],
             [
              0.4444444444444444,
              "#bd3786"
             ],
             [
              0.5555555555555556,
              "#d8576b"
             ],
             [
              0.6666666666666666,
              "#ed7953"
             ],
             [
              0.7777777777777778,
              "#fb9f3a"
             ],
             [
              0.8888888888888888,
              "#fdca26"
             ],
             [
              1,
              "#f0f921"
             ]
            ],
            "type": "heatmapgl"
           }
          ],
          "histogram": [
           {
            "marker": {
             "pattern": {
              "fillmode": "overlay",
              "size": 10,
              "solidity": 0.2
             }
            },
            "type": "histogram"
           }
          ],
          "histogram2d": [
           {
            "colorbar": {
             "outlinewidth": 0,
             "ticks": ""
            },
            "colorscale": [
             [
              0,
              "#0d0887"
             ],
             [
              0.1111111111111111,
              "#46039f"
             ],
             [
              0.2222222222222222,
              "#7201a8"
             ],
             [
              0.3333333333333333,
              "#9c179e"
             ],
             [
              0.4444444444444444,
              "#bd3786"
             ],
             [
              0.5555555555555556,
              "#d8576b"
             ],
             [
              0.6666666666666666,
              "#ed7953"
             ],
             [
              0.7777777777777778,
              "#fb9f3a"
             ],
             [
              0.8888888888888888,
              "#fdca26"
             ],
             [
              1,
              "#f0f921"
             ]
            ],
            "type": "histogram2d"
           }
          ],
          "histogram2dcontour": [
           {
            "colorbar": {
             "outlinewidth": 0,
             "ticks": ""
            },
            "colorscale": [
             [
              0,
              "#0d0887"
             ],
             [
              0.1111111111111111,
              "#46039f"
             ],
             [
              0.2222222222222222,
              "#7201a8"
             ],
             [
              0.3333333333333333,
              "#9c179e"
             ],
             [
              0.4444444444444444,
              "#bd3786"
             ],
             [
              0.5555555555555556,
              "#d8576b"
             ],
             [
              0.6666666666666666,
              "#ed7953"
             ],
             [
              0.7777777777777778,
              "#fb9f3a"
             ],
             [
              0.8888888888888888,
              "#fdca26"
             ],
             [
              1,
              "#f0f921"
             ]
            ],
            "type": "histogram2dcontour"
           }
          ],
          "mesh3d": [
           {
            "colorbar": {
             "outlinewidth": 0,
             "ticks": ""
            },
            "type": "mesh3d"
           }
          ],
          "parcoords": [
           {
            "line": {
             "colorbar": {
              "outlinewidth": 0,
              "ticks": ""
             }
            },
            "type": "parcoords"
           }
          ],
          "pie": [
           {
            "automargin": true,
            "type": "pie"
           }
          ],
          "scatter": [
           {
            "fillpattern": {
             "fillmode": "overlay",
             "size": 10,
             "solidity": 0.2
            },
            "type": "scatter"
           }
          ],
          "scatter3d": [
           {
            "line": {
             "colorbar": {
              "outlinewidth": 0,
              "ticks": ""
             }
            },
            "marker": {
             "colorbar": {
              "outlinewidth": 0,
              "ticks": ""
             }
            },
            "type": "scatter3d"
           }
          ],
          "scattercarpet": [
           {
            "marker": {
             "colorbar": {
              "outlinewidth": 0,
              "ticks": ""
             }
            },
            "type": "scattercarpet"
           }
          ],
          "scattergeo": [
           {
            "marker": {
             "colorbar": {
              "outlinewidth": 0,
              "ticks": ""
             }
            },
            "type": "scattergeo"
           }
          ],
          "scattergl": [
           {
            "marker": {
             "colorbar": {
              "outlinewidth": 0,
              "ticks": ""
             }
            },
            "type": "scattergl"
           }
          ],
          "scattermapbox": [
           {
            "marker": {
             "colorbar": {
              "outlinewidth": 0,
              "ticks": ""
             }
            },
            "type": "scattermapbox"
           }
          ],
          "scatterpolar": [
           {
            "marker": {
             "colorbar": {
              "outlinewidth": 0,
              "ticks": ""
             }
            },
            "type": "scatterpolar"
           }
          ],
          "scatterpolargl": [
           {
            "marker": {
             "colorbar": {
              "outlinewidth": 0,
              "ticks": ""
             }
            },
            "type": "scatterpolargl"
           }
          ],
          "scatterternary": [
           {
            "marker": {
             "colorbar": {
              "outlinewidth": 0,
              "ticks": ""
             }
            },
            "type": "scatterternary"
           }
          ],
          "surface": [
           {
            "colorbar": {
             "outlinewidth": 0,
             "ticks": ""
            },
            "colorscale": [
             [
              0,
              "#0d0887"
             ],
             [
              0.1111111111111111,
              "#46039f"
             ],
             [
              0.2222222222222222,
              "#7201a8"
             ],
             [
              0.3333333333333333,
              "#9c179e"
             ],
             [
              0.4444444444444444,
              "#bd3786"
             ],
             [
              0.5555555555555556,
              "#d8576b"
             ],
             [
              0.6666666666666666,
              "#ed7953"
             ],
             [
              0.7777777777777778,
              "#fb9f3a"
             ],
             [
              0.8888888888888888,
              "#fdca26"
             ],
             [
              1,
              "#f0f921"
             ]
            ],
            "type": "surface"
           }
          ],
          "table": [
           {
            "cells": {
             "fill": {
              "color": "#EBF0F8"
             },
             "line": {
              "color": "white"
             }
            },
            "header": {
             "fill": {
              "color": "#C8D4E3"
             },
             "line": {
              "color": "white"
             }
            },
            "type": "table"
           }
          ]
         },
         "layout": {
          "annotationdefaults": {
           "arrowcolor": "#2a3f5f",
           "arrowhead": 0,
           "arrowwidth": 1
          },
          "autotypenumbers": "strict",
          "coloraxis": {
           "colorbar": {
            "outlinewidth": 0,
            "ticks": ""
           }
          },
          "colorscale": {
           "diverging": [
            [
             0,
             "#8e0152"
            ],
            [
             0.1,
             "#c51b7d"
            ],
            [
             0.2,
             "#de77ae"
            ],
            [
             0.3,
             "#f1b6da"
            ],
            [
             0.4,
             "#fde0ef"
            ],
            [
             0.5,
             "#f7f7f7"
            ],
            [
             0.6,
             "#e6f5d0"
            ],
            [
             0.7,
             "#b8e186"
            ],
            [
             0.8,
             "#7fbc41"
            ],
            [
             0.9,
             "#4d9221"
            ],
            [
             1,
             "#276419"
            ]
           ],
           "sequential": [
            [
             0,
             "#0d0887"
            ],
            [
             0.1111111111111111,
             "#46039f"
            ],
            [
             0.2222222222222222,
             "#7201a8"
            ],
            [
             0.3333333333333333,
             "#9c179e"
            ],
            [
             0.4444444444444444,
             "#bd3786"
            ],
            [
             0.5555555555555556,
             "#d8576b"
            ],
            [
             0.6666666666666666,
             "#ed7953"
            ],
            [
             0.7777777777777778,
             "#fb9f3a"
            ],
            [
             0.8888888888888888,
             "#fdca26"
            ],
            [
             1,
             "#f0f921"
            ]
           ],
           "sequentialminus": [
            [
             0,
             "#0d0887"
            ],
            [
             0.1111111111111111,
             "#46039f"
            ],
            [
             0.2222222222222222,
             "#7201a8"
            ],
            [
             0.3333333333333333,
             "#9c179e"
            ],
            [
             0.4444444444444444,
             "#bd3786"
            ],
            [
             0.5555555555555556,
             "#d8576b"
            ],
            [
             0.6666666666666666,
             "#ed7953"
            ],
            [
             0.7777777777777778,
             "#fb9f3a"
            ],
            [
             0.8888888888888888,
             "#fdca26"
            ],
            [
             1,
             "#f0f921"
            ]
           ]
          },
          "colorway": [
           "#636efa",
           "#EF553B",
           "#00cc96",
           "#ab63fa",
           "#FFA15A",
           "#19d3f3",
           "#FF6692",
           "#B6E880",
           "#FF97FF",
           "#FECB52"
          ],
          "font": {
           "color": "#2a3f5f"
          },
          "geo": {
           "bgcolor": "white",
           "lakecolor": "white",
           "landcolor": "#E5ECF6",
           "showlakes": true,
           "showland": true,
           "subunitcolor": "white"
          },
          "hoverlabel": {
           "align": "left"
          },
          "hovermode": "closest",
          "mapbox": {
           "style": "light"
          },
          "paper_bgcolor": "white",
          "plot_bgcolor": "#E5ECF6",
          "polar": {
           "angularaxis": {
            "gridcolor": "white",
            "linecolor": "white",
            "ticks": ""
           },
           "bgcolor": "#E5ECF6",
           "radialaxis": {
            "gridcolor": "white",
            "linecolor": "white",
            "ticks": ""
           }
          },
          "scene": {
           "xaxis": {
            "backgroundcolor": "#E5ECF6",
            "gridcolor": "white",
            "gridwidth": 2,
            "linecolor": "white",
            "showbackground": true,
            "ticks": "",
            "zerolinecolor": "white"
           },
           "yaxis": {
            "backgroundcolor": "#E5ECF6",
            "gridcolor": "white",
            "gridwidth": 2,
            "linecolor": "white",
            "showbackground": true,
            "ticks": "",
            "zerolinecolor": "white"
           },
           "zaxis": {
            "backgroundcolor": "#E5ECF6",
            "gridcolor": "white",
            "gridwidth": 2,
            "linecolor": "white",
            "showbackground": true,
            "ticks": "",
            "zerolinecolor": "white"
           }
          },
          "shapedefaults": {
           "line": {
            "color": "#2a3f5f"
           }
          },
          "ternary": {
           "aaxis": {
            "gridcolor": "white",
            "linecolor": "white",
            "ticks": ""
           },
           "baxis": {
            "gridcolor": "white",
            "linecolor": "white",
            "ticks": ""
           },
           "bgcolor": "#E5ECF6",
           "caxis": {
            "gridcolor": "white",
            "linecolor": "white",
            "ticks": ""
           }
          },
          "title": {
           "x": 0.05
          },
          "xaxis": {
           "automargin": true,
           "gridcolor": "white",
           "linecolor": "white",
           "ticks": "",
           "title": {
            "standoff": 15
           },
           "zerolinecolor": "white",
           "zerolinewidth": 2
          },
          "yaxis": {
           "automargin": true,
           "gridcolor": "white",
           "linecolor": "white",
           "ticks": "",
           "title": {
            "standoff": 15
           },
           "zerolinecolor": "white",
           "zerolinewidth": 2
          }
         }
        },
        "title": {
         "text": "Measles Cases Polynomial Regression"
        },
        "xaxis": {
         "title": {
          "text": "Month"
         }
        },
        "yaxis": {
         "title": {
          "text": "Cases"
         }
        }
       }
      }
     },
     "metadata": {},
     "output_type": "display_data"
    }
   ],
   "source": [
    "import numpy as np\n",
    "import plotly.graph_objects as go\n",
    "from sklearn.linear_model import LinearRegression\n",
    "from sklearn.preprocessing import PolynomialFeatures\n",
    "# Provided data\n",
    "months = np.array([1, 2, 3, 4, 5, 6, 7, 8, 9, 10])\n",
    "cases = np.array([0, 0, 29, 43, 0, 240, 355, 497, 667, 693])\n",
    "\n",
    "# Reshape data for scikit-learn\n",
    "months = months.reshape(-1, 1)\n",
    "\n",
    "# Fit polynomial regression model\n",
    "degree = 2  \n",
    "poly_features = PolynomialFeatures(degree=degree)\n",
    "months_poly = poly_features.fit_transform(months)\n",
    "\n",
    "model = LinearRegression()\n",
    "model.fit(months_poly, cases)\n",
    "\n",
    "# Predictions for November and December\n",
    "november = np.array([[11]])\n",
    "december = np.array([[12]])\n",
    "\n",
    "november_poly = poly_features.transform(november)\n",
    "december_poly = poly_features.transform(december)\n",
    "\n",
    "cases_november = model.predict(november_poly)\n",
    "cases_december = model.predict(december_poly)\n",
    "\n",
    "print(f\"Predicted Cases for November: {cases_november[0]}\")\n",
    "print(f\"Predicted Cases for December: {cases_december[0]}\")\n",
    "\n",
    "# Plot the results using Plotly\n",
    "months_range = np.linspace(1, 12, 100).reshape(-1, 1)\n",
    "months_range_poly = poly_features.transform(months_range)\n",
    "cases_range_pred = model.predict(months_range_poly)\n",
    "\n",
    "fig = go.Figure()\n",
    "\n",
    "# Scatter plot of the actual data\n",
    "fig.add_trace(go.Scatter(x=months.flatten(), y=cases, mode='markers', name='Actual Data'))\n",
    "\n",
    "# Plot the regression line\n",
    "fig.add_trace(go.Scatter(x=months_range.flatten(), y=cases_range_pred, mode='lines', line=dict(color='red'), name=f'Polynomial Regression (Degree {degree})'))\n",
    "\n",
    "# Mark November and December predictions\n",
    "fig.add_trace(go.Scatter(x=[11, 12], y=[cases_november[0], cases_december[0]], mode='markers', marker=dict(color='black', size=10), name='Predictions'))\n",
    "\n",
    "# Set plot title and axis labels\n",
    "fig.update_layout(title='Measles Cases Polynomial Regression', xaxis_title='Month', yaxis_title='Cases')\n",
    "\n",
    "# Show the interactive plot\n",
    "fig.show()"
   ]
  },
  {
   "cell_type": "markdown",
   "metadata": {},
   "source": [
    "In November and December, we will be facing 967 and 1182 cases of measles, respectively, based on the polynomial regression model fitted to the historical data from January to October 2023."
   ]
  },
  {
   "cell_type": "markdown",
   "metadata": {},
   "source": [
    "## Challenges in polynomial regression"
   ]
  },
  {
   "cell_type": "markdown",
   "metadata": {},
   "source": [
    "By increasing the degree of the polynomial, we introduce more flexibility into the model. This increased flexibility allows the model to fit the data more closely and capture complex patterns that a linear model might miss. While polynomial models can be powerful tools for capturing complex relationships in data, there are cases where their performance might be poor:\n",
    "\n",
    "1. *Overfitting:*\n",
    "   * One common issue with polynomial models is overfitting. When the degree of the polynomial is too high, the model may fit the training data extremely well, capturing noise and fluctuations in the data. However, this can lead to poor generalization to new, unseen data.\n",
    "\n",
    "2. *Limited Data:*\n",
    "   * Polynomial models, especially those with high degrees, require a large amount of data to generalize well. In cases where the dataset is small, the model may fit the noise in the data instead of the underlying pattern, resulting in poor performance on new samples.\n",
    "\n",
    "3. *Computational Complexity:*\n",
    "   * Higher-degree polynomial models involve more parameters and computations, making them computationally more intensive. This can be a concern in real-time applications or situations with resource constraints.\n",
    "\n",
    "4. *Outliers:*\n",
    "   * Polynomial models are sensitive to outliers. A few extreme data points can heavily influence the fitted curve, leading to poor performance, especially when the outliers are not representative of the underlying pattern.\n",
    "\n",
    "5. *Selecting the Correct Degree:*\n",
    "   * Choosing the right degree for the polynomial model is a challenge. Too low a degree may result in underfitting, while too high a degree may lead to overfitting. Selecting an appropriate degree requires domain knowledge or experimentation.\n",
    "\n",
    "Understanding these limitations is essential when working with polynomial models. It emphasizes the importance of model validation, regularization techniques, and careful consideration of the complexity introduced by the choice of the polynomial degree."
   ]
  },
  {
   "cell_type": "markdown",
   "metadata": {},
   "source": [
    "<span style=\"display:none\" id=\"q_2\">W3sicXVlc3Rpb24iOiAiV2hhdCBpcyB0aGUgbWFpbiBhZHZhbnRhZ2Ugb2YgcG9seW5vbWlhbCByZWdyZXNzaW9uPyIsICJ0eXBlIjogIm1hbnlfY2hvaWNlIiwgImFuc3dlcnMiOiBbeyJhbnN3ZXIiOiAiUHJvdmlkZXMgdGhlIGJlc3QgYXBwcm94aW1hdGlvbiBvZiB0aGUgcmVsYXRpb25zaGlwIGJldHdlZW4gZGVwZW5kZW50IGFuZCBpbmRlcGVuZGVudCB2YXJpYWJsZXNsIiwgImNvcnJlY3QiOiB0cnVlLCAiZmVlZGJhY2siOiAiUG9seW5vbWlhbCBpcyBhIHR5cGUgb2YgY3VydmUgdGhhdCBjYW4gYWNjb21tb2RhdGUgYSB3aWRlIHZhcmlldHkgb2YgY3VydmF0dXJlcyJ9LCB7ImFuc3dlciI6ICJBIGJyb2FkIHJhbmdlIG9mIGZ1bmN0aW9ucyBjYW5ub3QgYmUgZml0IHVuZGVyIGl0IiwgImNvcnJlY3QiOiBmYWxzZSwgImZlZWRiYWNrIjogIlF1aXRlIHRoZSBvcHBvc2l0ZSJ9LCB7ImFuc3dlciI6ICJUaGUgcHJlc2VuY2Ugb2Ygb25lIG9yIHR3byBvdXRsaWVycyBpbiB0aGUgZGF0YSBjYW4gc2VyaW91c2x5IGFmZmVjdCB0aGUgcmVzdWx0cyBvZiBub25saW5lYXIgYW5hbHlzaXMiLCAiY29ycmVjdCI6IGZhbHNlLCAiZmVlZGJhY2siOiAiVGhhdCBpcyBub3QgYW4gYWR2YW50YWdlIn0sIHsiYW5zd2VyIjogIlRoZXJlIGFyZSBmZXdlciBtb2RlbCB2YWxpZGF0aW9uIHRvb2xzIGZvciB0aGUgZGV0ZWN0aW9uIG9mIG91dGxpZXJzIGluIG5vbmxpbmVhciByZWdyZXNzaW9uIHRoYW4gdGhlcmUgYXJlIGZvciBsaW5lYXIgcmVncmVzc2lvbiIsICJjb3JyZWN0IjogZmFsc2UsICJmZWVkYmFjayI6ICJUaGF0J3MgYSBkaXNhZHZhbnRhZ2UifV19XQ==</span>"
   ]
  },
  {
   "cell_type": "code",
   "execution_count": 77,
   "metadata": {
    "tags": [
     "remove-input"
    ]
   },
   "outputs": [
    {
     "data": {
      "text/html": [
       "<div id=\"zCUEfenIJlRY\" data-shufflequestions=\"False\"\n",
       "               data-shuffleanswers=\"True\"\n",
       "               data-preserveresponses=\"false\"\n",
       "               data-numquestions=\"1000000\"\n",
       "               data-maxwidth=\"600\"\n",
       "               style=\"border-radius: 10px; text-align: left\"> <style>\n",
       "#zCUEfenIJlRY {\n",
       "   --jq-multiple-choice-bg: #6f78ffff;\n",
       "   --jq-mc-button-bg: #fafafa;\n",
       "   --jq-mc-button-border: #e0e0e0e0;\n",
       "   --jq-mc-button-inset-shadow: #555555;\n",
       "   --jq-many-choice-bg: #f75c03ff;\n",
       "   --jq-numeric-bg: #392061ff;\n",
       "   --jq-numeric-input-bg: #c0c0c0;\n",
       "   --jq-numeric-input-label: #101010;\n",
       "   --jq-numeric-input-shadow: #999999;\n",
       "   --jq-incorrect-color: #c80202;\n",
       "   --jq-correct-color: #009113;\n",
       "   --jq-text-color: #fafafa;\n",
       "}\n",
       "\n",
       ".Quiz {\n",
       "    max-width: 600px;\n",
       "    margin-top: 15px;\n",
       "    margin-left: auto;\n",
       "    margin-right: auto;\n",
       "    margin-bottom: 15px;\n",
       "    padding-bottom: 4px;\n",
       "    padding-top: 4px;\n",
       "    line-height: 1.1;\n",
       "    font-size: 16pt;\n",
       "    border-radius: inherit;\n",
       "}\n",
       "\n",
       ".QuizCode {\n",
       "    font-size: 14pt;\n",
       "    margin-top: 10px;\n",
       "    margin-left: 20px;\n",
       "    margin-right: 20px;\n",
       "}\n",
       "\n",
       ".QuizCode>pre {\n",
       "    padding: 4px;\n",
       "}\n",
       "\n",
       ".Answer {\n",
       "    margin: 10px 0;\n",
       "    display: grid;\n",
       "    grid-template-columns: 1fr 1fr;\n",
       "    grid-gap: 10px;\n",
       "    border-radius: inherit;\n",
       "}\n",
       "\n",
       ".Feedback {\n",
       "    font-size: 16pt;\n",
       "    text-align: center;\n",
       "    min-height: 2em;\n",
       "}\n",
       "\n",
       ".Input {\n",
       "    align: left;\n",
       "    font-size: 20pt;\n",
       "}\n",
       "\n",
       ".Input-text {\n",
       "    display: block;\n",
       "    margin: 10px;\n",
       "    color: inherit;\n",
       "    width: 140px;\n",
       "    background-color: var(--jq-numeric-input-bg);\n",
       "    color: var(--jq-text-color);\n",
       "    padding: 5px;\n",
       "    padding-left: 10px;\n",
       "    font-family: inherit;\n",
       "    font-size: 20px;\n",
       "    font-weight: inherit;\n",
       "    line-height: 20pt;\n",
       "    border: none;\n",
       "    border-radius: 0.2rem;\n",
       "    transition: box-shadow 0.1s);\n",
       "}\n",
       "\n",
       ".Input-text:focus {\n",
       "    outline: none;\n",
       "    background-color: var(--jq-numeric-input-bg);\n",
       "    box-shadow: 0.6rem 0.8rem 1.4rem -0.5rem var(--jq-numeric-input-shadow);\n",
       "}\n",
       "\n",
       ".MCButton {\n",
       "    background: var(--jq-mc-button-bg);\n",
       "    border: 1px solid var(--jq-mc-button-border);\n",
       "    border-radius: inherit;\n",
       "    padding: 10px;\n",
       "    font-size: 16px;\n",
       "    cursor: pointer;\n",
       "    text-align: center;\n",
       "    display: flex;\n",
       "    align-items: center;\n",
       "    justify-content: center;\n",
       "}\n",
       "\n",
       ".MCButton p {\n",
       "    color: inherit;\n",
       "}\n",
       "\n",
       ".MultipleChoiceQn {\n",
       "    padding: 10px;\n",
       "    background: var(--jq-multiple-choice-bg);\n",
       "    color: var(--jq-text-color);\n",
       "    border-radius: inherit;\n",
       "}\n",
       "\n",
       ".ManyChoiceQn {\n",
       "    padding: 10px;\n",
       "    background: var(--jq-many-choice-bg);\n",
       "    color: var(--jq-text-color);\n",
       "    border-radius: inherit;\n",
       "}\n",
       "\n",
       ".NumericQn {\n",
       "    padding: 10px;\n",
       "    background: var(--jq-numeric-bg);\n",
       "    color: var(--jq-text-color);\n",
       "    border-radius: inherit;\n",
       "}\n",
       "\n",
       ".NumericQn p {\n",
       "    color: inherit;\n",
       "}\n",
       "\n",
       ".InpLabel {\n",
       "    line-height: 34px;\n",
       "    float: left;\n",
       "    margin-right: 10px;\n",
       "    color: var(--jq-numeric-input-label);\n",
       "    font-size: 15pt;\n",
       "}\n",
       "\n",
       ".incorrect {\n",
       "    color: var(--jq-incorrect-color);\n",
       "}\n",
       "\n",
       ".correct {\n",
       "    color: var(--jq-correct-color);\n",
       "}\n",
       "\n",
       ".correctButton {\n",
       "    /*\n",
       "    background: var(--jq-correct-color);\n",
       "   */\n",
       "    animation: correct-anim 0.6s ease;\n",
       "    animation-fill-mode: forwards;\n",
       "    color: var(--jq-text-color);\n",
       "    box-shadow: inset 0px 0px 5px var(--jq-mc-button-inset-shadow);\n",
       "    outline: none;\n",
       "}\n",
       "\n",
       ".incorrectButton {\n",
       "    animation: incorrect-anim 0.8s ease;\n",
       "    animation-fill-mode: forwards;\n",
       "    color: var(--jq-text-color);\n",
       "    box-shadow: inset 0px 0px 5px var(--jq-mc-button-inset-shadow);\n",
       "    outline: none;\n",
       "}\n",
       "\n",
       "@keyframes incorrect-anim {\n",
       "    100% {\n",
       "        background-color: var(--jq-incorrect-color);\n",
       "    }\n",
       "}\n",
       "\n",
       "@keyframes correct-anim {\n",
       "    100% {\n",
       "        background-color: var(--jq-correct-color);\n",
       "    }\n",
       "}\n",
       "</style>"
      ],
      "text/plain": [
       "<IPython.core.display.HTML object>"
      ]
     },
     "metadata": {},
     "output_type": "display_data"
    },
    {
     "data": {
      "application/javascript": "var element=document.getElementById(\"q_2\");\n            var questionszCUEfenIJlRY;\n            try {\n               questionszCUEfenIJlRY=JSON.parse(window.atob(element.innerHTML));\n            } catch(err) {\n               console.log(\"Fell into catch\");\n               questionszCUEfenIJlRY = JSON.parse(element.innerHTML);\n            }\n            console.log(questionszCUEfenIJlRY);;\n    // Make a random ID\nfunction makeid(length) {\n    var result = [];\n    var characters = 'ABCDEFGHIJKLMNOPQRSTUVWXYZabcdefghijklmnopqrstuvwxyz';\n    var charactersLength = characters.length;\n    for (var i = 0; i < length; i++) {\n        result.push(characters.charAt(Math.floor(Math.random() * charactersLength)));\n    }\n    return result.join('');\n}\n\n// Choose a random subset of an array. Can also be used to shuffle the array\nfunction getRandomSubarray(arr, size) {\n    var shuffled = arr.slice(0), i = arr.length, temp, index;\n    while (i--) {\n        index = Math.floor((i + 1) * Math.random());\n        temp = shuffled[index];\n        shuffled[index] = shuffled[i];\n        shuffled[i] = temp;\n    }\n    return shuffled.slice(0, size);\n}\n\nfunction printResponses(responsesContainer) {\n    var responses=JSON.parse(responsesContainer.dataset.responses);\n    var stringResponses='<B>IMPORTANT!</B>To preserve this answer sequence for submission, when you have finalized your answers: <ol> <li> Copy the text in this cell below \"Answer String\"</li> <li> Double click on the cell directly below the Answer String, labeled \"Replace Me\"</li> <li> Select the whole \"Replace Me\" text</li> <li> Paste in your answer string and press shift-Enter.</li><li>Save the notebook using the save icon or File->Save Notebook menu item</li></ul><br><br><br><b>Answer String:</b><br> ';\n    console.log(responses);\n    responses.forEach((response, index) => {\n        if (response) {\n            console.log(index + ': ' + response);\n            stringResponses+= index + ': ' + response +\"<BR>\";\n        }\n    });\n    responsesContainer.innerHTML=stringResponses;\n}\nfunction check_mc() {\n    var id = this.id.split('-')[0];\n    //var response = this.id.split('-')[1];\n    //console.log(response);\n    //console.log(\"In check_mc(), id=\"+id);\n    //console.log(event.srcElement.id)           \n    //console.log(event.srcElement.dataset.correct)   \n    //console.log(event.srcElement.dataset.feedback)\n\n    var label = event.srcElement;\n    //console.log(label, label.nodeName);\n    var depth = 0;\n    while ((label.nodeName != \"LABEL\") && (depth < 20)) {\n        label = label.parentElement;\n        console.log(depth, label);\n        depth++;\n    }\n\n\n\n    var answers = label.parentElement.children;\n\n    //console.log(answers);\n\n\n    // Split behavior based on multiple choice vs many choice:\n    var fb = document.getElementById(\"fb\" + id);\n\n\n\n\n    if (fb.dataset.numcorrect == 1) {\n        // What follows is for the saved responses stuff\n        var outerContainer = fb.parentElement.parentElement;\n        var responsesContainer = document.getElementById(\"responses\" + outerContainer.id);\n        if (responsesContainer) {\n            //console.log(responsesContainer);\n            var response = label.firstChild.innerText;\n            if (label.querySelector(\".QuizCode\")){\n                response+= label.querySelector(\".QuizCode\").firstChild.innerText;\n            }\n            console.log(response);\n            //console.log(document.getElementById(\"quizWrap\"+id));\n            var qnum = document.getElementById(\"quizWrap\"+id).dataset.qnum;\n            console.log(\"Question \" + qnum);\n            //console.log(id, \", got numcorrect=\",fb.dataset.numcorrect);\n            var responses=JSON.parse(responsesContainer.dataset.responses);\n            console.log(responses);\n            responses[qnum]= response;\n            responsesContainer.setAttribute('data-responses', JSON.stringify(responses));\n            printResponses(responsesContainer);\n        }\n        // End code to preserve responses\n        \n        for (var i = 0; i < answers.length; i++) {\n            var child = answers[i];\n            //console.log(child);\n            child.className = \"MCButton\";\n        }\n\n\n\n        if (label.dataset.correct == \"true\") {\n            // console.log(\"Correct action\");\n            if (\"feedback\" in label.dataset) {\n                fb.textContent = jaxify(label.dataset.feedback);\n            } else {\n                fb.textContent = \"Correct!\";\n            }\n            label.classList.add(\"correctButton\");\n\n            fb.className = \"Feedback\";\n            fb.classList.add(\"correct\");\n\n        } else {\n            if (\"feedback\" in label.dataset) {\n                fb.textContent = jaxify(label.dataset.feedback);\n            } else {\n                fb.textContent = \"Incorrect -- try again.\";\n            }\n            //console.log(\"Error action\");\n            label.classList.add(\"incorrectButton\");\n            fb.className = \"Feedback\";\n            fb.classList.add(\"incorrect\");\n        }\n    }\n    else {\n        var reset = false;\n        var feedback;\n         if (label.dataset.correct == \"true\") {\n            if (\"feedback\" in label.dataset) {\n                feedback = jaxify(label.dataset.feedback);\n            } else {\n                feedback = \"Correct!\";\n            }\n            if (label.dataset.answered <= 0) {\n                if (fb.dataset.answeredcorrect < 0) {\n                    fb.dataset.answeredcorrect = 1;\n                    reset = true;\n                } else {\n                    fb.dataset.answeredcorrect++;\n                }\n                if (reset) {\n                    for (var i = 0; i < answers.length; i++) {\n                        var child = answers[i];\n                        child.className = \"MCButton\";\n                        child.dataset.answered = 0;\n                    }\n                }\n                label.classList.add(\"correctButton\");\n                label.dataset.answered = 1;\n                fb.className = \"Feedback\";\n                fb.classList.add(\"correct\");\n\n            }\n        } else {\n            if (\"feedback\" in label.dataset) {\n                feedback = jaxify(label.dataset.feedback);\n            } else {\n                feedback = \"Incorrect -- try again.\";\n            }\n            if (fb.dataset.answeredcorrect > 0) {\n                fb.dataset.answeredcorrect = -1;\n                reset = true;\n            } else {\n                fb.dataset.answeredcorrect--;\n            }\n\n            if (reset) {\n                for (var i = 0; i < answers.length; i++) {\n                    var child = answers[i];\n                    child.className = \"MCButton\";\n                    child.dataset.answered = 0;\n                }\n            }\n            label.classList.add(\"incorrectButton\");\n            fb.className = \"Feedback\";\n            fb.classList.add(\"incorrect\");\n        }\n        // What follows is for the saved responses stuff\n        var outerContainer = fb.parentElement.parentElement;\n        var responsesContainer = document.getElementById(\"responses\" + outerContainer.id);\n        if (responsesContainer) {\n            //console.log(responsesContainer);\n            var response = label.firstChild.innerText;\n            if (label.querySelector(\".QuizCode\")){\n                response+= label.querySelector(\".QuizCode\").firstChild.innerText;\n            }\n            console.log(response);\n            //console.log(document.getElementById(\"quizWrap\"+id));\n            var qnum = document.getElementById(\"quizWrap\"+id).dataset.qnum;\n            console.log(\"Question \" + qnum);\n            //console.log(id, \", got numcorrect=\",fb.dataset.numcorrect);\n            var responses=JSON.parse(responsesContainer.dataset.responses);\n            if (label.dataset.correct == \"true\") {\n                if (typeof(responses[qnum]) == \"object\"){\n                    if (!responses[qnum].includes(response))\n                        responses[qnum].push(response);\n                } else{\n                    responses[qnum]= [ response ];\n                }\n            } else {\n                responses[qnum]= response;\n            }\n            console.log(responses);\n            responsesContainer.setAttribute('data-responses', JSON.stringify(responses));\n            printResponses(responsesContainer);\n        }\n        // End save responses stuff\n\n\n\n        var numcorrect = fb.dataset.numcorrect;\n        var answeredcorrect = fb.dataset.answeredcorrect;\n        if (answeredcorrect >= 0) {\n            fb.textContent = feedback + \" [\" + answeredcorrect + \"/\" + numcorrect + \"]\";\n        } else {\n            fb.textContent = feedback + \" [\" + 0 + \"/\" + numcorrect + \"]\";\n        }\n\n\n    }\n\n    if (typeof MathJax != 'undefined') {\n        var version = MathJax.version;\n        console.log('MathJax version', version);\n        if (version[0] == \"2\") {\n            MathJax.Hub.Queue([\"Typeset\", MathJax.Hub]);\n        } else if (version[0] == \"3\") {\n            MathJax.typeset([fb]);\n        }\n    } else {\n        console.log('MathJax not detected');\n    }\n\n}\n\nfunction make_mc(qa, shuffle_answers, outerqDiv, qDiv, aDiv, id) {\n    var shuffled;\n    if (shuffle_answers == \"True\") {\n        //console.log(shuffle_answers+\" read as true\");\n        shuffled = getRandomSubarray(qa.answers, qa.answers.length);\n    } else {\n        //console.log(shuffle_answers+\" read as false\");\n        shuffled = qa.answers;\n    }\n\n\n    var num_correct = 0;\n\n\n\n    shuffled.forEach((item, index, ans_array) => {\n        //console.log(answer);\n\n        // Make input element\n        var inp = document.createElement(\"input\");\n        inp.type = \"radio\";\n        inp.id = \"quizo\" + id + index;\n        inp.style = \"display:none;\";\n        aDiv.append(inp);\n\n        //Make label for input element\n        var lab = document.createElement(\"label\");\n        lab.className = \"MCButton\";\n        lab.id = id + '-' + index;\n        lab.onclick = check_mc;\n        var aSpan = document.createElement('span');\n        aSpan.classsName = \"\";\n        //qDiv.id=\"quizQn\"+id+index;\n        if (\"answer\" in item) {\n            aSpan.innerHTML = jaxify(item.answer);\n            //aSpan.innerHTML=item.answer;\n        }\n        lab.append(aSpan);\n\n        // Create div for code inside question\n        var codeSpan;\n        if (\"code\" in item) {\n            codeSpan = document.createElement('span');\n            codeSpan.id = \"code\" + id + index;\n            codeSpan.className = \"QuizCode\";\n            var codePre = document.createElement('pre');\n            codeSpan.append(codePre);\n            var codeCode = document.createElement('code');\n            codePre.append(codeCode);\n            codeCode.innerHTML = item.code;\n            lab.append(codeSpan);\n            //console.log(codeSpan);\n        }\n\n        //lab.textContent=item.answer;\n\n        // Set the data attributes for the answer\n        lab.setAttribute('data-correct', item.correct);\n        if (item.correct) {\n            num_correct++;\n        }\n        if (\"feedback\" in item) {\n            lab.setAttribute('data-feedback', item.feedback);\n        }\n        lab.setAttribute('data-answered', 0);\n\n        aDiv.append(lab);\n\n    });\n\n    if (num_correct > 1) {\n        outerqDiv.className = \"ManyChoiceQn\";\n    } else {\n        outerqDiv.className = \"MultipleChoiceQn\";\n    }\n\n    return num_correct;\n\n}\nfunction check_numeric(ths, event) {\n\n    if (event.keyCode === 13) {\n        ths.blur();\n\n        var id = ths.id.split('-')[0];\n\n        var submission = ths.value;\n        if (submission.indexOf('/') != -1) {\n            var sub_parts = submission.split('/');\n            //console.log(sub_parts);\n            submission = sub_parts[0] / sub_parts[1];\n        }\n        //console.log(\"Reader entered\", submission);\n\n        if (\"precision\" in ths.dataset) {\n            var precision = ths.dataset.precision;\n            // console.log(\"1:\", submission)\n            submission = Math.round((1 * submission + Number.EPSILON) * 10 ** precision) / 10 ** precision;\n            // console.log(\"Rounded to \", submission, \" precision=\", precision  );\n        }\n\n\n        //console.log(\"In check_numeric(), id=\"+id);\n        //console.log(event.srcElement.id)           \n        //console.log(event.srcElement.dataset.feedback)\n\n        var fb = document.getElementById(\"fb\" + id);\n        fb.style.display = \"none\";\n        fb.textContent = \"Incorrect -- try again.\";\n\n        var answers = JSON.parse(ths.dataset.answers);\n        //console.log(answers);\n\n        var defaultFB = \"\";\n        var correct;\n        var done = false;\n        answers.every(answer => {\n            //console.log(answer.type);\n\n            correct = false;\n            // if (answer.type==\"value\"){\n            if ('value' in answer) {\n                if (submission == answer.value) {\n                    if (\"feedback\" in answer) {\n                        fb.textContent = jaxify(answer.feedback);\n                    } else {\n                        fb.textContent = jaxify(\"Correct\");\n                    }\n                    correct = answer.correct;\n                    //console.log(answer.correct);\n                    done = true;\n                }\n                // } else if (answer.type==\"range\") {\n            } else if ('range' in answer) {\n                //console.log(answer.range);\n                if ((submission >= answer.range[0]) && (submission < answer.range[1])) {\n                    fb.textContent = jaxify(answer.feedback);\n                    correct = answer.correct;\n                    //console.log(answer.correct);\n                    done = true;\n                }\n            } else if (answer.type == \"default\") {\n                defaultFB = answer.feedback;\n            }\n            if (done) {\n                return false; // Break out of loop if this has been marked correct\n            } else {\n                return true; // Keep looking for case that includes this as a correct answer\n            }\n        });\n\n        if ((!done) && (defaultFB != \"\")) {\n            fb.innerHTML = jaxify(defaultFB);\n            //console.log(\"Default feedback\", defaultFB);\n        }\n\n        fb.style.display = \"block\";\n        if (correct) {\n            ths.className = \"Input-text\";\n            ths.classList.add(\"correctButton\");\n            fb.className = \"Feedback\";\n            fb.classList.add(\"correct\");\n        } else {\n            ths.className = \"Input-text\";\n            ths.classList.add(\"incorrectButton\");\n            fb.className = \"Feedback\";\n            fb.classList.add(\"incorrect\");\n        }\n\n        // What follows is for the saved responses stuff\n        var outerContainer = fb.parentElement.parentElement;\n        var responsesContainer = document.getElementById(\"responses\" + outerContainer.id);\n        if (responsesContainer) {\n            console.log(submission);\n            var qnum = document.getElementById(\"quizWrap\"+id).dataset.qnum;\n            //console.log(\"Question \" + qnum);\n            //console.log(id, \", got numcorrect=\",fb.dataset.numcorrect);\n            var responses=JSON.parse(responsesContainer.dataset.responses);\n            console.log(responses);\n            if (submission == ths.value){\n                responses[qnum]= submission;\n            } else {\n                responses[qnum]= ths.value + \"(\" + submission +\")\";\n            }\n            responsesContainer.setAttribute('data-responses', JSON.stringify(responses));\n            printResponses(responsesContainer);\n        }\n        // End code to preserve responses\n\n        if (typeof MathJax != 'undefined') {\n            var version = MathJax.version;\n            console.log('MathJax version', version);\n            if (version[0] == \"2\") {\n                MathJax.Hub.Queue([\"Typeset\", MathJax.Hub]);\n            } else if (version[0] == \"3\") {\n                MathJax.typeset([fb]);\n            }\n        } else {\n            console.log('MathJax not detected');\n        }\n        return false;\n    }\n\n}\n\nfunction isValid(el, charC) {\n    //console.log(\"Input char: \", charC);\n    if (charC == 46) {\n        if (el.value.indexOf('.') === -1) {\n            return true;\n        } else if (el.value.indexOf('/') != -1) {\n            var parts = el.value.split('/');\n            if (parts[1].indexOf('.') === -1) {\n                return true;\n            }\n        }\n        else {\n            return false;\n        }\n    } else if (charC == 47) {\n        if (el.value.indexOf('/') === -1) {\n            if ((el.value != \"\") && (el.value != \".\")) {\n                return true;\n            } else {\n                return false;\n            }\n        } else {\n            return false;\n        }\n    } else if (charC == 45) {\n        var edex = el.value.indexOf('e');\n        if (edex == -1) {\n            edex = el.value.indexOf('E');\n        }\n\n        if (el.value == \"\") {\n            return true;\n        } else if (edex == (el.value.length - 1)) { // If just after e or E\n            return true;\n        } else {\n            return false;\n        }\n    } else if (charC == 101) { // \"e\"\n        if ((el.value.indexOf('e') === -1) && (el.value.indexOf('E') === -1) && (el.value.indexOf('/') == -1)) {\n            // Prev symbol must be digit or decimal point:\n            if (el.value.slice(-1).search(/\\d/) >= 0) {\n                return true;\n            } else if (el.value.slice(-1).search(/\\./) >= 0) {\n                return true;\n            } else {\n                return false;\n            }\n        } else {\n            return false;\n        }\n    } else {\n        if (charC > 31 && (charC < 48 || charC > 57))\n            return false;\n    }\n    return true;\n}\n\nfunction numeric_keypress(evnt) {\n    var charC = (evnt.which) ? evnt.which : evnt.keyCode;\n\n    if (charC == 13) {\n        check_numeric(this, evnt);\n    } else {\n        return isValid(this, charC);\n    }\n}\n\n\n\n\n\nfunction make_numeric(qa, outerqDiv, qDiv, aDiv, id) {\n\n\n\n    //console.log(answer);\n\n\n    outerqDiv.className = \"NumericQn\";\n    aDiv.style.display = 'block';\n\n    var lab = document.createElement(\"label\");\n    lab.className = \"InpLabel\";\n    lab.textContent = \"Type numeric answer here:\";\n    aDiv.append(lab);\n\n    var inp = document.createElement(\"input\");\n    inp.type = \"text\";\n    //inp.id=\"input-\"+id;\n    inp.id = id + \"-0\";\n    inp.className = \"Input-text\";\n    inp.setAttribute('data-answers', JSON.stringify(qa.answers));\n    if (\"precision\" in qa) {\n        inp.setAttribute('data-precision', qa.precision);\n    }\n    aDiv.append(inp);\n    //console.log(inp);\n\n    //inp.addEventListener(\"keypress\", check_numeric);\n    //inp.addEventListener(\"keypress\", numeric_keypress);\n    /*\n    inp.addEventListener(\"keypress\", function(event) {\n        return numeric_keypress(this, event);\n    }\n                        );\n                        */\n    //inp.onkeypress=\"return numeric_keypress(this, event)\";\n    inp.onkeypress = numeric_keypress;\n    inp.onpaste = event => false;\n\n    inp.addEventListener(\"focus\", function (event) {\n        this.value = \"\";\n        return false;\n    }\n    );\n\n\n}\nfunction jaxify(string) {\n    var mystring = string;\n\n    var count = 0;\n    var loc = mystring.search(/([^\\\\]|^)(\\$)/);\n\n    var count2 = 0;\n    var loc2 = mystring.search(/([^\\\\]|^)(\\$\\$)/);\n\n    //console.log(loc);\n\n    while ((loc >= 0) || (loc2 >= 0)) {\n\n        /* Have to replace all the double $$ first with current implementation */\n        if (loc2 >= 0) {\n            if (count2 % 2 == 0) {\n                mystring = mystring.replace(/([^\\\\]|^)(\\$\\$)/, \"$1\\\\[\");\n            } else {\n                mystring = mystring.replace(/([^\\\\]|^)(\\$\\$)/, \"$1\\\\]\");\n            }\n            count2++;\n        } else {\n            if (count % 2 == 0) {\n                mystring = mystring.replace(/([^\\\\]|^)(\\$)/, \"$1\\\\(\");\n            } else {\n                mystring = mystring.replace(/([^\\\\]|^)(\\$)/, \"$1\\\\)\");\n            }\n            count++;\n        }\n        loc = mystring.search(/([^\\\\]|^)(\\$)/);\n        loc2 = mystring.search(/([^\\\\]|^)(\\$\\$)/);\n        //console.log(mystring,\", loc:\",loc,\", loc2:\",loc2);\n    }\n\n    //console.log(mystring);\n    return mystring;\n}\n\n\nfunction show_questions(json, mydiv) {\n    console.log('show_questions');\n    //var mydiv=document.getElementById(myid);\n    var shuffle_questions = mydiv.dataset.shufflequestions;\n    var num_questions = mydiv.dataset.numquestions;\n    var shuffle_answers = mydiv.dataset.shuffleanswers;\n    var max_width = mydiv.dataset.maxwidth;\n\n    if (num_questions > json.length) {\n        num_questions = json.length;\n    }\n\n    var questions;\n    if ((num_questions < json.length) || (shuffle_questions == \"True\")) {\n        //console.log(num_questions+\",\"+json.length);\n        questions = getRandomSubarray(json, num_questions);\n    } else {\n        questions = json;\n    }\n\n    //console.log(\"SQ: \"+shuffle_questions+\", NQ: \" + num_questions + \", SA: \", shuffle_answers);\n\n    // Iterate over questions\n    questions.forEach((qa, index, array) => {\n        //console.log(qa.question); \n\n        var id = makeid(8);\n        //console.log(id);\n\n\n        // Create Div to contain question and answers\n        var iDiv = document.createElement('div');\n        //iDiv.id = 'quizWrap' + id + index;\n        iDiv.id = 'quizWrap' + id;\n        iDiv.className = 'Quiz';\n        iDiv.setAttribute('data-qnum', index);\n        iDiv.style.maxWidth  =max_width+\"px\";\n        mydiv.appendChild(iDiv);\n        // iDiv.innerHTML=qa.question;\n        \n        var outerqDiv = document.createElement('div');\n        outerqDiv.id = \"OuterquizQn\" + id + index;\n        // Create div to contain question part\n        var qDiv = document.createElement('div');\n        qDiv.id = \"quizQn\" + id + index;\n        \n        if (qa.question) {\n            iDiv.append(outerqDiv);\n\n            //qDiv.textContent=qa.question;\n            qDiv.innerHTML = jaxify(qa.question);\n            outerqDiv.append(qDiv);\n        }\n\n        // Create div for code inside question\n        var codeDiv;\n        if (\"code\" in qa) {\n            codeDiv = document.createElement('div');\n            codeDiv.id = \"code\" + id + index;\n            codeDiv.className = \"QuizCode\";\n            var codePre = document.createElement('pre');\n            codeDiv.append(codePre);\n            var codeCode = document.createElement('code');\n            codePre.append(codeCode);\n            codeCode.innerHTML = qa.code;\n            outerqDiv.append(codeDiv);\n            //console.log(codeDiv);\n        }\n\n\n        // Create div to contain answer part\n        var aDiv = document.createElement('div');\n        aDiv.id = \"quizAns\" + id + index;\n        aDiv.className = 'Answer';\n        iDiv.append(aDiv);\n\n        //console.log(qa.type);\n\n        var num_correct;\n        if ((qa.type == \"multiple_choice\") || (qa.type == \"many_choice\") ) {\n            num_correct = make_mc(qa, shuffle_answers, outerqDiv, qDiv, aDiv, id);\n            if (\"answer_cols\" in qa) {\n                //aDiv.style.gridTemplateColumns = 'auto '.repeat(qa.answer_cols);\n                aDiv.style.gridTemplateColumns = 'repeat(' + qa.answer_cols + ', 1fr)';\n            }\n        } else if (qa.type == \"numeric\") {\n            //console.log(\"numeric\");\n            make_numeric(qa, outerqDiv, qDiv, aDiv, id);\n        }\n\n\n        //Make div for feedback\n        var fb = document.createElement(\"div\");\n        fb.id = \"fb\" + id;\n        //fb.style=\"font-size: 20px;text-align:center;\";\n        fb.className = \"Feedback\";\n        fb.setAttribute(\"data-answeredcorrect\", 0);\n        fb.setAttribute(\"data-numcorrect\", num_correct);\n        iDiv.append(fb);\n\n\n    });\n    var preserveResponses = mydiv.dataset.preserveresponses;\n    console.log(preserveResponses);\n    console.log(preserveResponses == \"true\");\n    if (preserveResponses == \"true\") {\n        console.log(preserveResponses);\n        // Create Div to contain record of answers\n        var iDiv = document.createElement('div');\n        iDiv.id = 'responses' + mydiv.id;\n        iDiv.className = 'JCResponses';\n        // Create a place to store responses as an empty array\n        iDiv.setAttribute('data-responses', '[]');\n\n        // Dummy Text\n        iDiv.innerHTML=\"<b>Select your answers and then follow the directions that will appear here.</b>\"\n        //iDiv.className = 'Quiz';\n        mydiv.appendChild(iDiv);\n    }\n//console.log(\"At end of show_questions\");\n    if (typeof MathJax != 'undefined') {\n        console.log(\"MathJax version\", MathJax.version);\n        var version = MathJax.version;\n        setTimeout(function(){\n            var version = MathJax.version;\n            console.log('After sleep, MathJax version', version);\n            if (version[0] == \"2\") {\n                MathJax.Hub.Queue([\"Typeset\", MathJax.Hub]);\n            } else if (version[0] == \"3\") {\n                MathJax.typeset([mydiv]);\n            }\n        }, 500);\nif (typeof version == 'undefined') {\n        } else\n        {\n            if (version[0] == \"2\") {\n                MathJax.Hub.Queue([\"Typeset\", MathJax.Hub]);\n            } else if (version[0] == \"3\") {\n                MathJax.typeset([mydiv]);\n            } else {\n                console.log(\"MathJax not found\");\n            }\n        }\n    }\n    return false;\n}\n/* This is to handle asynchrony issues in loading Jupyter notebooks\n           where the quiz has been previously run. The Javascript was generally\n           being run before the div was added to the DOM. I tried to do this\n           more elegantly using Mutation Observer, but I didn't get it to work.\n\n           Someone more knowledgeable could make this better ;-) */\n\n        function try_show() {\n          if(document.getElementById(\"zCUEfenIJlRY\")) {\n            show_questions(questionszCUEfenIJlRY,  zCUEfenIJlRY); \n          } else {\n             setTimeout(try_show, 200);\n          }\n        };\n    \n        {\n        // console.log(element);\n\n        //console.log(\"zCUEfenIJlRY\");\n        // console.log(document.getElementById(\"zCUEfenIJlRY\"));\n\n        try_show();\n        }\n        ",
      "text/plain": [
       "<IPython.core.display.Javascript object>"
      ]
     },
     "metadata": {},
     "output_type": "display_data"
    }
   ],
   "source": [
    "display_quiz(\"#q_2\")"
   ]
  },
  {
   "cell_type": "markdown",
   "metadata": {},
   "source": [
    "## Exercises\n",
    "\n",
    "1. Find the analytical solution of the optimization task {eq}`quad-mse`.\n",
    "\n",
    "2. Find the feature matrix of the polynomial regression model {eq}`poly-reg`."
   ]
  },
  {
   "cell_type": "code",
   "execution_count": null,
   "metadata": {},
   "outputs": [],
   "source": []
  },
  {
   "cell_type": "code",
   "execution_count": null,
   "metadata": {},
   "outputs": [],
   "source": []
  },
  {
   "cell_type": "code",
   "execution_count": null,
   "metadata": {},
   "outputs": [],
   "source": []
  },
  {
   "cell_type": "code",
   "execution_count": null,
   "metadata": {},
   "outputs": [],
   "source": []
  },
  {
   "cell_type": "code",
   "execution_count": null,
   "metadata": {},
   "outputs": [],
   "source": []
  },
  {
   "cell_type": "code",
   "execution_count": null,
   "metadata": {},
   "outputs": [],
   "source": []
  }
 ],
 "metadata": {
  "kernelspec": {
   "display_name": "Python 3 (ipykernel)",
   "language": "python",
   "name": "python3"
  },
  "language_info": {
   "codemirror_mode": {
    "name": "ipython",
    "version": 3
   },
   "file_extension": ".py",
   "mimetype": "text/x-python",
   "name": "python",
   "nbconvert_exporter": "python",
   "pygments_lexer": "ipython3",
   "version": "3.12.0"
  }
 },
 "nbformat": 4,
 "nbformat_minor": 4
}
